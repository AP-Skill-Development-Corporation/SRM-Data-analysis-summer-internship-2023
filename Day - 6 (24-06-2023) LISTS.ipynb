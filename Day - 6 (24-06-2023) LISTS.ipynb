{
 "cells": [
  {
   "cell_type": "markdown",
   "id": "2afb3e39",
   "metadata": {},
   "source": [
    "### Data Stuctures\n",
    "\n",
    "* Data Structures are a way of Organizing and storing data\n",
    "* we have 4 types of data structures in python\n",
    "    * Lists\n",
    "    * Tuple\n",
    "    * Dictionary\n",
    "    * Sets"
   ]
  },
  {
   "cell_type": "markdown",
   "id": "433d0aec",
   "metadata": {},
   "source": [
    "### Lists\n",
    "\n",
    "* Lists is a ordered collection of items, which contains data of similar type or different data types\n",
    "* Lists allows duplicates\n",
    "* Listwe is mutable i.e we can able to change items inside a list after creation of list \n",
    "* list are created by using []\n"
   ]
  },
  {
   "cell_type": "code",
   "execution_count": 2,
   "id": "92d3f58f",
   "metadata": {},
   "outputs": [
    {
     "data": {
      "text/plain": [
       "list"
      ]
     },
     "execution_count": 2,
     "metadata": {},
     "output_type": "execute_result"
    }
   ],
   "source": [
    "# empty list\n",
    "l=[]\n",
    "type(l)"
   ]
  },
  {
   "cell_type": "code",
   "execution_count": 3,
   "id": "17a1bace",
   "metadata": {},
   "outputs": [
    {
     "data": {
      "text/plain": [
       "list"
      ]
     },
     "execution_count": 3,
     "metadata": {},
     "output_type": "execute_result"
    }
   ],
   "source": [
    "l1=list()\n",
    "type(l1)"
   ]
  },
  {
   "cell_type": "code",
   "execution_count": 5,
   "id": "beb333af",
   "metadata": {},
   "outputs": [
    {
     "name": "stdout",
     "output_type": "stream",
     "text": [
      "[12, 45.6, 12, 'python']\n"
     ]
    }
   ],
   "source": [
    "l=[12,45.6,12,'python']   # diff data types\n",
    "print(l)"
   ]
  },
  {
   "cell_type": "code",
   "execution_count": 11,
   "id": "a450cd8c",
   "metadata": {},
   "outputs": [
    {
     "name": "stdout",
     "output_type": "stream",
     "text": [
      "<class 'list'>\n",
      "5\n",
      "90\n",
      "11\n",
      "171\n",
      "[11, 12, 13, 45, 90]\n"
     ]
    }
   ],
   "source": [
    "l=[11,12,45,13,90]\n",
    "\n",
    "print(type(l))\n",
    "print(len(l))\n",
    "print(max(l))\n",
    "print(min(l))\n",
    "print(sum(l))\n",
    "print(sorted(l))"
   ]
  },
  {
   "cell_type": "code",
   "execution_count": null,
   "id": "b8ba1fc7",
   "metadata": {},
   "outputs": [],
   "source": [
    "## accessing and slicing"
   ]
  },
  {
   "cell_type": "code",
   "execution_count": 15,
   "id": "4f6ad38b",
   "metadata": {},
   "outputs": [
    {
     "name": "stdout",
     "output_type": "stream",
     "text": [
      "45\n",
      "45\n"
     ]
    }
   ],
   "source": [
    "### accessing elements inside list\n",
    "\n",
    "l=[23,45,67,89,34]\n",
    "#   0  1  2  3  4    forward index or poitive index\n",
    "#  -5 -4 -3 -2 -1    backward index or negative index\n",
    "\n",
    "print(l[1])\n",
    "print(l[-4])"
   ]
  },
  {
   "cell_type": "code",
   "execution_count": 16,
   "id": "6d36fc44",
   "metadata": {},
   "outputs": [
    {
     "data": {
      "text/plain": [
       "23"
      ]
     },
     "execution_count": 16,
     "metadata": {},
     "output_type": "execute_result"
    }
   ],
   "source": [
    "l[0]"
   ]
  },
  {
   "cell_type": "code",
   "execution_count": 17,
   "id": "47ccf381",
   "metadata": {},
   "outputs": [
    {
     "data": {
      "text/plain": [
       "23"
      ]
     },
     "execution_count": 17,
     "metadata": {},
     "output_type": "execute_result"
    }
   ],
   "source": [
    "l[-5]"
   ]
  },
  {
   "cell_type": "code",
   "execution_count": null,
   "id": "c3ea538b",
   "metadata": {},
   "outputs": [],
   "source": [
    "### Slicing : [start:end:step]"
   ]
  },
  {
   "cell_type": "code",
   "execution_count": 21,
   "id": "eb328565",
   "metadata": {},
   "outputs": [
    {
     "name": "stdout",
     "output_type": "stream",
     "text": [
      "23\n",
      "67\n",
      "34\n"
     ]
    }
   ],
   "source": [
    "l=[23,45,67,89,34]\n",
    "# 23,67,34    \n",
    "\n",
    "for i in range(0,len(l),2):\n",
    "    print(l[i])"
   ]
  },
  {
   "cell_type": "code",
   "execution_count": 23,
   "id": "0b3023c5",
   "metadata": {},
   "outputs": [
    {
     "data": {
      "text/plain": [
       "[23, 67, 34]"
      ]
     },
     "execution_count": 23,
     "metadata": {},
     "output_type": "execute_result"
    }
   ],
   "source": [
    "l[0:5:2]"
   ]
  },
  {
   "cell_type": "code",
   "execution_count": 27,
   "id": "4f77f4ba",
   "metadata": {},
   "outputs": [
    {
     "data": {
      "text/plain": [
       "[23, 67, 34]"
      ]
     },
     "execution_count": 27,
     "metadata": {},
     "output_type": "execute_result"
    }
   ],
   "source": [
    "l[::2]"
   ]
  },
  {
   "cell_type": "code",
   "execution_count": 26,
   "id": "2d8c2c52",
   "metadata": {},
   "outputs": [
    {
     "data": {
      "text/plain": [
       "[45, 89]"
      ]
     },
     "execution_count": 26,
     "metadata": {},
     "output_type": "execute_result"
    }
   ],
   "source": [
    "# 45,89\n",
    "\n",
    "l[1:5:2] # l[1::2]"
   ]
  },
  {
   "cell_type": "code",
   "execution_count": 28,
   "id": "634248f9",
   "metadata": {},
   "outputs": [
    {
     "data": {
      "text/plain": [
       "[34, 89, 67, 45, 23]"
      ]
     },
     "execution_count": 28,
     "metadata": {},
     "output_type": "execute_result"
    }
   ],
   "source": [
    "l=[23,45,67,89,34]\n",
    "l[::-1]"
   ]
  },
  {
   "cell_type": "code",
   "execution_count": 34,
   "id": "231e2cec",
   "metadata": {},
   "outputs": [
    {
     "data": {
      "text/plain": [
       "[1, 2, 3, 4, 5, 6]"
      ]
     },
     "execution_count": 34,
     "metadata": {},
     "output_type": "execute_result"
    }
   ],
   "source": [
    "# concatenate list +\n",
    "\n",
    "l1=[1,2,3]\n",
    "l2=[4,5,6]\n",
    "l3=l1+l2\n",
    "l3"
   ]
  },
  {
   "cell_type": "code",
   "execution_count": 33,
   "id": "59ec6836",
   "metadata": {},
   "outputs": [
    {
     "data": {
      "text/plain": [
       "[1, 2, 3, 1, 2, 3, 1, 2, 3, 1, 2, 3]"
      ]
     },
     "execution_count": 33,
     "metadata": {},
     "output_type": "execute_result"
    }
   ],
   "source": [
    "# repetition *\n",
    "\n",
    "l1*4"
   ]
  },
  {
   "cell_type": "code",
   "execution_count": 39,
   "id": "1e88fe7d",
   "metadata": {},
   "outputs": [
    {
     "name": "stdout",
     "output_type": "stream",
     "text": [
      "[90, 8, 7, [100, 200, 300], 'python']\n",
      "90\n",
      "8\n"
     ]
    }
   ],
   "source": [
    "# nested list\n",
    "\n",
    "nl=[90,8,7,[100,200,300],'python']\n",
    "print(nl)\n",
    "print(nl[0])\n",
    "print(nl[1])"
   ]
  },
  {
   "cell_type": "code",
   "execution_count": 41,
   "id": "edbf196f",
   "metadata": {},
   "outputs": [
    {
     "name": "stdout",
     "output_type": "stream",
     "text": [
      "[100, 200, 300]\n"
     ]
    }
   ],
   "source": [
    "# accessing nested list items\n",
    "print(nl[3])"
   ]
  },
  {
   "cell_type": "code",
   "execution_count": 43,
   "id": "b16853b1",
   "metadata": {},
   "outputs": [
    {
     "data": {
      "text/plain": [
       "100"
      ]
     },
     "execution_count": 43,
     "metadata": {},
     "output_type": "execute_result"
    }
   ],
   "source": [
    "nl[3][0]"
   ]
  },
  {
   "cell_type": "code",
   "execution_count": 44,
   "id": "9f16d1f1",
   "metadata": {},
   "outputs": [
    {
     "data": {
      "text/plain": [
       "200"
      ]
     },
     "execution_count": 44,
     "metadata": {},
     "output_type": "execute_result"
    }
   ],
   "source": [
    "nl[3][1]"
   ]
  },
  {
   "cell_type": "code",
   "execution_count": 45,
   "id": "08c2b536",
   "metadata": {},
   "outputs": [
    {
     "data": {
      "text/plain": [
       "[90, 8, 7, [100, 200, 300], 'python']"
      ]
     },
     "execution_count": 45,
     "metadata": {},
     "output_type": "execute_result"
    }
   ],
   "source": [
    "nl"
   ]
  },
  {
   "cell_type": "code",
   "execution_count": 46,
   "id": "19ab1f61",
   "metadata": {},
   "outputs": [
    {
     "data": {
      "text/plain": [
       "'python'"
      ]
     },
     "execution_count": 46,
     "metadata": {},
     "output_type": "execute_result"
    }
   ],
   "source": [
    "nl[4]"
   ]
  },
  {
   "cell_type": "code",
   "execution_count": 48,
   "id": "2a092978",
   "metadata": {},
   "outputs": [
    {
     "data": {
      "text/plain": [
       "[90, 8, 7, [100, 200, 300], 89]"
      ]
     },
     "execution_count": 48,
     "metadata": {},
     "output_type": "execute_result"
    }
   ],
   "source": [
    "nl[4]=89   # list is mutable\n",
    "nl"
   ]
  },
  {
   "cell_type": "code",
   "execution_count": 50,
   "id": "e9584745",
   "metadata": {},
   "outputs": [
    {
     "name": "stdout",
     "output_type": "stream",
     "text": [
      "['__add__', '__class__', '__class_getitem__', '__contains__', '__delattr__', '__delitem__', '__dir__', '__doc__', '__eq__', '__format__', '__ge__', '__getattribute__', '__getitem__', '__gt__', '__hash__', '__iadd__', '__imul__', '__init__', '__init_subclass__', '__iter__', '__le__', '__len__', '__lt__', '__mul__', '__ne__', '__new__', '__reduce__', '__reduce_ex__', '__repr__', '__reversed__', '__rmul__', '__setattr__', '__setitem__', '__sizeof__', '__str__', '__subclasshook__', 'append', 'clear', 'copy', 'count', 'extend', 'index', 'insert', 'pop', 'remove', 'reverse', 'sort'] "
     ]
    }
   ],
   "source": [
    "print(dir(list),end=\" \")"
   ]
  },
  {
   "cell_type": "code",
   "execution_count": 54,
   "id": "d7aa1569",
   "metadata": {},
   "outputs": [
    {
     "ename": "IndexError",
     "evalue": "list assignment index out of range",
     "output_type": "error",
     "traceback": [
      "\u001b[1;31m---------------------------------------------------------------------------\u001b[0m",
      "\u001b[1;31mIndexError\u001b[0m                                Traceback (most recent call last)",
      "\u001b[1;32m~\\AppData\\Local\\Temp\\ipykernel_5828\\3967759204.py\u001b[0m in \u001b[0;36m<module>\u001b[1;34m\u001b[0m\n\u001b[0;32m      1\u001b[0m \u001b[0ml\u001b[0m\u001b[1;33m=\u001b[0m\u001b[1;33m[\u001b[0m\u001b[1;36m1\u001b[0m\u001b[1;33m,\u001b[0m\u001b[1;36m2\u001b[0m\u001b[1;33m,\u001b[0m\u001b[1;36m3\u001b[0m\u001b[1;33m,\u001b[0m\u001b[1;36m4\u001b[0m\u001b[1;33m,\u001b[0m\u001b[1;36m5\u001b[0m\u001b[1;33m]\u001b[0m\u001b[1;33m\u001b[0m\u001b[1;33m\u001b[0m\u001b[0m\n\u001b[1;32m----> 2\u001b[1;33m \u001b[0ml\u001b[0m\u001b[1;33m[\u001b[0m\u001b[1;36m5\u001b[0m\u001b[1;33m]\u001b[0m\u001b[1;33m=\u001b[0m\u001b[1;36m6\u001b[0m\u001b[1;33m\u001b[0m\u001b[1;33m\u001b[0m\u001b[0m\n\u001b[0m",
      "\u001b[1;31mIndexError\u001b[0m: list assignment index out of range"
     ]
    }
   ],
   "source": [
    "l=[1,2,3,4,5]\n",
    "l[5]=6"
   ]
  },
  {
   "cell_type": "code",
   "execution_count": 56,
   "id": "644dcdf7",
   "metadata": {},
   "outputs": [
    {
     "data": {
      "text/plain": [
       "[1, 2, 3, 4, 5, 6]"
      ]
     },
     "execution_count": 56,
     "metadata": {},
     "output_type": "execute_result"
    }
   ],
   "source": [
    "l=[1,2,3,4,5]\n",
    "l.append(6)  # end of a list\n",
    "l"
   ]
  },
  {
   "cell_type": "code",
   "execution_count": 57,
   "id": "af121d00",
   "metadata": {},
   "outputs": [
    {
     "name": "stdout",
     "output_type": "stream",
     "text": [
      "no of elements: 4\n",
      "78\n",
      "89\n",
      "56\n",
      "34\n",
      "[78, 89, 56, 34]\n"
     ]
    }
   ],
   "source": [
    "# take input list from a user\n",
    "\n",
    "l=[]\n",
    "n=int(input(\"no of elements: \"))\n",
    "\n",
    "for i in range(0,n):\n",
    "    e=int(input())\n",
    "    l.append(e)\n",
    "print(l)\n",
    "    "
   ]
  },
  {
   "cell_type": "code",
   "execution_count": 59,
   "id": "8ba51f75",
   "metadata": {},
   "outputs": [
    {
     "name": "stdout",
     "output_type": "stream",
     "text": [
      "[1, 2, 3, 4, 5, 10, 20, 30]\n",
      "[10, 20, 30]\n"
     ]
    }
   ],
   "source": [
    "# extend\n",
    "l=[1,2,3,4,5]\n",
    "l2=[10,20,30]\n",
    "l.extend(l2)   \n",
    "print(l)\n",
    "print(l2)\n"
   ]
  },
  {
   "cell_type": "code",
   "execution_count": 60,
   "id": "6f7a6740",
   "metadata": {},
   "outputs": [
    {
     "name": "stdout",
     "output_type": "stream",
     "text": [
      "[1, 2, 3, 4, 5, [10, 20, 30]]\n",
      "[10, 20, 30]\n"
     ]
    }
   ],
   "source": [
    "# extend\n",
    "l=[1,2,3,4,5]\n",
    "l2=[10,20,30]\n",
    "l.append(l2)   \n",
    "print(l)\n",
    "print(l2)\n"
   ]
  },
  {
   "cell_type": "code",
   "execution_count": 61,
   "id": "3ce942e3",
   "metadata": {},
   "outputs": [
    {
     "data": {
      "text/plain": [
       "[1, 2, 3, 4, 5, [10, 20, 30]]"
      ]
     },
     "execution_count": 61,
     "metadata": {},
     "output_type": "execute_result"
    }
   ],
   "source": [
    "l"
   ]
  },
  {
   "cell_type": "code",
   "execution_count": 63,
   "id": "efc1125b",
   "metadata": {},
   "outputs": [
    {
     "name": "stdout",
     "output_type": "stream",
     "text": [
      "[10, 20, 30, 100, 40]\n"
     ]
    }
   ],
   "source": [
    "# 100\n",
    "\n",
    "l1=[10,20,30,40]\n",
    " \n",
    "l1.insert(3,100)  # index,element\n",
    "print(l1)"
   ]
  },
  {
   "cell_type": "code",
   "execution_count": 64,
   "id": "1ab484e8",
   "metadata": {},
   "outputs": [
    {
     "data": {
      "text/plain": [
       "[10, 20, 30, 100, 40, 90, 30, 56]"
      ]
     },
     "execution_count": 64,
     "metadata": {},
     "output_type": "execute_result"
    }
   ],
   "source": [
    "l1.extend([90,30,56])\n",
    "l1"
   ]
  },
  {
   "cell_type": "code",
   "execution_count": 66,
   "id": "e836a02f",
   "metadata": {},
   "outputs": [
    {
     "data": {
      "text/plain": [
       "2"
      ]
     },
     "execution_count": 66,
     "metadata": {},
     "output_type": "execute_result"
    }
   ],
   "source": [
    "l1.count(30)"
   ]
  },
  {
   "cell_type": "code",
   "execution_count": 67,
   "id": "63f2d69e",
   "metadata": {},
   "outputs": [
    {
     "data": {
      "text/plain": [
       "5"
      ]
     },
     "execution_count": 67,
     "metadata": {},
     "output_type": "execute_result"
    }
   ],
   "source": [
    "l1.index(90)  # index of a element inside a list"
   ]
  },
  {
   "cell_type": "code",
   "execution_count": 68,
   "id": "60ce827c",
   "metadata": {},
   "outputs": [],
   "source": [
    "l1.remove(100)  # element value"
   ]
  },
  {
   "cell_type": "code",
   "execution_count": 70,
   "id": "6e36ce40",
   "metadata": {},
   "outputs": [
    {
     "data": {
      "text/plain": [
       "[10, 20, 30, 40, 90, 30, 56]"
      ]
     },
     "execution_count": 70,
     "metadata": {},
     "output_type": "execute_result"
    }
   ],
   "source": [
    "l1"
   ]
  },
  {
   "cell_type": "code",
   "execution_count": 71,
   "id": "59877ee5",
   "metadata": {},
   "outputs": [
    {
     "data": {
      "text/plain": [
       "[20, 30, 40, 90, 30, 56]"
      ]
     },
     "execution_count": 71,
     "metadata": {},
     "output_type": "execute_result"
    }
   ],
   "source": [
    "l1.pop(0)  # index\n",
    "l1\n"
   ]
  },
  {
   "cell_type": "code",
   "execution_count": 76,
   "id": "b757c124",
   "metadata": {},
   "outputs": [
    {
     "name": "stdout",
     "output_type": "stream",
     "text": [
      "[5, 4, 3, 2, 12]\n",
      "[5, 4, 3, 2, 12]\n"
     ]
    }
   ],
   "source": [
    "l=[12,2,3,4,5]\n",
    "l.reverse()\n",
    "print(l)\n",
    "l=[12,2,3,4,5]\n",
    "print(l[::-1])"
   ]
  },
  {
   "cell_type": "code",
   "execution_count": 79,
   "id": "c7ff0cac",
   "metadata": {},
   "outputs": [
    {
     "name": "stdout",
     "output_type": "stream",
     "text": [
      "increasing order:  [2, 3, 4, 5, 12, 23, 45]\n",
      "Decreaing order:  [45, 23, 12, 5, 4, 3, 2]\n"
     ]
    }
   ],
   "source": [
    "l=[12,2,3,45,23,4,5]\n",
    "l.sort()\n",
    "print(\"increasing order: \",l)\n",
    "l.sort(reverse=True)\n",
    "print(\"Decreaing order: \",l)"
   ]
  },
  {
   "cell_type": "code",
   "execution_count": 81,
   "id": "9d4271a8",
   "metadata": {},
   "outputs": [
    {
     "name": "stdout",
     "output_type": "stream",
     "text": [
      "True\n"
     ]
    }
   ],
   "source": [
    "l=[12,2,3,45,23,4,5]\n",
    "print(4 in l)"
   ]
  },
  {
   "cell_type": "code",
   "execution_count": 82,
   "id": "535b7f61",
   "metadata": {},
   "outputs": [
    {
     "name": "stdout",
     "output_type": "stream",
     "text": [
      "False\n"
     ]
    }
   ],
   "source": [
    "print(98 in l)"
   ]
  },
  {
   "cell_type": "code",
   "execution_count": 84,
   "id": "cdb709ee",
   "metadata": {},
   "outputs": [
    {
     "name": "stdout",
     "output_type": "stream",
     "text": [
      "[1, 2, 3]\n",
      "[1, 2, 3]\n",
      "[1, 2, 3, 4]\n",
      "[1, 2, 3, 4]\n"
     ]
    }
   ],
   "source": [
    "# assignment\n",
    "l=[1,2,3]\n",
    "al=l\n",
    "print(l)\n",
    "print(al)\n",
    "al.append(4)\n",
    "print(l)\n",
    "print(al)"
   ]
  },
  {
   "cell_type": "code",
   "execution_count": 86,
   "id": "bd9c7bd7",
   "metadata": {},
   "outputs": [
    {
     "name": "stdout",
     "output_type": "stream",
     "text": [
      "[1, 2, 3]\n",
      "[1, 2, 3]\n",
      "[1, 2, 3]\n",
      "[1, 2, 3, 4]\n"
     ]
    }
   ],
   "source": [
    "# copy\n",
    "l=[1,2,3]\n",
    "al=l.copy()\n",
    "print(l)\n",
    "print(al)\n",
    "al.append(4)\n",
    "print(l)\n",
    "print(al)"
   ]
  },
  {
   "cell_type": "code",
   "execution_count": 87,
   "id": "c4c5865c",
   "metadata": {},
   "outputs": [],
   "source": [
    "l.clear()"
   ]
  },
  {
   "cell_type": "code",
   "execution_count": 88,
   "id": "f8d973fc",
   "metadata": {},
   "outputs": [
    {
     "data": {
      "text/plain": [
       "[]"
      ]
     },
     "execution_count": 88,
     "metadata": {},
     "output_type": "execute_result"
    }
   ],
   "source": [
    "l"
   ]
  },
  {
   "cell_type": "code",
   "execution_count": 89,
   "id": "6d612eb3",
   "metadata": {},
   "outputs": [],
   "source": [
    "del l"
   ]
  },
  {
   "cell_type": "code",
   "execution_count": 90,
   "id": "c977b74d",
   "metadata": {},
   "outputs": [
    {
     "ename": "NameError",
     "evalue": "name 'l' is not defined",
     "output_type": "error",
     "traceback": [
      "\u001b[1;31m---------------------------------------------------------------------------\u001b[0m",
      "\u001b[1;31mNameError\u001b[0m                                 Traceback (most recent call last)",
      "\u001b[1;32m~\\AppData\\Local\\Temp\\ipykernel_5828\\3723490112.py\u001b[0m in \u001b[0;36m<module>\u001b[1;34m\u001b[0m\n\u001b[1;32m----> 1\u001b[1;33m \u001b[0ml\u001b[0m\u001b[1;33m\u001b[0m\u001b[1;33m\u001b[0m\u001b[0m\n\u001b[0m",
      "\u001b[1;31mNameError\u001b[0m: name 'l' is not defined"
     ]
    }
   ],
   "source": [
    "l"
   ]
  },
  {
   "cell_type": "code",
   "execution_count": null,
   "id": "6262f00e",
   "metadata": {},
   "outputs": [],
   "source": [
    "## unique elements\n",
    "\n",
    "l=[10,78,98,56,10,3,78]\n",
    "# [98,56,3]"
   ]
  },
  {
   "cell_type": "code",
   "execution_count": 95,
   "id": "4048450e",
   "metadata": {},
   "outputs": [
    {
     "data": {
      "text/plain": [
       "[10, 78, 10, 78]"
      ]
     },
     "execution_count": 95,
     "metadata": {},
     "output_type": "execute_result"
    }
   ],
   "source": [
    "# to print duplicate from a lit\n",
    "\n",
    "l=[10,78,98,56,10,3,78]\n",
    "nl=[]\n",
    "for i in l:\n",
    "    if l.count(i)==2:\n",
    "        nl.append(i)\n",
    "nl"
   ]
  },
  {
   "cell_type": "code",
   "execution_count": 108,
   "id": "b2a7e85c",
   "metadata": {},
   "outputs": [
    {
     "name": "stdout",
     "output_type": "stream",
     "text": [
      "[98, 56, 10, 3, 78]\n"
     ]
    }
   ],
   "source": [
    "# to remove duplicates from a lit\n",
    "\n",
    "l1=[10,78,98,56,10,3,78]\n",
    "\n",
    "for i in l1:\n",
    "    if l1.count(i)==2:\n",
    "        l1.remove(i)\n",
    "print(l1)\n",
    "\n"
   ]
  },
  {
   "cell_type": "code",
   "execution_count": 111,
   "id": "9dfbead4",
   "metadata": {},
   "outputs": [
    {
     "name": "stdout",
     "output_type": "stream",
     "text": [
      "[98, 56, 10, 3, 78]\n"
     ]
    }
   ],
   "source": [
    "# to print unique elements\n",
    "\n",
    "l1=[10,78,98,56,10,3,78]\n",
    "l2=[]\n",
    "for i in l:\n",
    "    if l.count(i)==1:\n",
    "        l2.append(i)\n",
    "print(l2)"
   ]
  },
  {
   "cell_type": "code",
   "execution_count": null,
   "id": "9e2dd5d2",
   "metadata": {},
   "outputs": [],
   "source": []
  }
 ],
 "metadata": {
  "kernelspec": {
   "display_name": "Python 3 (ipykernel)",
   "language": "python",
   "name": "python3"
  },
  "language_info": {
   "codemirror_mode": {
    "name": "ipython",
    "version": 3
   },
   "file_extension": ".py",
   "mimetype": "text/x-python",
   "name": "python",
   "nbconvert_exporter": "python",
   "pygments_lexer": "ipython3",
   "version": "3.9.13"
  }
 },
 "nbformat": 4,
 "nbformat_minor": 5
}
