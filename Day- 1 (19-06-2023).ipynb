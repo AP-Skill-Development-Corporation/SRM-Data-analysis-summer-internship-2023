{
 "cells": [
  {
   "cell_type": "markdown",
   "id": "f080cff5",
   "metadata": {},
   "source": [
    "### Markdown syntax\n",
    "\n",
    "* Markdown is a lightweight markup language that makes easy to write formatted content\n",
    "\n"
   ]
  },
  {
   "cell_type": "markdown",
   "id": "cc3280e3",
   "metadata": {},
   "source": [
    "### Shortcuts\n",
    "\n",
    "* esc+m -> to convert coding cell into a markdown cell\n",
    "* esc+y -> to convert markdown cell into a coding cell\n",
    "* esc+a -> to create a new cell above\n",
    "* esc+b -> to create a new cell below\n",
    "* esc+h -> shortcuts\n"
   ]
  },
  {
   "cell_type": "markdown",
   "id": "3ee81718",
   "metadata": {},
   "source": [
    "# Headings\n",
    "\n",
    "# largest heading \n",
    "## the second largest heading\n",
    "### h3\n",
    "#### h4\n",
    "##### h5\n",
    "###### the smallest heading "
   ]
  },
  {
   "cell_type": "markdown",
   "id": "dc889114",
   "metadata": {},
   "source": [
    "### Styling text\n",
    "\n",
    "**Welcome to the world!!!**  -> ctrl+b\n",
    "*PYTHON Programming*  -> ctrl+i\n",
    "***This is bold and italic***\n",
    "~~ This is strike through ~~"
   ]
  },
  {
   "cell_type": "markdown",
   "id": "a0dfc847",
   "metadata": {},
   "source": [
    "### Unordered list : \n",
    "\n",
    "* Cities\n",
    "    * vijayawada\n",
    "    * Guntur\n",
    "    * Tirupathi\n",
    "\n",
    "### Ordered list\n",
    "\n",
    "* Department\n",
    "1. IT\n",
    "2. ECE\n",
    "3. EEE\n",
    "4. CSE\n",
    "5. MECH\n",
    "6. CIVIL\n",
    "\n",
    "a. Name\n",
    "b. Roll number\n",
    "c. Marks"
   ]
  },
  {
   "cell_type": "markdown",
   "id": "3bb50b58",
   "metadata": {},
   "source": [
    "### inserting a link\n",
    "\n",
    "[Google.com](https://www.google.com)\n",
    "\n",
    "[gmail.com](https://www.gmail.com)\n",
    "\n",
    "<a href=\"http://engineering.apssdc.in/register/\">Student register</a>"
   ]
  },
  {
   "cell_type": "code",
   "execution_count": null,
   "id": "1aaf5d08",
   "metadata": {},
   "outputs": [],
   "source": []
  }
 ],
 "metadata": {
  "kernelspec": {
   "display_name": "Python 3 (ipykernel)",
   "language": "python",
   "name": "python3"
  },
  "language_info": {
   "codemirror_mode": {
    "name": "ipython",
    "version": 3
   },
   "file_extension": ".py",
   "mimetype": "text/x-python",
   "name": "python",
   "nbconvert_exporter": "python",
   "pygments_lexer": "ipython3",
   "version": "3.9.13"
  }
 },
 "nbformat": 4,
 "nbformat_minor": 5
}
