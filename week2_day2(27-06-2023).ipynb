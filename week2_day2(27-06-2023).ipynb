{
 "cells": [
  {
   "cell_type": "markdown",
   "id": "eeaa1d33",
   "metadata": {},
   "source": [
    "### Dicitonary:\n",
    "        - It is a collection of key value pairs.\n",
    "        - In dictionary key names are unique.\n",
    "        - By using curly brackets we can write the dictionary in python.\n",
    "        - To access the dicitonary value by using only keynames.\n",
    "        - It is mutable."
   ]
  },
  {
   "cell_type": "code",
   "execution_count": 1,
   "id": "cc3ba2d5",
   "metadata": {},
   "outputs": [
    {
     "name": "stdout",
     "output_type": "stream",
     "text": [
      "{}\n",
      "<class 'dict'>\n"
     ]
    }
   ],
   "source": [
    "# To create the empty dicitonary.\n",
    "d1 = dict()\n",
    "print(d1)\n",
    "print(type(d1))"
   ]
  },
  {
   "cell_type": "code",
   "execution_count": 2,
   "id": "5603fc76",
   "metadata": {},
   "outputs": [
    {
     "name": "stdout",
     "output_type": "stream",
     "text": [
      "{'Name': 'krishna', 'Rollno': 510, 'branch': 'CSE'}\n",
      "<class 'dict'>\n"
     ]
    }
   ],
   "source": [
    "# To create the dictionary with items(keyname,value).\n",
    "d2 = {'Name':'krishna','Rollno':510,'branch':'CSE'}\n",
    "print(d2)\n",
    "print(type(d2))"
   ]
  },
  {
   "cell_type": "code",
   "execution_count": 4,
   "id": "eb86fc6f",
   "metadata": {},
   "outputs": [
    {
     "name": "stdout",
     "output_type": "stream",
     "text": [
      "{1: 110, 2: 400, 3: 678}\n"
     ]
    }
   ],
   "source": [
    "# digit keynames..\n",
    "d3 = {1:110,2:345,3:678,2:400}\n",
    "print(d3)"
   ]
  },
  {
   "cell_type": "code",
   "execution_count": 5,
   "id": "3015fd0d",
   "metadata": {},
   "outputs": [
    {
     "name": "stdout",
     "output_type": "stream",
     "text": [
      "{'a': 100, 'b': 'python', 'c': 10.45}\n"
     ]
    }
   ],
   "source": [
    "# To create a dicitonary with different data types...\n",
    "d4 = {'a':100,'b':'python','c':10.45}\n",
    "print(d4)"
   ]
  },
  {
   "cell_type": "code",
   "execution_count": 9,
   "id": "7dccde08",
   "metadata": {},
   "outputs": [
    {
     "name": "stdout",
     "output_type": "stream",
     "text": [
      "{'Name': 'krishna', 'Rollno': 510, 'branch': 'CSE'}\n",
      "krishna\n"
     ]
    }
   ],
   "source": [
    "# Accessing the data through keynames....\n",
    "print(d2)\n",
    "print(d2['Name'])"
   ]
  },
  {
   "cell_type": "code",
   "execution_count": 11,
   "id": "83a02988",
   "metadata": {},
   "outputs": [
    {
     "name": "stdout",
     "output_type": "stream",
     "text": [
      "{'Name': 'krishna', 'Rollno': 510, 'branch': 'CSE'}\n",
      "{'Name': 'krishna', 'Rollno': 222, 'branch': 'CSE'}\n"
     ]
    }
   ],
   "source": [
    "# update the diciotnary data using keyname.\n",
    "print(d2)\n",
    "d2['Rollno']=222\n",
    "print(d2)"
   ]
  },
  {
   "cell_type": "code",
   "execution_count": 12,
   "id": "75fb35cb",
   "metadata": {},
   "outputs": [
    {
     "name": "stdout",
     "output_type": "stream",
     "text": [
      "['__class__', '__contains__', '__delattr__', '__delitem__', '__dir__', '__doc__', '__eq__', '__format__', '__ge__', '__getattribute__', '__getitem__', '__gt__', '__hash__', '__init__', '__init_subclass__', '__iter__', '__le__', '__len__', '__lt__', '__ne__', '__new__', '__reduce__', '__reduce_ex__', '__repr__', '__reversed__', '__setattr__', '__setitem__', '__sizeof__', '__str__', '__subclasshook__', 'clear', 'copy', 'fromkeys', 'get', 'items', 'keys', 'pop', 'popitem', 'setdefault', 'update', 'values']\n"
     ]
    }
   ],
   "source": [
    "# dictionary methods:\n",
    "print(dir(dict))"
   ]
  },
  {
   "cell_type": "code",
   "execution_count": 15,
   "id": "e7128170",
   "metadata": {},
   "outputs": [
    {
     "name": "stdout",
     "output_type": "stream",
     "text": [
      "{1: 110, 2: 400, 3: 678}\n"
     ]
    }
   ],
   "source": [
    "print(d3)"
   ]
  },
  {
   "cell_type": "code",
   "execution_count": 17,
   "id": "51b30b14",
   "metadata": {},
   "outputs": [
    {
     "name": "stdout",
     "output_type": "stream",
     "text": [
      "{1: 222}\n"
     ]
    }
   ],
   "source": [
    "d1[1]=222\n",
    "print(d1)"
   ]
  },
  {
   "cell_type": "code",
   "execution_count": 21,
   "id": "af0f7ac9",
   "metadata": {},
   "outputs": [
    {
     "name": "stdout",
     "output_type": "stream",
     "text": [
      "{1: 1, 2: 400, 3: 678}\n"
     ]
    }
   ],
   "source": [
    "d3[1]=1\n",
    "print(d3)"
   ]
  },
  {
   "cell_type": "code",
   "execution_count": 25,
   "id": "efcc0dc3",
   "metadata": {},
   "outputs": [
    {
     "name": "stdout",
     "output_type": "stream",
     "text": [
      "{1: 0, 2: 400, 3: 678}\n"
     ]
    }
   ],
   "source": [
    "d3[1]=000000\n",
    "print(d3)"
   ]
  },
  {
   "cell_type": "code",
   "execution_count": 26,
   "id": "b22c9307",
   "metadata": {},
   "outputs": [
    {
     "data": {
      "text/plain": [
       "{1: 0, 2: 400, 3: 678}"
      ]
     },
     "execution_count": 26,
     "metadata": {},
     "output_type": "execute_result"
    }
   ],
   "source": [
    "d3"
   ]
  },
  {
   "cell_type": "code",
   "execution_count": 27,
   "id": "c90c0913",
   "metadata": {},
   "outputs": [
    {
     "data": {
      "text/plain": [
       "{1: 0, 2: 400, 3: 678, 4: 200}"
      ]
     },
     "execution_count": 27,
     "metadata": {},
     "output_type": "execute_result"
    }
   ],
   "source": [
    "d3[4]=200\n",
    "d3"
   ]
  },
  {
   "cell_type": "markdown",
   "id": "91ae27df",
   "metadata": {},
   "source": [
    "#### Diciotnary Methods:"
   ]
  },
  {
   "cell_type": "code",
   "execution_count": 28,
   "id": "6332c4f3",
   "metadata": {},
   "outputs": [
    {
     "name": "stdout",
     "output_type": "stream",
     "text": [
      "['__class__', '__contains__', '__delattr__', '__delitem__', '__dir__', '__doc__', '__eq__', '__format__', '__ge__', '__getattribute__', '__getitem__', '__gt__', '__hash__', '__init__', '__init_subclass__', '__iter__', '__le__', '__len__', '__lt__', '__ne__', '__new__', '__reduce__', '__reduce_ex__', '__repr__', '__reversed__', '__setattr__', '__setitem__', '__sizeof__', '__str__', '__subclasshook__', 'clear', 'copy', 'fromkeys', 'get', 'items', 'keys', 'pop', 'popitem', 'setdefault', 'update', 'values']\n"
     ]
    }
   ],
   "source": [
    "print(dir(dict))"
   ]
  },
  {
   "cell_type": "code",
   "execution_count": 31,
   "id": "31eba559",
   "metadata": {},
   "outputs": [
    {
     "name": "stdout",
     "output_type": "stream",
     "text": [
      "{'Name': 'krishna', 'Rollno': 222, 'branch': 'CSE'}\n",
      "dict_keys(['Name', 'Rollno', 'branch'])\n"
     ]
    }
   ],
   "source": [
    "# keys():\n",
    "# TO get the keynames from a diciotnary.\n",
    "print(d2)\n",
    "print(d2.keys())"
   ]
  },
  {
   "cell_type": "code",
   "execution_count": 32,
   "id": "3855e0d0",
   "metadata": {},
   "outputs": [
    {
     "name": "stdout",
     "output_type": "stream",
     "text": [
      "dict_values(['krishna', 222, 'CSE'])\n"
     ]
    }
   ],
   "source": [
    "# values():\n",
    "# To get the diciotnary values...\n",
    "print(d2.values())"
   ]
  },
  {
   "cell_type": "code",
   "execution_count": 34,
   "id": "ea11e1d1",
   "metadata": {},
   "outputs": [
    {
     "name": "stdout",
     "output_type": "stream",
     "text": [
      "{'Name': 'krishna', 'Rollno': 222, 'branch': 'CSE'}\n",
      "dict_items([('Name', 'krishna'), ('Rollno', 222), ('branch', 'CSE')])\n"
     ]
    }
   ],
   "source": [
    "# items()\n",
    "# To get the data key value pair in the format tuple.\n",
    "print(d2)\n",
    "print(d2.items())"
   ]
  },
  {
   "cell_type": "code",
   "execution_count": 36,
   "id": "d7fb14ab",
   "metadata": {},
   "outputs": [
    {
     "name": "stdout",
     "output_type": "stream",
     "text": [
      "{'Name': 'krishna', 'Rollno': 222, 'branch': 'CSE'}\n",
      "{'Name': 'krishna', 'Rollno': 222, 'branch': 'CSE'}\n"
     ]
    }
   ],
   "source": [
    "# copy():\n",
    "# To copy the data from one dicitonary to another dicitonary.\n",
    "print(d2)\n",
    "d5 = d2.copy()\n",
    "print(d5)"
   ]
  },
  {
   "cell_type": "code",
   "execution_count": 38,
   "id": "476b7e51",
   "metadata": {},
   "outputs": [
    {
     "name": "stdout",
     "output_type": "stream",
     "text": [
      "{'Name': 'krishna', 'Rollno': 222, 'branch': 'CSE'}\n",
      "krishna\n"
     ]
    }
   ],
   "source": [
    "# get():\n",
    "# To get the value of specific keyname.\n",
    "print(d2)\n",
    "print(d2.get('Name'))"
   ]
  },
  {
   "cell_type": "code",
   "execution_count": 40,
   "id": "8f82465e",
   "metadata": {},
   "outputs": [
    {
     "name": "stdout",
     "output_type": "stream",
     "text": [
      "{'Name': 'krishna', 'Rollno': 222, 'branch': 'CSE'}\n",
      "{'Name': 'krishna', 'Rollno': 222, 'branch': 'CSE', 'marks': 67}\n"
     ]
    }
   ],
   "source": [
    "# setdefault():\n",
    "# To add new item to end of the dicitonary.\n",
    "print(d2)\n",
    "d2.setdefault('marks',67)\n",
    "print(d2)"
   ]
  },
  {
   "cell_type": "code",
   "execution_count": 43,
   "id": "39128ed7",
   "metadata": {},
   "outputs": [
    {
     "name": "stdout",
     "output_type": "stream",
     "text": [
      "{'Name': 'krishna', 'Rollno': 222, 'branch': 'EEE', 'marks': 67}\n",
      "{'Name': 'krishna', 'Rollno': 222, 'branch': 'EEE', 'marks': 67}\n",
      "{'Name': 'krishna', 'Rollno': 222, 'branch': 'EEE', 'marks': 67, 'course': 'Python'}\n"
     ]
    }
   ],
   "source": [
    "# update():\n",
    "# To update the any data..\n",
    "print(d2)\n",
    "d2.update({'branch':'EEE'})\n",
    "print(d2)\n",
    "d2.update({'course':'Python'})\n",
    "print(d2)"
   ]
  },
  {
   "cell_type": "code",
   "execution_count": 47,
   "id": "8a14bc21",
   "metadata": {},
   "outputs": [
    {
     "name": "stdout",
     "output_type": "stream",
     "text": [
      "{'Name': 'krishna', 'Rollno': 222, 'branch': 'EEE', 'course': 'Python'}\n",
      "Python\n",
      "{'Name': 'krishna', 'Rollno': 222, 'branch': 'EEE'}\n"
     ]
    }
   ],
   "source": [
    "#pop():\n",
    "#To delete an item from dicitonary using keyname.\n",
    "print(d2)\n",
    "print(d2.pop('course'))\n",
    "print(d2)"
   ]
  },
  {
   "cell_type": "code",
   "execution_count": 49,
   "id": "a8fb6611",
   "metadata": {},
   "outputs": [
    {
     "name": "stdout",
     "output_type": "stream",
     "text": [
      "{'Name': 'krishna', 'Rollno': 222, 'branch': 'EEE'}\n",
      "{'Name': 'krishna', 'Rollno': 222}\n"
     ]
    }
   ],
   "source": [
    "#popitem():\n",
    "# TO delete the last item from a dicitonary.\n",
    "print(d2)\n",
    "d2.popitem()\n",
    "print(d2)"
   ]
  },
  {
   "cell_type": "code",
   "execution_count": 51,
   "id": "152e4707",
   "metadata": {},
   "outputs": [
    {
     "name": "stdout",
     "output_type": "stream",
     "text": [
      "{'Sname': None, 'Srollno': None, 'Sbranch': None}\n",
      "{'Sname': 'Nethra', 'Srollno': None, 'Sbranch': None}\n"
     ]
    }
   ],
   "source": [
    "#fromkeys():\n",
    "# To create new dicitonary with keynames..\n",
    "dict1 = dict.fromkeys(['Sname','Srollno','Sbranch'])\n",
    "print(dict1)\n",
    "dict1['Sname']='Nethra'\n",
    "print(dict1)"
   ]
  },
  {
   "cell_type": "code",
   "execution_count": 52,
   "id": "c7cecc5a",
   "metadata": {},
   "outputs": [
    {
     "name": "stdout",
     "output_type": "stream",
     "text": [
      "{'Name': 'krishna', 'Rollno': 222}\n",
      "{}\n"
     ]
    }
   ],
   "source": [
    "# clear():\n",
    "# To clear the data from a dicitonary.\n",
    "print(d2)\n",
    "d2.clear()\n",
    "print(d2)"
   ]
  },
  {
   "cell_type": "code",
   "execution_count": 53,
   "id": "214fba93",
   "metadata": {},
   "outputs": [
    {
     "name": "stdout",
     "output_type": "stream",
     "text": [
      "{1: 24, 4: 80, 5: 44}\n"
     ]
    }
   ],
   "source": [
    "d2={1:24,2:55,3:19,4:80,5:44,6:17}\n",
    "# To print the even value item..\n",
    "# output: {1:24,4:80,5:44}\n",
    "d3 = {}\n",
    "for key,value in d2.items():\n",
    "    if value%2 == 0:\n",
    "        d3[key]=value\n",
    "print(d3)"
   ]
  },
  {
   "cell_type": "code",
   "execution_count": null,
   "id": "ab3b018e",
   "metadata": {},
   "outputs": [],
   "source": [
    "# To read one string and then print the character frequency?\n",
    "# To read the list of string element and then print the length of each string?\n",
    "# input: L=['python','programming','java','sql']\n",
    "# output: d1 = {'python':6,}"
   ]
  },
  {
   "cell_type": "markdown",
   "id": "c8aff4aa",
   "metadata": {},
   "source": [
    "### nested dictionaries:\n",
    "        - Dictionary can contain dicitonaries."
   ]
  },
  {
   "cell_type": "code",
   "execution_count": 54,
   "id": "005e5ac9",
   "metadata": {},
   "outputs": [
    {
     "name": "stdout",
     "output_type": "stream",
     "text": [
      "{'btech': {'name': 'aadyan', 'rollno': 510, 'branch': 'cse'}, 'MBA': {'name': 'ganesh', 'rollno': 110, 'branch': 'business application'}}\n"
     ]
    }
   ],
   "source": [
    "# nested ditionaries with example..\n",
    "clg = {\n",
    "    'btech':{\n",
    "        'name':'aadyan',\n",
    "        'rollno':510,\n",
    "        'branch':'cse'\n",
    "        },\n",
    "    'MBA':{\n",
    "        'name':'ganesh',\n",
    "        'rollno':110,\n",
    "        'branch':'business application'\n",
    "    }\n",
    "    \n",
    "}\n",
    "print(clg)"
   ]
  },
  {
   "cell_type": "code",
   "execution_count": 55,
   "id": "814d0021",
   "metadata": {},
   "outputs": [
    {
     "name": "stdout",
     "output_type": "stream",
     "text": [
      "aadyan\n"
     ]
    }
   ],
   "source": [
    "# To Access the data from netsed diciotnaries.\n",
    "print(clg['btech']['name'])"
   ]
  },
  {
   "cell_type": "code",
   "execution_count": 58,
   "id": "3ba1364f",
   "metadata": {},
   "outputs": [
    {
     "name": "stdout",
     "output_type": "stream",
     "text": [
      "1 2 3 4 5 6 7 8 9 10 "
     ]
    }
   ],
   "source": [
    "#4.What is output produced by the following program ?\n",
    "i=1\n",
    "while i<=10:\n",
    "    print(i,end=\" \")\n",
    "    i=i+1"
   ]
  },
  {
   "cell_type": "code",
   "execution_count": null,
   "id": "e20e1988",
   "metadata": {},
   "outputs": [],
   "source": []
  }
 ],
 "metadata": {
  "kernelspec": {
   "display_name": "Python 3",
   "language": "python",
   "name": "python3"
  },
  "language_info": {
   "codemirror_mode": {
    "name": "ipython",
    "version": 3
   },
   "file_extension": ".py",
   "mimetype": "text/x-python",
   "name": "python",
   "nbconvert_exporter": "python",
   "pygments_lexer": "ipython3",
   "version": "3.8.8"
  }
 },
 "nbformat": 4,
 "nbformat_minor": 5
}
