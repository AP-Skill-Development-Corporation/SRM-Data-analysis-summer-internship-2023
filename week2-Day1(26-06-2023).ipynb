{
 "cells": [
  {
   "cell_type": "markdown",
   "id": "9e710175",
   "metadata": {},
   "source": [
    "### Tuple:\n",
    "        - It is a collection of different data items in a single variable.\n",
    "        - By using round brackets we can write the tuple like this().\n",
    "        - It is immutable(can't changable).\n",
    "        - It is a collection which is ordered and unchangable.\n",
    "        - It allows the duplication of data."
   ]
  },
  {
   "cell_type": "code",
   "execution_count": 1,
   "id": "b7d6b95d",
   "metadata": {},
   "outputs": [
    {
     "name": "stdout",
     "output_type": "stream",
     "text": [
      "(10, 20, 'apssdc', 45.6, 10, 20, 30)\n",
      "<class 'tuple'>\n"
     ]
    }
   ],
   "source": [
    "# To store the mutliple elements in a single variable.\n",
    "t1 = (10,20,'apssdc',45.6,10,20,30)\n",
    "print(t1)\n",
    "print(type(t1))"
   ]
  },
  {
   "cell_type": "code",
   "execution_count": 5,
   "id": "197a33bb",
   "metadata": {},
   "outputs": [
    {
     "name": "stdout",
     "output_type": "stream",
     "text": [
      "(100,)\n",
      "<class 'tuple'>\n"
     ]
    }
   ],
   "source": [
    "# To store the single element in a tuple.\n",
    "t2 = (100,)\n",
    "print(t2)\n",
    "print(type(t2))"
   ]
  },
  {
   "cell_type": "code",
   "execution_count": 10,
   "id": "c633b7e4",
   "metadata": {},
   "outputs": [
    {
     "name": "stdout",
     "output_type": "stream",
     "text": [
      "(10, 20, 'apssdc', 45.6, 10, 20, 30)\n",
      "7\n",
      "45.6\n",
      "30\n",
      "(30, 20, 10, 45.6, 'apssdc', 20, 10)\n"
     ]
    }
   ],
   "source": [
    "# To Access the tuple values using index position.\n",
    "print(t1)\n",
    "# Index position starts from 0 to size-1.\n",
    "# To find the length of a tuple.\n",
    "print(len(t1))\n",
    "print(t1[3])\n",
    "print(t1[-1])\n",
    "print(t1[::-1])"
   ]
  },
  {
   "cell_type": "code",
   "execution_count": 18,
   "id": "c970cc23",
   "metadata": {},
   "outputs": [
    {
     "name": "stdout",
     "output_type": "stream",
     "text": [
      "(10, 20, 'apssdc', 'Python', 10, 20, 30)\n",
      "[10, 20, 'apssdc', 'Python', 10, 20, 30]\n",
      "<class 'list'>\n",
      "[10, 20, 'apssdc', 'Python', 10, 20, 30]\n",
      "(10, 20, 'apssdc', 'Python', 10, 20, 30)\n"
     ]
    }
   ],
   "source": [
    "# To update the tuple values..\n",
    "print(t1)\n",
    "#t1[3]='python'\n",
    "#print(t1)# It is immutable\n",
    "# need to convert the tuple into list\n",
    "t1 = list(t1)\n",
    "print(t1)\n",
    "print(type(t1))\n",
    "t1[3]='Python'\n",
    "print(t1)\n",
    "# Need convert the list into tuple..\n",
    "t1 = tuple(t1)\n",
    "print(t1)"
   ]
  },
  {
   "cell_type": "code",
   "execution_count": 19,
   "id": "9363cba2",
   "metadata": {},
   "outputs": [
    {
     "name": "stdout",
     "output_type": "stream",
     "text": [
      "['__add__', '__class__', '__contains__', '__delattr__', '__dir__', '__doc__', '__eq__', '__format__', '__ge__', '__getattribute__', '__getitem__', '__getnewargs__', '__gt__', '__hash__', '__init__', '__init_subclass__', '__iter__', '__le__', '__len__', '__lt__', '__mul__', '__ne__', '__new__', '__reduce__', '__reduce_ex__', '__repr__', '__rmul__', '__setattr__', '__sizeof__', '__str__', '__subclasshook__', 'count', 'index']\n"
     ]
    }
   ],
   "source": [
    "# TO print the tuple methods.\n",
    "print(dir(tuple))"
   ]
  },
  {
   "cell_type": "code",
   "execution_count": 20,
   "id": "d1a9cdcc",
   "metadata": {},
   "outputs": [
    {
     "name": "stdout",
     "output_type": "stream",
     "text": [
      "2\n"
     ]
    }
   ],
   "source": [
    "# count():\n",
    "# To Count the element frequncey...\n",
    "t2 = (10,20,30,'python','java',56.7,10,20,'python')\n",
    "print(t2.count('python'))"
   ]
  },
  {
   "cell_type": "code",
   "execution_count": 22,
   "id": "78b67003",
   "metadata": {},
   "outputs": [
    {
     "name": "stdout",
     "output_type": "stream",
     "text": [
      "(10, 20, 30, 'python', 'java', 56.7, 10, 20, 'python')\n",
      "4\n"
     ]
    }
   ],
   "source": [
    "# index():\n",
    "# To get the index position of a specified element.\n",
    "print(t2)\n",
    "print(t2.index('java'))"
   ]
  },
  {
   "cell_type": "code",
   "execution_count": 26,
   "id": "078cefdd",
   "metadata": {},
   "outputs": [
    {
     "name": "stdout",
     "output_type": "stream",
     "text": [
      "python --> 3\n",
      "python --> 8\n"
     ]
    }
   ],
   "source": [
    "for i in range(0,len(t2)):\n",
    "    if(t2[i]=='python'):\n",
    "        print(t2[i],'-->',i)"
   ]
  },
  {
   "cell_type": "markdown",
   "id": "9be9f489",
   "metadata": {},
   "source": [
    "### sets:\n",
    "    - It is a collection of different data items in a single variable.\n",
    "    - It is unordered and unindexed.\n",
    "    - In python By using curly brackets we can write the sets.\n",
    "    - Set will not allow the duplication of data.\n",
    "    - In sets data can't be update but we can add the new data.\n",
    "    - It can't access the data from a sets."
   ]
  },
  {
   "cell_type": "code",
   "execution_count": 27,
   "id": "1ae1ce42",
   "metadata": {},
   "outputs": [
    {
     "name": "stdout",
     "output_type": "stream",
     "text": [
      "<class 'set'>\n"
     ]
    }
   ],
   "source": [
    "# TO create the empty set.\n",
    "s1 = set()\n",
    "print(type(s1))"
   ]
  },
  {
   "cell_type": "code",
   "execution_count": 28,
   "id": "8c5d0ac2",
   "metadata": {},
   "outputs": [
    {
     "name": "stdout",
     "output_type": "stream",
     "text": [
      "{40, 10, 11, 20, 30}\n",
      "<class 'set'>\n"
     ]
    }
   ],
   "source": [
    "# To store the multiple elements in a set.\n",
    "s1 = {10,20,30,10,20,30,40,11,20}\n",
    "print(s1)\n",
    "print(type(s1))"
   ]
  },
  {
   "cell_type": "code",
   "execution_count": 30,
   "id": "02399196",
   "metadata": {},
   "outputs": [
    {
     "name": "stdout",
     "output_type": "stream",
     "text": [
      "{40, 10, 11, 20, 30}\n",
      "40\n",
      "10\n",
      "11\n",
      "20\n",
      "30\n"
     ]
    }
   ],
   "source": [
    "# To access the set values.\n",
    "print(s1)\n",
    "for i in s1:\n",
    "    print(i)"
   ]
  },
  {
   "cell_type": "code",
   "execution_count": 31,
   "id": "03d1ba98",
   "metadata": {
    "collapsed": true
   },
   "outputs": [
    {
     "name": "stdout",
     "output_type": "stream",
     "text": [
      "['__and__', '__class__', '__contains__', '__delattr__', '__dir__', '__doc__', '__eq__', '__format__', '__ge__', '__getattribute__', '__gt__', '__hash__', '__iand__', '__init__', '__init_subclass__', '__ior__', '__isub__', '__iter__', '__ixor__', '__le__', '__len__', '__lt__', '__ne__', '__new__', '__or__', '__rand__', '__reduce__', '__reduce_ex__', '__repr__', '__ror__', '__rsub__', '__rxor__', '__setattr__', '__sizeof__', '__str__', '__sub__', '__subclasshook__', '__xor__', 'add', 'clear', 'copy', 'difference', 'difference_update', 'discard', 'intersection', 'intersection_update', 'isdisjoint', 'issubset', 'issuperset', 'pop', 'remove', 'symmetric_difference', 'symmetric_difference_update', 'union', 'update']\n"
     ]
    }
   ],
   "source": [
    "# set methods\n",
    "print(dir(set))"
   ]
  },
  {
   "cell_type": "code",
   "execution_count": 33,
   "id": "f5c81221",
   "metadata": {},
   "outputs": [
    {
     "name": "stdout",
     "output_type": "stream",
     "text": [
      "{10, 20, 'python'}\n",
      "{100, 10, 20, 'python'}\n"
     ]
    }
   ],
   "source": [
    "# add():\n",
    "# To add the new element to the set.\n",
    "s1={'python',10,20}\n",
    "print(s1)\n",
    "s1.add(100)\n",
    "print(s1)"
   ]
  },
  {
   "cell_type": "code",
   "execution_count": 35,
   "id": "6ce1ad48",
   "metadata": {},
   "outputs": [
    {
     "name": "stdout",
     "output_type": "stream",
     "text": [
      "{100, 10, 20, 'python'}\n",
      "{34, 100, 10, 20, 56, 'python'}\n"
     ]
    }
   ],
   "source": [
    "# update():\n",
    "# We can add the multiple elements to the set.\n",
    "print(s1)\n",
    "s1.update([34,56])\n",
    "print(s1)"
   ]
  },
  {
   "cell_type": "code",
   "execution_count": 40,
   "id": "839118df",
   "metadata": {},
   "outputs": [
    {
     "name": "stdout",
     "output_type": "stream",
     "text": [
      "{100, 200, 10, 20, 56, 'python'}\n",
      "{56, 100, 20, 200, 10, 'python'}\n"
     ]
    }
   ],
   "source": [
    "# copy():\n",
    "# TO copy the data from one set to another set.\n",
    "print(s1)\n",
    "s3 = s1.copy()\n",
    "print(s3)"
   ]
  },
  {
   "cell_type": "code",
   "execution_count": 39,
   "id": "2c57fd2f",
   "metadata": {
    "collapsed": true
   },
   "outputs": [
    {
     "name": "stdout",
     "output_type": "stream",
     "text": [
      "[200, 100, 10, 20, 56, 'python']\n",
      "[200, 100, 10, 20, 56, 'python']\n",
      "{100, 200, 10, 20, 56, 'python'}\n"
     ]
    }
   ],
   "source": [
    "s1 = list(s1)\n",
    "print(s1)\n",
    "s1[0]=200\n",
    "print(s1)\n",
    "s1 = set(s1)\n",
    "print(s1)"
   ]
  },
  {
   "cell_type": "code",
   "execution_count": 42,
   "id": "be390c40",
   "metadata": {},
   "outputs": [
    {
     "name": "stdout",
     "output_type": "stream",
     "text": [
      "{100, 200, 10, 20, 56, 'python'}\n",
      "{200, 10, 20, 56, 'python'}\n"
     ]
    }
   ],
   "source": [
    "# remove():\n",
    "# TO remove the the element from a set.\n",
    "print(s1)\n",
    "s1.remove(100)\n",
    "print(s1)"
   ]
  },
  {
   "cell_type": "code",
   "execution_count": 43,
   "id": "0ed035b8",
   "metadata": {},
   "outputs": [
    {
     "ename": "KeyError",
     "evalue": "100",
     "output_type": "error",
     "traceback": [
      "\u001b[1;31m---------------------------------------------------------------------------\u001b[0m",
      "\u001b[1;31mKeyError\u001b[0m                                  Traceback (most recent call last)",
      "\u001b[1;32m<ipython-input-43-685aafef4353>\u001b[0m in \u001b[0;36m<module>\u001b[1;34m\u001b[0m\n\u001b[1;32m----> 1\u001b[1;33m \u001b[0ms1\u001b[0m\u001b[1;33m.\u001b[0m\u001b[0mremove\u001b[0m\u001b[1;33m(\u001b[0m\u001b[1;36m100\u001b[0m\u001b[1;33m)\u001b[0m\u001b[1;33m\u001b[0m\u001b[1;33m\u001b[0m\u001b[0m\n\u001b[0m",
      "\u001b[1;31mKeyError\u001b[0m: 100"
     ]
    }
   ],
   "source": [
    "s1.remove(100)"
   ]
  },
  {
   "cell_type": "code",
   "execution_count": 45,
   "id": "a6da85df",
   "metadata": {},
   "outputs": [
    {
     "name": "stdout",
     "output_type": "stream",
     "text": [
      "{200, 10, 20, 56, 'python'}\n",
      "{10, 20, 56, 'python'}\n"
     ]
    }
   ],
   "source": [
    "# discard():\n",
    "print(s1)\n",
    "s1.discard(200)\n",
    "print(s1)"
   ]
  },
  {
   "cell_type": "code",
   "execution_count": 46,
   "id": "8d541a1e",
   "metadata": {},
   "outputs": [],
   "source": [
    "s1.discard(200)"
   ]
  },
  {
   "cell_type": "code",
   "execution_count": 51,
   "id": "c9031257",
   "metadata": {},
   "outputs": [
    {
     "name": "stdout",
     "output_type": "stream",
     "text": [
      "{'python'}\n",
      "set()\n"
     ]
    }
   ],
   "source": [
    "# pop():\n",
    "# first element deletion.\n",
    "print(s1)\n",
    "s1.pop()\n",
    "print(s1)"
   ]
  },
  {
   "cell_type": "code",
   "execution_count": 54,
   "id": "771cbcdf",
   "metadata": {},
   "outputs": [
    {
     "name": "stdout",
     "output_type": "stream",
     "text": [
      "{56, 100, 20, 200, 10, 'python'}\n",
      "set()\n"
     ]
    }
   ],
   "source": [
    "# clear():\n",
    "# To clear the set data .\n",
    "print(s3)\n",
    "s3.clear()\n",
    "print(s3)"
   ]
  },
  {
   "cell_type": "code",
   "execution_count": 57,
   "id": "fba43446",
   "metadata": {},
   "outputs": [
    {
     "name": "stdout",
     "output_type": "stream",
     "text": [
      "{1, 2, 3, 'b', 'c', 'a', '1'}\n"
     ]
    }
   ],
   "source": [
    "# union():\n",
    "# To Combine the two sets.\n",
    "# set1.union(set2)\n",
    "s1 = {1,2,3}\n",
    "s2 = {'a','b','c','1'}\n",
    "s3 = s1.union(s2)\n",
    "print(s3)"
   ]
  },
  {
   "cell_type": "code",
   "execution_count": 62,
   "id": "7be830ef",
   "metadata": {},
   "outputs": [
    {
     "name": "stdout",
     "output_type": "stream",
     "text": [
      "{'banana', 'mango'}\n"
     ]
    }
   ],
   "source": [
    "# intersection_update():\n",
    "# the items that are present both sets.\n",
    "x = {'apple','banana','mango'}\n",
    "y = {'boll','fan','banana','bag','mango'}\n",
    "x.intersection_update(y)\n",
    "print(x)"
   ]
  },
  {
   "cell_type": "code",
   "execution_count": 63,
   "id": "b5d289db",
   "metadata": {},
   "outputs": [
    {
     "name": "stdout",
     "output_type": "stream",
     "text": [
      "{'wipro', 'ibm', 'apssdc', 'google'}\n"
     ]
    }
   ],
   "source": [
    "# symmetric_difference_update():\n",
    "a = {'tcs','wipro','google'}\n",
    "b = {'ibm','apssdc','tcs'}\n",
    "a.symmetric_difference_update(b)\n",
    "print(a)"
   ]
  },
  {
   "cell_type": "code",
   "execution_count": 64,
   "id": "f9ec82ec",
   "metadata": {},
   "outputs": [
    {
     "name": "stdout",
     "output_type": "stream",
     "text": [
      "{'banana', 'mango'}\n"
     ]
    }
   ],
   "source": [
    "# difference():\n",
    "# The items that only exist in set x, and not in set y.\n",
    "a = {'apple','banana','mango'}\n",
    "b = {'srm college','python','apple','wipro'}\n",
    "c = a.difference(b)\n",
    "print(c)"
   ]
  },
  {
   "cell_type": "code",
   "execution_count": 67,
   "id": "a57cb38b",
   "metadata": {},
   "outputs": [
    {
     "name": "stdout",
     "output_type": "stream",
     "text": [
      "{'mango', 'apple', 'banana'} {'wipro', 'apple', 'srm college', 'python'}\n",
      "{'apple'}\n",
      "{'mango', 'apple', 'banana'}\n"
     ]
    }
   ],
   "source": [
    "# intersection():\n",
    "# items that are present both sets\n",
    "print(a,b)\n",
    "r = a.intersection(b)\n",
    "print(r)\n",
    "print(a)"
   ]
  },
  {
   "cell_type": "code",
   "execution_count": 69,
   "id": "50c8eeb7",
   "metadata": {},
   "outputs": [
    {
     "name": "stdout",
     "output_type": "stream",
     "text": [
      "{'mango', 'apple', 'banana'} {'wipro', 'apple', 'srm college', 'python'}\n",
      "{'apple'}\n"
     ]
    }
   ],
   "source": [
    "# intersection_update():\n",
    "print(a,b)\n",
    "a.intersection_update(b)\n",
    "print(a)"
   ]
  },
  {
   "cell_type": "code",
   "execution_count": 70,
   "id": "2bee4cf8",
   "metadata": {},
   "outputs": [
    {
     "name": "stdout",
     "output_type": "stream",
     "text": [
      "{'apple'}\n"
     ]
    }
   ],
   "source": [
    "print(a)"
   ]
  },
  {
   "cell_type": "code",
   "execution_count": 75,
   "id": "61646a36",
   "metadata": {},
   "outputs": [
    {
     "name": "stdout",
     "output_type": "stream",
     "text": [
      "{'mango', 'banana'}\n",
      "{'banana', 'mango'} {'fan', 'bag', 'banana', 'mango', 'boll'}\n",
      "{'boll', 'fan', 'mango', 'bag', 'banana'}\n",
      "set()\n"
     ]
    }
   ],
   "source": [
    "print(x&y)\n",
    "print(x,y)\n",
    "print(x|y)\n",
    "print(x-y)"
   ]
  },
  {
   "cell_type": "code",
   "execution_count": null,
   "id": "607d04d0",
   "metadata": {},
   "outputs": [],
   "source": []
  }
 ],
 "metadata": {
  "kernelspec": {
   "display_name": "Python 3",
   "language": "python",
   "name": "python3"
  },
  "language_info": {
   "codemirror_mode": {
    "name": "ipython",
    "version": 3
   },
   "file_extension": ".py",
   "mimetype": "text/x-python",
   "name": "python",
   "nbconvert_exporter": "python",
   "pygments_lexer": "ipython3",
   "version": "3.8.8"
  }
 },
 "nbformat": 4,
 "nbformat_minor": 5
}
