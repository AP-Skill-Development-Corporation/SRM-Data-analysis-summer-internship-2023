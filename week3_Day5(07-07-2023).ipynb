{
 "cells": [
  {
   "cell_type": "code",
   "execution_count": 1,
   "id": "3535a07a",
   "metadata": {},
   "outputs": [],
   "source": [
    "import numpy as np"
   ]
  },
  {
   "cell_type": "code",
   "execution_count": 2,
   "id": "56cdf08e",
   "metadata": {},
   "outputs": [
    {
     "name": "stdout",
     "output_type": "stream",
     "text": [
      "[[0 1 2 3 4]\n",
      " [5 6 7 8 9]]\n"
     ]
    }
   ],
   "source": [
    "n1 = np.arange(10).reshape(2,5)\n",
    "print(n1)"
   ]
  },
  {
   "cell_type": "code",
   "execution_count": 4,
   "id": "19fb86f1",
   "metadata": {},
   "outputs": [
    {
     "data": {
      "text/plain": [
       "array([[ 0,  1],\n",
       "       [ 2,  3],\n",
       "       [ 4,  5],\n",
       "       [ 6,  7],\n",
       "       [ 8,  9],\n",
       "       [10, 11],\n",
       "       [12, 13],\n",
       "       [14, 15]])"
      ]
     },
     "execution_count": 4,
     "metadata": {},
     "output_type": "execute_result"
    }
   ],
   "source": [
    "np.arange(16).reshape(8,-1)"
   ]
  },
  {
   "cell_type": "code",
   "execution_count": 7,
   "id": "1c3013b8",
   "metadata": {},
   "outputs": [
    {
     "data": {
      "text/plain": [
       "array([[ 0,  1,  2,  3,  4,  5,  6,  7,  8,  9, 10, 11, 12, 13, 14, 15]])"
      ]
     },
     "execution_count": 7,
     "metadata": {},
     "output_type": "execute_result"
    }
   ],
   "source": [
    "np.arange(16).reshape(1,-1)"
   ]
  },
  {
   "cell_type": "markdown",
   "id": "05212f81",
   "metadata": {},
   "source": [
    "### stacking: \n",
    "        - vstack -> we can add rows\n",
    "        - hstack -> to add columns"
   ]
  },
  {
   "cell_type": "code",
   "execution_count": 10,
   "id": "c1711cfa",
   "metadata": {},
   "outputs": [
    {
     "name": "stdout",
     "output_type": "stream",
     "text": [
      "[[7]\n",
      " [9]]\n",
      "[[6]\n",
      " [4]]\n",
      "--vstack---\n",
      "[[7]\n",
      " [9]\n",
      " [6]\n",
      " [4]]\n",
      "-------------------------\n",
      "[[7]\n",
      " [9]]\n"
     ]
    }
   ],
   "source": [
    "a1 = np.random.randint(1,10,(2,1))\n",
    "print(a1)\n",
    "b1 = np.random.randint(1,10,(2,1))\n",
    "print(b1)\n",
    "print('--vstack---')\n",
    "print(np.vstack((a1,b1)))\n",
    "print('-------------------------')\n",
    "print(a1)"
   ]
  },
  {
   "cell_type": "code",
   "execution_count": 12,
   "id": "7250df96",
   "metadata": {},
   "outputs": [
    {
     "name": "stdout",
     "output_type": "stream",
     "text": [
      "----hstack----------\n",
      "[[7 3 1 5]\n",
      " [7 9 4 5]]\n"
     ]
    }
   ],
   "source": [
    "# example on hstack..\n",
    "a2 = np.random.randint(1,10,(2,2))\n",
    "b2 = np.random.randint(1,10,(2,2))\n",
    "print('----hstack----------')\n",
    "print(np.hstack((a2,b2)))"
   ]
  },
  {
   "cell_type": "markdown",
   "id": "400ae96c",
   "metadata": {},
   "source": [
    "#### ravel() and flatten():\n",
    "            - To convert the numpy array into n-dimensional to 1-dimensional.    "
   ]
  },
  {
   "cell_type": "code",
   "execution_count": 17,
   "id": "9bf01c62",
   "metadata": {},
   "outputs": [
    {
     "name": "stdout",
     "output_type": "stream",
     "text": [
      "Original Array...\n",
      "[[1 2]\n",
      " [3 4]]\n",
      "Dimensions is: 2\n",
      "[1 2 3 4]\n",
      "b dimensions:  1\n",
      "[100   2   3   4]\n",
      "original a numpy array: \n",
      "[[100   2]\n",
      " [  3   4]]\n"
     ]
    }
   ],
   "source": [
    "# example on ravel().\n",
    "a = np.array([[1,2],[3,4]])\n",
    "print('Original Array...')\n",
    "print(a)\n",
    "print('Dimensions is:',a.ndim)\n",
    "b = a.ravel()\n",
    "print(b)\n",
    "print('b dimensions: ',b.ndim)\n",
    "b[0] = 100\n",
    "print(b)\n",
    "print('original a numpy array: ')\n",
    "print(a)"
   ]
  },
  {
   "cell_type": "code",
   "execution_count": 20,
   "id": "b5701539",
   "metadata": {},
   "outputs": [
    {
     "name": "stdout",
     "output_type": "stream",
     "text": [
      "[[4 5]\n",
      " [7 8]]\n",
      "[4 5 7 8]\n",
      "[ 4 45  7  8]\n",
      "To print the original array: \n",
      "[[4 5]\n",
      " [7 8]]\n"
     ]
    }
   ],
   "source": [
    "# example on flatten():\n",
    "a1 = np.array([[4,5],[7,8]])\n",
    "print(a1)\n",
    "b2 = a1.flatten()\n",
    "print(b2)\n",
    "b2[1]=45\n",
    "print(b2)\n",
    "print('To print the original array: ')\n",
    "print(a1)"
   ]
  },
  {
   "cell_type": "markdown",
   "id": "4959df71",
   "metadata": {},
   "source": [
    "### Data Analysis and Pandas:\n",
    "\n",
    "- Pandas Introduction:\n",
    "    - Pandas stands for 'Python Data Analysis Library'.\n",
    "    - It is open source library.\n",
    "    - It is Excellent tool for Data processing and Analyzing of real world data.\n",
    "\n",
    "- Pandas has two different data Stuctures:\n",
    "- 1. Series Data Structure\n",
    "- 2. DataFrame data Structure\n",
    "\n",
    "- 1. Series Data Structure:\n",
    "        - It is mainly used for to create the 1-d dimensional array with named index..\n",
    "\n",
    "- 2. DataFrame Data Structure:\n",
    "        - It is mainly used for to create the 2-d dimensional array in the format of rows and columns.\n",
    "        \n",
    "- Pandas is mainly used for data analysis and data manipulations.\n",
    "- By using pandas we read the large amount of data like.., excel,csv,tabular..\n",
    "\n",
    "- 1. How to installing and importing pandas?\n",
    "- IDLE prefer with pip? pip install pandas\n",
    "- Importing library: import pandas as pd"
   ]
  },
  {
   "cell_type": "markdown",
   "id": "9e8cb8f5",
   "metadata": {},
   "source": [
    "### Series Data Structure:\n",
    "    - Creating Series object using list,tuple,dicitonary and also numpy array.\n",
    "    \n",
    "    - Create pandas Series from array-like object using pd.Series()\n",
    "    \n",
    "    - syntax: pd.Series(list,tuple,dict,numpy_array,indexnames)\n",
    "    \n",
    "    - The number of elements in the index list is always equal to the number of elements in the specified series."
   ]
  },
  {
   "cell_type": "code",
   "execution_count": 21,
   "id": "268e2169",
   "metadata": {},
   "outputs": [],
   "source": [
    "import pandas as pd"
   ]
  },
  {
   "cell_type": "code",
   "execution_count": 22,
   "id": "f72ccebb",
   "metadata": {},
   "outputs": [
    {
     "name": "stdout",
     "output_type": "stream",
     "text": [
      "0    10\n",
      "1    20\n",
      "2    30\n",
      "dtype: int64\n",
      "<class 'pandas.core.series.Series'>\n"
     ]
    }
   ],
   "source": [
    "# Creation of Series data structure using list?\n",
    "L1 = [10,20,30]\n",
    "sd1 = pd.Series(L1)\n",
    "print(sd1)\n",
    "print(type(sd1))"
   ]
  },
  {
   "cell_type": "code",
   "execution_count": 25,
   "id": "4e98ef1d",
   "metadata": {},
   "outputs": [
    {
     "data": {
      "text/plain": [
       "A    10\n",
       "B    20\n",
       "C    30\n",
       "dtype: int64"
      ]
     },
     "execution_count": 25,
     "metadata": {},
     "output_type": "execute_result"
    }
   ],
   "source": [
    "# To change the index names..\n",
    "sd1.index = ['A','B','C']\n",
    "sd1"
   ]
  },
  {
   "cell_type": "code",
   "execution_count": 26,
   "id": "d17574be",
   "metadata": {},
   "outputs": [
    {
     "name": "stdout",
     "output_type": "stream",
     "text": [
      "A        23\n",
      "B    python\n",
      "C      34.5\n",
      "D        89\n",
      "dtype: object\n"
     ]
    }
   ],
   "source": [
    "sd2 = pd.Series([23,'python',34.5,89],index=['A','B','C','D'])\n",
    "print(sd2)"
   ]
  },
  {
   "cell_type": "code",
   "execution_count": 27,
   "id": "7d7ab279",
   "metadata": {},
   "outputs": [
    {
     "data": {
      "text/plain": [
       "0    10\n",
       "1    20\n",
       "2    30\n",
       "dtype: int32"
      ]
     },
     "execution_count": 27,
     "metadata": {},
     "output_type": "execute_result"
    }
   ],
   "source": [
    "# To create the Series using numpy array?\n",
    "np1 = np.array([10,20,30])\n",
    "s2 = pd.Series(np1)\n",
    "s2"
   ]
  },
  {
   "cell_type": "code",
   "execution_count": 28,
   "id": "cac0fcda",
   "metadata": {},
   "outputs": [
    {
     "name": "stdout",
     "output_type": "stream",
     "text": [
      "Name      Aadyan\n",
      "Rno          510\n",
      "Branch       CSE\n",
      "dtype: object\n"
     ]
    }
   ],
   "source": [
    "# Creation of Series using Dictionary?\n",
    "d1 = {'Name':'Aadyan','Rno':510,'Branch':'CSE'}\n",
    "sd3 = pd.Series(d1)\n",
    "print(sd3)"
   ]
  },
  {
   "cell_type": "code",
   "execution_count": 30,
   "id": "94f18e4e",
   "metadata": {},
   "outputs": [
    {
     "name": "stdout",
     "output_type": "stream",
     "text": [
      "0    10\n",
      "1    20\n",
      "2    30\n",
      "dtype: int64\n"
     ]
    }
   ],
   "source": [
    "# creation of series using tuple..\n",
    "sd4 = pd.Series((10,20,30))\n",
    "print(sd4)"
   ]
  },
  {
   "cell_type": "markdown",
   "id": "c35b009a",
   "metadata": {},
   "source": [
    "### Series Indexing:\n",
    "- To get the data from the series..\n",
    "- TO access the values from a series using index names.."
   ]
  },
  {
   "cell_type": "code",
   "execution_count": 31,
   "id": "cf53cd2d",
   "metadata": {},
   "outputs": [
    {
     "name": "stdout",
     "output_type": "stream",
     "text": [
      "0        10\n",
      "1        20\n",
      "2        30\n",
      "3    apssdc\n",
      "4      45.6\n",
      "5    Python\n",
      "dtype: object\n"
     ]
    }
   ],
   "source": [
    "sd2 = pd.Series([10,20,30,'apssdc',45.6,'Python'])\n",
    "print(sd2)"
   ]
  },
  {
   "cell_type": "code",
   "execution_count": 33,
   "id": "7511203e",
   "metadata": {},
   "outputs": [
    {
     "data": {
      "text/plain": [
       "30"
      ]
     },
     "execution_count": 33,
     "metadata": {},
     "output_type": "execute_result"
    }
   ],
   "source": [
    "# To access the value from a series..\n",
    "sd2[2]"
   ]
  },
  {
   "cell_type": "code",
   "execution_count": 34,
   "id": "d732f746",
   "metadata": {},
   "outputs": [
    {
     "data": {
      "text/plain": [
       "Name      Aadyan\n",
       "Rno          510\n",
       "Branch       CSE\n",
       "dtype: object"
      ]
     },
     "execution_count": 34,
     "metadata": {},
     "output_type": "execute_result"
    }
   ],
   "source": [
    "sd3"
   ]
  },
  {
   "cell_type": "code",
   "execution_count": 35,
   "id": "2e24d1d5",
   "metadata": {},
   "outputs": [
    {
     "data": {
      "text/plain": [
       "'Aadyan'"
      ]
     },
     "execution_count": 35,
     "metadata": {},
     "output_type": "execute_result"
    }
   ],
   "source": [
    "sd3['Name']"
   ]
  },
  {
   "cell_type": "code",
   "execution_count": 37,
   "id": "24cf51f9",
   "metadata": {},
   "outputs": [
    {
     "data": {
      "text/plain": [
       "0      10\n",
       "2      30\n",
       "4    45.6\n",
       "dtype: object"
      ]
     },
     "execution_count": 37,
     "metadata": {},
     "output_type": "execute_result"
    }
   ],
   "source": [
    "sd2[::2] # To get the alternative rows"
   ]
  },
  {
   "cell_type": "code",
   "execution_count": 38,
   "id": "422bf3d2",
   "metadata": {},
   "outputs": [
    {
     "data": {
      "text/plain": [
       "0    10\n",
       "1    20\n",
       "2    30\n",
       "dtype: object"
      ]
     },
     "execution_count": 38,
     "metadata": {},
     "output_type": "execute_result"
    }
   ],
   "source": [
    "sd2[:3]"
   ]
  },
  {
   "cell_type": "code",
   "execution_count": 39,
   "id": "fcdf59af",
   "metadata": {},
   "outputs": [
    {
     "data": {
      "text/plain": [
       "5    Python\n",
       "4      45.6\n",
       "3    apssdc\n",
       "2        30\n",
       "1        20\n",
       "0        10\n",
       "dtype: object"
      ]
     },
     "execution_count": 39,
     "metadata": {},
     "output_type": "execute_result"
    }
   ],
   "source": [
    "sd2[::-1]"
   ]
  },
  {
   "cell_type": "code",
   "execution_count": 41,
   "id": "69c6e3d9",
   "metadata": {},
   "outputs": [
    {
     "data": {
      "text/plain": [
       "10"
      ]
     },
     "execution_count": 41,
     "metadata": {},
     "output_type": "execute_result"
    }
   ],
   "source": [
    "sd2[0]"
   ]
  },
  {
   "cell_type": "code",
   "execution_count": null,
   "id": "469bad5a",
   "metadata": {},
   "outputs": [],
   "source": []
  }
 ],
 "metadata": {
  "kernelspec": {
   "display_name": "Python 3",
   "language": "python",
   "name": "python3"
  },
  "language_info": {
   "codemirror_mode": {
    "name": "ipython",
    "version": 3
   },
   "file_extension": ".py",
   "mimetype": "text/x-python",
   "name": "python",
   "nbconvert_exporter": "python",
   "pygments_lexer": "ipython3",
   "version": "3.8.8"
  }
 },
 "nbformat": 4,
 "nbformat_minor": 5
}
