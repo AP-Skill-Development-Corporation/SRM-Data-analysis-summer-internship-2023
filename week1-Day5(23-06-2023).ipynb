{
 "cells": [
  {
   "cell_type": "markdown",
   "id": "a0afd853",
   "metadata": {},
   "source": [
    "### String:\n",
    "\n",
    "         - It is a collection of characters.\n",
    "         - It is a character arry.\n",
    "         - String index starts from 0 to size-1.\n",
    "         - string is immutable(we can't changable).\n",
    "         - By using double quotes, single quotes and tripple quotes we can denote the string.\n",
    "      "
   ]
  },
  {
   "cell_type": "code",
   "execution_count": 1,
   "id": "b2bc014b",
   "metadata": {},
   "outputs": [
    {
     "name": "stdout",
     "output_type": "stream",
     "text": [
      "python programming\n",
      "<class 'str'>\n"
     ]
    }
   ],
   "source": [
    "# string Initialization...\n",
    "s1 = 'python programming'\n",
    "print(s1)\n",
    "print(type(s1))"
   ]
  },
  {
   "cell_type": "code",
   "execution_count": 2,
   "id": "f30aade5",
   "metadata": {},
   "outputs": [
    {
     "name": "stdout",
     "output_type": "stream",
     "text": [
      "Data Analysis intership\n",
      "<class 'str'>\n"
     ]
    }
   ],
   "source": [
    "s2 =\"Data Analysis internship\"\n",
    "print(s2)\n",
    "print(type(s2))"
   ]
  },
  {
   "cell_type": "code",
   "execution_count": 3,
   "id": "809b9125",
   "metadata": {},
   "outputs": [
    {
     "name": "stdout",
     "output_type": "stream",
     "text": [
      "python programming\n",
      "java programming\n",
      "Data Analysis\n",
      "SRM College Students\n",
      "<class 'str'>\n"
     ]
    }
   ],
   "source": [
    "s3 ='''python programming\n",
    "java programming\n",
    "Data Analysis\n",
    "SRM College Students'''\n",
    "print(s3)\n",
    "print(type(s3))"
   ]
  },
  {
   "cell_type": "code",
   "execution_count": 5,
   "id": "4cc53200",
   "metadata": {},
   "outputs": [
    {
     "name": "stdout",
     "output_type": "stream",
     "text": [
      "enter s string: python\n",
      "Enter p string: programming\n",
      "pythonprogramming\n",
      "python programming\n"
     ]
    }
   ],
   "source": [
    "# string join..\n",
    "s = input(\"enter s string: \")\n",
    "p = input(\"Enter p string: \")\n",
    "print(s+p)\n",
    "print(s,p)"
   ]
  },
  {
   "cell_type": "code",
   "execution_count": 6,
   "id": "e13f553a",
   "metadata": {},
   "outputs": [
    {
     "name": "stdout",
     "output_type": "stream",
     "text": [
      "pythonpythonpythonpython\n"
     ]
    }
   ],
   "source": [
    "# string repetetion.\n",
    "s = \"python\"\n",
    "print(s*4)"
   ]
  },
  {
   "cell_type": "code",
   "execution_count": 8,
   "id": "fda143bd",
   "metadata": {},
   "outputs": [
    {
     "name": "stdout",
     "output_type": "stream",
     "text": [
      "P y t h o n   p r o g r a m m i n g "
     ]
    }
   ],
   "source": [
    "# To print the each character using forloop..\n",
    "s='Python programming'\n",
    "for i in s:\n",
    "    print(i,end=\" \")"
   ]
  },
  {
   "cell_type": "code",
   "execution_count": 9,
   "id": "379a4ca9",
   "metadata": {},
   "outputs": [
    {
     "name": "stdout",
     "output_type": "stream",
     "text": [
      "65\n"
     ]
    }
   ],
   "source": [
    "# TO print the asccii value of a given charcter?\n",
    "print(ord('A'))"
   ]
  },
  {
   "cell_type": "code",
   "execution_count": 10,
   "id": "2b495042",
   "metadata": {},
   "outputs": [
    {
     "name": "stdout",
     "output_type": "stream",
     "text": [
      "A\n"
     ]
    }
   ],
   "source": [
    "# To print the character of given asccii value?\n",
    "print(chr(65))"
   ]
  },
  {
   "cell_type": "markdown",
   "id": "f18bed86",
   "metadata": {},
   "source": [
    "### indexing and slicing:\n",
    "- indexing:\n",
    "          - To get the single character.\n",
    "          - Two types of indexing:\n",
    "          - 1. Forward indexing - starts from 0 to size-1\n",
    "          - 2. Backward indexing - start from -1 \n",
    "          \n",
    "ex:        -6 -5 -4 -3 -2 -1 -> Backward Indexing\n",
    "            P  Y  T  H  O  N -> string\n",
    "            0  1  2  3  4  5  -> forward indexing\n",
    "            \n",
    "-  Slicing:\n",
    "          - TO get the group of charcters.\n",
    "          - [start:stop:step]\n",
    "          - start value is: 0 -> \n",
    "          - stop value is:size-1\n",
    "          - step value is:1"
   ]
  },
  {
   "cell_type": "code",
   "execution_count": 14,
   "id": "3a60bfa0",
   "metadata": {},
   "outputs": [
    {
     "name": "stdout",
     "output_type": "stream",
     "text": [
      "a\n",
      "D\n",
      "h\n",
      "lysis internship\n",
      "Data Analysis internship\n",
      "pihsnretni sisylanA ataD\n"
     ]
    }
   ],
   "source": [
    "# indexing and slicing:\n",
    "s1 = 'Data Analysis internship'\n",
    "print(s1[3])\n",
    "print(s1[0])\n",
    "print(s1[-3])\n",
    "print(s1[8:])\n",
    "print(s1[::])\n",
    "print(s1[::-1])\n",
    "print(s1[::2]) # TO get the alternative characters"
   ]
  },
  {
   "cell_type": "code",
   "execution_count": 21,
   "id": "8bc4c848",
   "metadata": {},
   "outputs": [
    {
     "name": "stdout",
     "output_type": "stream",
     "text": [
      "Enter a string: python\n",
      "python\n",
      "6\n",
      "nythop\n"
     ]
    }
   ],
   "source": [
    "# To read a string and then swap the first and last charcter?\n",
    "# input: s=python\n",
    "# output: nythop\n",
    "s = input(\"Enter a string: \")\n",
    "print(s)\n",
    "print(len(s))\n",
    "print(s[-1]+s[1:len(s)-1]+s[0])"
   ]
  },
  {
   "cell_type": "code",
   "execution_count": 23,
   "id": "bb1fb62a",
   "metadata": {
    "collapsed": true
   },
   "outputs": [
    {
     "name": "stdout",
     "output_type": "stream",
     "text": [
      "Enter a string: apssdc python@123\n",
      "a --> 97\n",
      "p --> 112\n",
      "s --> 115\n",
      "s --> 115\n",
      "d --> 100\n",
      "c --> 99\n",
      "  --> 32\n",
      "p --> 112\n",
      "y --> 121\n",
      "t --> 116\n",
      "h --> 104\n",
      "o --> 111\n",
      "n --> 110\n",
      "@ --> 64\n",
      "1 --> 49\n",
      "2 --> 50\n",
      "3 --> 51\n"
     ]
    }
   ],
   "source": [
    "# TO read a string and then print ascii value of each charcter?\n",
    "s = input(\"Enter a string: \")\n",
    "for i in s:\n",
    "    print(i,'-->',ord(i))"
   ]
  },
  {
   "cell_type": "markdown",
   "id": "5acfd2ed",
   "metadata": {},
   "source": [
    "##### String methods"
   ]
  },
  {
   "cell_type": "code",
   "execution_count": 24,
   "id": "fac7da32",
   "metadata": {
    "collapsed": true
   },
   "outputs": [
    {
     "name": "stdout",
     "output_type": "stream",
     "text": [
      "['__add__', '__class__', '__contains__', '__delattr__', '__dir__', '__doc__', '__eq__', '__format__', '__ge__', '__getattribute__', '__getitem__', '__getnewargs__', '__gt__', '__hash__', '__init__', '__init_subclass__', '__iter__', '__le__', '__len__', '__lt__', '__mod__', '__mul__', '__ne__', '__new__', '__reduce__', '__reduce_ex__', '__repr__', '__rmod__', '__rmul__', '__setattr__', '__sizeof__', '__str__', '__subclasshook__', 'capitalize', 'casefold', 'center', 'count', 'encode', 'endswith', 'expandtabs', 'find', 'format', 'format_map', 'index', 'isalnum', 'isalpha', 'isascii', 'isdecimal', 'isdigit', 'isidentifier', 'islower', 'isnumeric', 'isprintable', 'isspace', 'istitle', 'isupper', 'join', 'ljust', 'lower', 'lstrip', 'maketrans', 'partition', 'replace', 'rfind', 'rindex', 'rjust', 'rpartition', 'rsplit', 'rstrip', 'split', 'splitlines', 'startswith', 'strip', 'swapcase', 'title', 'translate', 'upper', 'zfill']\n"
     ]
    }
   ],
   "source": [
    "print(dir(str))"
   ]
  },
  {
   "cell_type": "code",
   "execution_count": 28,
   "id": "7f19da41",
   "metadata": {},
   "outputs": [
    {
     "name": "stdout",
     "output_type": "stream",
     "text": [
      "Python programming\n",
      "python programming\n"
     ]
    }
   ],
   "source": [
    "# TO convert the first character into uppercase of a string?\n",
    "s1='python programming'\n",
    "print(s1.capitalize())\n",
    "print(s1)"
   ]
  },
  {
   "cell_type": "code",
   "execution_count": 30,
   "id": "53791ccf",
   "metadata": {},
   "outputs": [
    {
     "name": "stdout",
     "output_type": "stream",
     "text": [
      "python\n",
      "python\n"
     ]
    }
   ],
   "source": [
    "# To convert the string into lowercase?\n",
    "s='PYTHON'\n",
    "print(s.lower())\n",
    "print(s.casefold())"
   ]
  },
  {
   "cell_type": "code",
   "execution_count": 31,
   "id": "121920ff",
   "metadata": {},
   "outputs": [
    {
     "name": "stdout",
     "output_type": "stream",
     "text": [
      "APSSDC\n"
     ]
    }
   ],
   "source": [
    "# To convert the string into uppercase?\n",
    "s='apssdc'\n",
    "print(s.upper())"
   ]
  },
  {
   "cell_type": "code",
   "execution_count": 32,
   "id": "0592841a",
   "metadata": {},
   "outputs": [
    {
     "name": "stdout",
     "output_type": "stream",
     "text": [
      "pYThOn prOgRAMminG\n"
     ]
    }
   ],
   "source": [
    "# TO convert the string into lower case becomes uppercase and viceversa?\n",
    "s='PytHoN PRoGramMINg'\n",
    "print(s.swapcase())"
   ]
  },
  {
   "cell_type": "code",
   "execution_count": 33,
   "id": "b740b4a4",
   "metadata": {},
   "outputs": [
    {
     "name": "stdout",
     "output_type": "stream",
     "text": [
      "Python Apssdc\n"
     ]
    }
   ],
   "source": [
    "# To convert the first character of each word into uppercase?\n",
    "s='python apssdc'\n",
    "print(s.title())"
   ]
  },
  {
   "cell_type": "code",
   "execution_count": 36,
   "id": "051c6c83",
   "metadata": {},
   "outputs": [
    {
     "name": "stdout",
     "output_type": "stream",
     "text": [
      "python apssdc\n",
      "python apssdc    \n",
      "    python apssdc\n"
     ]
    }
   ],
   "source": [
    "# TO remove the white spaces..\n",
    "s='    python apssdc    '\n",
    "print(s.strip()) # both left side space and right side space\n",
    "print(s.lstrip()) # Left side\n",
    "print(s.rstrip()) # right side"
   ]
  },
  {
   "cell_type": "code",
   "execution_count": 37,
   "id": "03e11270",
   "metadata": {},
   "outputs": [
    {
     "name": "stdout",
     "output_type": "stream",
     "text": [
      "Hello APAADC\n"
     ]
    }
   ],
   "source": [
    "# translate() method.\n",
    "# 83 - S , 65 - A\n",
    "d = {83:65}\n",
    "s = 'Hello APSSDC'\n",
    "print(s.translate(d))"
   ]
  },
  {
   "cell_type": "code",
   "execution_count": 38,
   "id": "2bfa7fd1",
   "metadata": {},
   "outputs": [
    {
     "name": "stdout",
     "output_type": "stream",
     "text": [
      "PyThon\n"
     ]
    }
   ],
   "source": [
    "s = 'Python'\n",
    "r = str.maketrans('t','T')\n",
    "print(s.translate(r))"
   ]
  },
  {
   "cell_type": "code",
   "execution_count": 39,
   "id": "2603b188",
   "metadata": {},
   "outputs": [
    {
     "name": "stdout",
     "output_type": "stream",
     "text": [
      "['Data', 'Analysis', 'using', 'python', 'programming']\n"
     ]
    }
   ],
   "source": [
    "# split():\n",
    "# Spilt() method is used to splits a string into a list.\n",
    "s='Data Analysis using python programming'\n",
    "print(s.split())"
   ]
  },
  {
   "cell_type": "code",
   "execution_count": 40,
   "id": "22cb8f0a",
   "metadata": {},
   "outputs": [
    {
     "name": "stdout",
     "output_type": "stream",
     "text": [
      "['apple', 'banana', 'mango', 'oranges']\n"
     ]
    }
   ],
   "source": [
    "s1='apple,banana,mango,oranges'\n",
    "print(s1.split(','))"
   ]
  },
  {
   "cell_type": "code",
   "execution_count": 41,
   "id": "4b5857eb",
   "metadata": {},
   "outputs": [
    {
     "name": "stdout",
     "output_type": "stream",
     "text": [
      "5\n"
     ]
    }
   ],
   "source": [
    "# To count the number of words of given string?\n",
    "s2=\"'Data Analysis using python programming'\"\n",
    "print(len(s.split()))"
   ]
  },
  {
   "cell_type": "code",
   "execution_count": 43,
   "id": "6fef8e54",
   "metadata": {},
   "outputs": [
    {
     "name": "stdout",
     "output_type": "stream",
     "text": [
      "DATA\n",
      "ANALYSIS\n",
      "USING\n",
      "PYTHON\n",
      "PROGRAMMING\n"
     ]
    }
   ],
   "source": [
    "# To convert the each word into uppercase?\n",
    "s2=\"Data Analysis using python programming\"\n",
    "for i in s2.split():\n",
    "    print(i.upper())"
   ]
  },
  {
   "cell_type": "code",
   "execution_count": 45,
   "id": "bf9875b7",
   "metadata": {},
   "outputs": [
    {
     "name": "stdout",
     "output_type": "stream",
     "text": [
      "2\n",
      "0\n"
     ]
    }
   ],
   "source": [
    "# To count charcter frequncey?\n",
    "s='apssdc'\n",
    "print(s.count('s'))\n",
    "print(s.count('t'))"
   ]
  },
  {
   "cell_type": "code",
   "execution_count": 47,
   "id": "20b00f7f",
   "metadata": {},
   "outputs": [
    {
     "name": "stdout",
     "output_type": "stream",
     "text": [
      "4\n"
     ]
    },
    {
     "ename": "ValueError",
     "evalue": "substring not found",
     "output_type": "error",
     "traceback": [
      "\u001b[1;31m---------------------------------------------------------------------------\u001b[0m",
      "\u001b[1;31mValueError\u001b[0m                                Traceback (most recent call last)",
      "\u001b[1;32m<ipython-input-47-ef7dbeaae079>\u001b[0m in \u001b[0;36m<module>\u001b[1;34m\u001b[0m\n\u001b[0;32m      2\u001b[0m \u001b[0ms\u001b[0m\u001b[1;33m=\u001b[0m\u001b[1;34m'apssdc'\u001b[0m\u001b[1;33m\u001b[0m\u001b[1;33m\u001b[0m\u001b[0m\n\u001b[0;32m      3\u001b[0m \u001b[0mprint\u001b[0m\u001b[1;33m(\u001b[0m\u001b[0ms\u001b[0m\u001b[1;33m.\u001b[0m\u001b[0mindex\u001b[0m\u001b[1;33m(\u001b[0m\u001b[1;34m'd'\u001b[0m\u001b[1;33m)\u001b[0m\u001b[1;33m)\u001b[0m\u001b[1;33m\u001b[0m\u001b[1;33m\u001b[0m\u001b[0m\n\u001b[1;32m----> 4\u001b[1;33m \u001b[0mprint\u001b[0m\u001b[1;33m(\u001b[0m\u001b[0ms\u001b[0m\u001b[1;33m.\u001b[0m\u001b[0mindex\u001b[0m\u001b[1;33m(\u001b[0m\u001b[1;34m'z'\u001b[0m\u001b[1;33m)\u001b[0m\u001b[1;33m)\u001b[0m\u001b[1;33m\u001b[0m\u001b[1;33m\u001b[0m\u001b[0m\n\u001b[0m",
      "\u001b[1;31mValueError\u001b[0m: substring not found"
     ]
    }
   ],
   "source": [
    "# To print the index position?\n",
    "s='apssdc'\n",
    "print(s.index('d'))\n",
    "print(s.index('z'))"
   ]
  },
  {
   "cell_type": "code",
   "execution_count": 49,
   "id": "e7e1beb5",
   "metadata": {},
   "outputs": [
    {
     "name": "stdout",
     "output_type": "stream",
     "text": [
      "10 20 apssdc 23.4\n",
      "['10', '20', 'apssdc', '23.4']\n"
     ]
    }
   ],
   "source": [
    "n = list(map(str,input().split()))\n",
    "print(n)"
   ]
  },
  {
   "cell_type": "code",
   "execution_count": 51,
   "id": "ba28484d",
   "metadata": {},
   "outputs": [
    {
     "name": "stdout",
     "output_type": "stream",
     "text": [
      "Enter string: 10 20 30 apssdc 34.5\n",
      "10 20 30 apssdc 34.5\n",
      "['10', '20', '30', 'apssdc', '34.5']\n"
     ]
    }
   ],
   "source": [
    "s = input(\"Enter string: \")\n",
    "print(s)\n",
    "print(s.split())"
   ]
  },
  {
   "cell_type": "code",
   "execution_count": 61,
   "id": "09cec93a",
   "metadata": {},
   "outputs": [
    {
     "name": "stdout",
     "output_type": "stream",
     "text": [
      "Enter characters\n",
      "2\n",
      "3\n"
     ]
    }
   ],
   "source": [
    "s1='apssdc'\n",
    "ch = input(\"Enter character\")\n",
    "for i in range(0,len(s1)):\n",
    "    if s1[i]==ch:\n",
    "        print(i)\n",
    "# s1[i]-> Character of a given string\n",
    "# i -> Index position"
   ]
  },
  {
   "cell_type": "code",
   "execution_count": 63,
   "id": "ef00b69b",
   "metadata": {},
   "outputs": [
    {
     "name": "stdout",
     "output_type": "stream",
     "text": [
      "madhulatha\n",
      "mani\n"
     ]
    }
   ],
   "source": [
    "s1='raju madhulatha rajesh nethra mani nani aadyan'\n",
    "# Names starts with a charcter 'm' of given string?\n",
    "for i in s1.split():\n",
    "    if(i.startswith('m')):\n",
    "        print(i)"
   ]
  },
  {
   "cell_type": "code",
   "execution_count": 64,
   "id": "e11040e2",
   "metadata": {},
   "outputs": [
    {
     "name": "stdout",
     "output_type": "stream",
     "text": [
      "madhulatha\n",
      "nethra\n"
     ]
    }
   ],
   "source": [
    "s1='raju madhulatha rajesh nethra mani nani aadyan'\n",
    "# names ends with a charcter 'a'.\n",
    "for i in s1.split():\n",
    "    if(i.endswith('a')):\n",
    "        print(i)"
   ]
  },
  {
   "cell_type": "code",
   "execution_count": 66,
   "id": "3241caf8",
   "metadata": {},
   "outputs": [
    {
     "name": "stdout",
     "output_type": "stream",
     "text": [
      "{'p': 3, 'y': 1, 't': 1, 'h': 1, 'o': 2, 'n': 2, ' ': 2, 'r': 2, 'g': 2, 'a': 2, 'm': 2, 'i': 1, 's': 2, 'd': 1, 'c': 1}\n"
     ]
    }
   ],
   "source": [
    "# To print the each and every character frequency of a given string?\n",
    "s='python programming apssdc'\n",
    "# output: p - 3 ,y - 1 , t - 1,\n",
    "d = {}\n",
    "for i in s:\n",
    "    d[i]=s.count(i)\n",
    "print(d)"
   ]
  },
  {
   "cell_type": "code",
   "execution_count": 65,
   "id": "64bebd0b",
   "metadata": {},
   "outputs": [
    {
     "name": "stdout",
     "output_type": "stream",
     "text": [
      "apyydc\n"
     ]
    }
   ],
   "source": [
    "# replace():\n",
    "s1='apssdc'\n",
    "print(s1.replace('s','y'))"
   ]
  },
  {
   "cell_type": "code",
   "execution_count": 67,
   "id": "39a574c2",
   "metadata": {},
   "outputs": [
    {
     "name": "stdout",
     "output_type": "stream",
     "text": [
      "pytpon\n"
     ]
    }
   ],
   "source": [
    "# translate:\n",
    "s1='python'\n",
    "res = str.maketrans('h','p')\n",
    "print(s1.translate(res))"
   ]
  },
  {
   "cell_type": "code",
   "execution_count": 70,
   "id": "ae053570",
   "metadata": {},
   "outputs": [
    {
     "name": "stdout",
     "output_type": "stream",
     "text": [
      "101\n",
      "i\n",
      "hillo\n"
     ]
    }
   ],
   "source": [
    "# using the ascii values to translate the data..\n",
    "s1='hello'\n",
    "print(ord('e'))\n",
    "print(chr(105))\n",
    "dict1 = {101:105}\n",
    "print(s1.translate(dict1))"
   ]
  },
  {
   "cell_type": "code",
   "execution_count": 74,
   "id": "0fb85733",
   "metadata": {},
   "outputs": [
    {
     "name": "stdout",
     "output_type": "stream",
     "text": [
      "a -- 2\n",
      "p -- 2\n",
      "s -- 4\n",
      "d -- 2\n",
      "c -- 2\n",
      "  -- 1\n"
     ]
    }
   ],
   "source": [
    "# Element Frequency program?\n",
    "s='apssdc apssdc'\n",
    "s1=\"\"\n",
    "for i in s:\n",
    "    if i not in s1:\n",
    "        s1 = s1+i\n",
    "for i in s1:\n",
    "    print(i,'--',s.count(i))"
   ]
  },
  {
   "cell_type": "code",
   "execution_count": null,
   "id": "83144c1b",
   "metadata": {},
   "outputs": [],
   "source": []
  }
 ],
 "metadata": {
  "kernelspec": {
   "display_name": "Python 3",
   "language": "python",
   "name": "python3"
  },
  "language_info": {
   "codemirror_mode": {
    "name": "ipython",
    "version": 3
   },
   "file_extension": ".py",
   "mimetype": "text/x-python",
   "name": "python",
   "nbconvert_exporter": "python",
   "pygments_lexer": "ipython3",
   "version": "3.8.8"
  }
 },
 "nbformat": 4,
 "nbformat_minor": 5
}
