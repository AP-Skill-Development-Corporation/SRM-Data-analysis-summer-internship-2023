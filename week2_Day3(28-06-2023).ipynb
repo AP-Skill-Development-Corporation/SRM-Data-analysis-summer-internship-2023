{
 "cells": [
  {
   "cell_type": "code",
   "execution_count": 2,
   "id": "f5e01f88",
   "metadata": {},
   "outputs": [
    {
     "name": "stdout",
     "output_type": "stream",
     "text": [
      "{'1st Year': {'Name': 'Aaryan', 'Rno': 510, 'Branch': 'CSE'}, '2nd Year': {'Name': 'Krishna', 'Rno': 420, 'Branch': 'ECE'}}\n"
     ]
    }
   ],
   "source": [
    "# nested dictionaries:\n",
    "btech = {\n",
    "    '1st Year':{\n",
    "            'Name':'Aaryan',\n",
    "            'Rno' :510,\n",
    "            'Branch':'CSE'\n",
    "    },\n",
    "    '2nd Year':{\n",
    "        'Name':'Krishna',\n",
    "        'Rno':420,\n",
    "        'Branch':'ECE'\n",
    "    }\n",
    "}\n",
    "print(btech)"
   ]
  },
  {
   "cell_type": "code",
   "execution_count": 3,
   "id": "230fedeb",
   "metadata": {},
   "outputs": [
    {
     "name": "stdout",
     "output_type": "stream",
     "text": [
      "Aaryan\n"
     ]
    }
   ],
   "source": [
    "# To access the nested ditionaries data...\n",
    "print(btech['1st Year']['Name'])"
   ]
  },
  {
   "cell_type": "code",
   "execution_count": 4,
   "id": "cfd06dfb",
   "metadata": {},
   "outputs": [
    {
     "name": "stdout",
     "output_type": "stream",
     "text": [
      "{'Name': ['madhu', 'lalitha', 'nethra'], 'Rollno': [510, 420, 325], 'branch': ['CSE', 'ECE', 'MECH']}\n"
     ]
    }
   ],
   "source": [
    "# To store the mutliple students records...\n",
    "student = {'Name':['madhu','lalitha','nethra'],\n",
    "           'Rollno':[510,420,325],\n",
    "          'branch':['CSE','ECE','MECH']}\n",
    "print(student)"
   ]
  },
  {
   "cell_type": "code",
   "execution_count": 6,
   "id": "9a1630d1",
   "metadata": {},
   "outputs": [
    {
     "name": "stdout",
     "output_type": "stream",
     "text": [
      "lalitha\n",
      "{'Name': ['madhu', 'lalitha', 'nethra'], 'Rollno': [523, 420, 325], 'branch': ['CSE', 'ECE', 'MECH']}\n"
     ]
    }
   ],
   "source": [
    "print(student['Name'][1]) # To get the data from a dicitonary.\n",
    "student['Rollno'][0] = 523 # To update the data.\n",
    "print(student)"
   ]
  },
  {
   "cell_type": "markdown",
   "id": "94ab1da1",
   "metadata": {},
   "source": [
    "#### Functions:\n",
    "        - Function is a group of statements.\n",
    "        - It can be perform the specific task.\n",
    "        - In python by using 'def' keyword we can write the functions.\n",
    "- *uses:*\n",
    "        - code reusability.\n",
    "        - easy to code debugging.\n",
    "- syntax:\n",
    "        def function_name(arguments_list): # function definition\n",
    "            statements\n",
    "            return output\n",
    "- *how to call a function:*\n",
    "             function_name(input_arguments) # function calling\n",
    "             \n",
    "- function name starts with keyword,inbulit functions.\n",
    "- function name should not allow the space in the middile of function.\n",
    "##### Two types of funcitons:\n",
    "- 1. pre-define funcitons.\n",
    "- 2. user-define functions.\n",
    "- 4 types of user define functions:\n",
    "        - 1. function with arguments and with return values.\n",
    "        - 2. function with arguments and with out return values.\n",
    "        - 3. funciton with out arguments and with return values.\n",
    "        - 4. function with out arguments and with out return values."
   ]
  },
  {
   "cell_type": "markdown",
   "id": "e49a1a68",
   "metadata": {},
   "source": [
    "### 1. with arguments and with return values..\n",
    "- syntax:\n",
    "         def function_name(arguments_lists):\n",
    "             statements\n",
    "             return result"
   ]
  },
  {
   "cell_type": "code",
   "execution_count": 9,
   "id": "3e7809a1",
   "metadata": {},
   "outputs": [
    {
     "name": "stdout",
     "output_type": "stream",
     "text": [
      "Enter n1 value: 45367\n"
     ]
    },
    {
     "data": {
      "text/plain": [
       "4"
      ]
     },
     "execution_count": 9,
     "metadata": {},
     "output_type": "execute_result"
    }
   ],
   "source": [
    "# 1.To print the first digit of a given number?\n",
    "# input: n=45367\n",
    "# output: 4\n",
    "def first_digit(n): # step3 -> first_digit(234)\n",
    "    while(n>=10): # step4: 234>=10 true, 23>=10 true,2>=10 , false\n",
    "        n = n//10 # step5 : 234//10 -> 23 , 23//10 -> 2\n",
    "    return n  # step6: return 2\n",
    "n1 = int(input(\"Enter n1 value: \")) # step1 n1=234\n",
    "first_digit(n1) # step2  first_digit(234)"
   ]
  },
  {
   "cell_type": "markdown",
   "id": "ccfdb25d",
   "metadata": {},
   "source": [
    "#### 2. with arguments and with out return values..\n",
    "- syntax:\n",
    "        def function_name(arguments_list):\n",
    "            statements\n",
    "            print(output)"
   ]
  },
  {
   "cell_type": "code",
   "execution_count": 11,
   "id": "3e6f7f3e",
   "metadata": {},
   "outputs": [
    {
     "name": "stdout",
     "output_type": "stream",
     "text": [
      "10\n",
      "2\n",
      "4\n",
      "Biggest value is a: 10\n"
     ]
    }
   ],
   "source": [
    "# To find the biggest of three numbers?\n",
    "def biggest_three(a,b,c):\n",
    "    if(a>b and a>c):\n",
    "        print('Biggest value is a:',a)\n",
    "    elif(b>c):\n",
    "        print('Biggest value is b:',b)\n",
    "    else:\n",
    "        print('biggest value is c:',c)\n",
    "a= int(input())\n",
    "b= int(input())\n",
    "c= int(input())\n",
    "biggest_three(a,b,c)"
   ]
  },
  {
   "cell_type": "markdown",
   "id": "c69a0226",
   "metadata": {},
   "source": [
    "#### with out arguments and with return values:\n",
    "- syntax:\n",
    "         def function_name():\n",
    "             statements\n",
    "             return output"
   ]
  },
  {
   "cell_type": "code",
   "execution_count": 15,
   "id": "4b84e2b9",
   "metadata": {},
   "outputs": [
    {
     "name": "stdout",
     "output_type": "stream",
     "text": [
      "Enter a value: 200\n",
      "Enter b value: 30\n"
     ]
    },
    {
     "data": {
      "text/plain": [
       "(30, 200)"
      ]
     },
     "execution_count": 15,
     "metadata": {},
     "output_type": "execute_result"
    }
   ],
   "source": [
    "# To print the swapping of two numbers..\n",
    "def swap():\n",
    "    a = int(input(\"Enter a value: \"))\n",
    "    b = int(input(\"Enter b value: \"))\n",
    "    a,b = b,a\n",
    "    return a,b\n",
    "swap()    "
   ]
  },
  {
   "cell_type": "code",
   "execution_count": 16,
   "id": "314c221c",
   "metadata": {},
   "outputs": [
    {
     "name": "stdout",
     "output_type": "stream",
     "text": [
      "2 3\n"
     ]
    }
   ],
   "source": [
    "def prit(a,b):\n",
    "    a=20\n",
    "    b=30\n",
    "a=2\n",
    "b=3\n",
    "prit(a,b)\n",
    "print(a,b)"
   ]
  },
  {
   "cell_type": "markdown",
   "id": "09129bed",
   "metadata": {},
   "source": [
    "### with out arguments and with out return values..\n",
    "- syntax:\n",
    "        def funciton_name():\n",
    "            statements\n",
    "            print(result)"
   ]
  },
  {
   "cell_type": "code",
   "execution_count": 19,
   "id": "3a08a977",
   "metadata": {},
   "outputs": [
    {
     "name": "stdout",
     "output_type": "stream",
     "text": [
      "Enter n value: 5\n",
      "120\n"
     ]
    }
   ],
   "source": [
    "# TO print the factorial of a given number?\n",
    "def factorial():\n",
    "    n = int(input(\"Enter n value: \"))# n= 5\n",
    "    f1 = 1 # f1 = 1\n",
    "    for i in range(1,n+1): # i=1,i=2->t,i=3-> t,i=4->t,i=5->t ,6-> f\n",
    "        f1 = f1*i # f1 = 1*1=>1,1*2=>2,2*3=>6,6*4=>24 ,24*5=> 120\n",
    "    print(f1)\n",
    "factorial()"
   ]
  },
  {
   "cell_type": "markdown",
   "id": "6efa4aab",
   "metadata": {},
   "source": [
    "#### Arguments:\n",
    "           - Three types of arguments:\n",
    "           - 1. Variable length arguments\n",
    "           - 2. keyword length arguments\n",
    "           - 3. default and non-default arguments\n",
    "- 1. Variable length arguments:\n",
    "        - By using '*' symbol we can develop the variable length arguments.\n",
    "        - It return the data in the format tuple."
   ]
  },
  {
   "cell_type": "code",
   "execution_count": 24,
   "id": "a1c6b0fb",
   "metadata": {},
   "outputs": [
    {
     "name": "stdout",
     "output_type": "stream",
     "text": [
      "(10, 20, 30, 40, 'apssdc')\n"
     ]
    }
   ],
   "source": [
    "def hello(*a):\n",
    "    print(a)\n",
    "hello(10,20,30,40,'apssdc')"
   ]
  },
  {
   "cell_type": "code",
   "execution_count": 26,
   "id": "adb9fd71",
   "metadata": {},
   "outputs": [
    {
     "name": "stdout",
     "output_type": "stream",
     "text": [
      "[10, 20]\n"
     ]
    }
   ],
   "source": [
    "list = [10,20]\n",
    "print(list)"
   ]
  },
  {
   "cell_type": "code",
   "execution_count": 28,
   "id": "bce9ddfe",
   "metadata": {},
   "outputs": [
    {
     "name": "stdout",
     "output_type": "stream",
     "text": [
      "{'name': 'krishna', 'rollno': 510}\n"
     ]
    }
   ],
   "source": [
    "# keyword length arguments:\n",
    "# we can '**' symbols we can write the keyword arguments.\n",
    "def sample(**k):\n",
    "    print(k)\n",
    "sample(name='krishna',rollno=510)"
   ]
  },
  {
   "cell_type": "code",
   "execution_count": 44,
   "id": "cf88f2c9",
   "metadata": {},
   "outputs": [
    {
     "data": {
      "text/plain": [
       "10"
      ]
     },
     "execution_count": 44,
     "metadata": {},
     "output_type": "execute_result"
    }
   ],
   "source": [
    "# default and non-default arguments.\n",
    "def example(a=10):\n",
    "    return a\n",
    "example()"
   ]
  },
  {
   "cell_type": "code",
   "execution_count": 41,
   "id": "45bb44a9",
   "metadata": {},
   "outputs": [
    {
     "name": "stdout",
     "output_type": "stream",
     "text": [
      "{'name': 'krish', 'roll': 50}\n"
     ]
    }
   ],
   "source": [
    "def sample(**k):\n",
    "    print(k)\n",
    "sample(name='krish',roll=50)"
   ]
  },
  {
   "cell_type": "code",
   "execution_count": 45,
   "id": "e6beaec8",
   "metadata": {},
   "outputs": [
    {
     "ename": "TypeError",
     "evalue": "unhashable type: 'list'",
     "output_type": "error",
     "traceback": [
      "\u001b[1;31m---------------------------------------------------------------------------\u001b[0m",
      "\u001b[1;31mTypeError\u001b[0m                                 Traceback (most recent call last)",
      "\u001b[1;32m<ipython-input-45-3f7979973af6>\u001b[0m in \u001b[0;36m<module>\u001b[1;34m\u001b[0m\n\u001b[1;32m----> 1\u001b[1;33m \u001b[0ms1\u001b[0m \u001b[1;33m=\u001b[0m \u001b[1;33m{\u001b[0m\u001b[1;34m'python'\u001b[0m\u001b[1;33m,\u001b[0m\u001b[1;33m[\u001b[0m\u001b[1;34m'java'\u001b[0m\u001b[1;33m,\u001b[0m\u001b[1;34m'c'\u001b[0m\u001b[1;33m]\u001b[0m\u001b[1;33m,\u001b[0m\u001b[1;36m12\u001b[0m\u001b[1;33m,\u001b[0m\u001b[1;36m45.67\u001b[0m\u001b[1;33m}\u001b[0m\u001b[1;33m\u001b[0m\u001b[1;33m\u001b[0m\u001b[0m\n\u001b[0m\u001b[0;32m      2\u001b[0m \u001b[0mprint\u001b[0m\u001b[1;33m(\u001b[0m\u001b[0ms1\u001b[0m\u001b[1;33m)\u001b[0m\u001b[1;33m\u001b[0m\u001b[1;33m\u001b[0m\u001b[0m\n",
      "\u001b[1;31mTypeError\u001b[0m: unhashable type: 'list'"
     ]
    }
   ],
   "source": [
    "s1 = {'python',['java','c'],12,45.67}\n",
    "print(s1)"
   ]
  },
  {
   "cell_type": "code",
   "execution_count": null,
   "id": "813ca130",
   "metadata": {},
   "outputs": [],
   "source": []
  }
 ],
 "metadata": {
  "kernelspec": {
   "display_name": "Python 3",
   "language": "python",
   "name": "python3"
  },
  "language_info": {
   "codemirror_mode": {
    "name": "ipython",
    "version": 3
   },
   "file_extension": ".py",
   "mimetype": "text/x-python",
   "name": "python",
   "nbconvert_exporter": "python",
   "pygments_lexer": "ipython3",
   "version": "3.8.8"
  }
 },
 "nbformat": 4,
 "nbformat_minor": 5
}
