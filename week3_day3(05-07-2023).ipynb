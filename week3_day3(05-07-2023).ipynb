{
 "cells": [
  {
   "cell_type": "markdown",
   "id": "d2e133f5",
   "metadata": {},
   "source": [
    "#### 2. Multi-Level Inheritance:\n",
    "- In Multi-level Inheritance having more than one parent and more than one child."
   ]
  },
  {
   "cell_type": "code",
   "execution_count": 4,
   "id": "cc9a85f8",
   "metadata": {},
   "outputs": [
    {
     "name": "stdout",
     "output_type": "stream",
     "text": [
      "I am from grand parent class..\n",
      "I am from parent class...\n",
      "I am from child class...\n"
     ]
    }
   ],
   "source": [
    "# example program on Multi-level Inheritance:\n",
    "class Grandparent:\n",
    "    def gdisplay(self):\n",
    "        print('I am from grand parent class..')\n",
    "class Parent(Grandparent):\n",
    "    def pdisplay(self):\n",
    "        print('I am from parent class...')\n",
    "class Child(Parent):\n",
    "    def cdisplay(self):\n",
    "        print('I am from child class...')\n",
    "ch = Child()\n",
    "ch.gdisplay()\n",
    "ch.pdisplay()\n",
    "ch.cdisplay()"
   ]
  },
  {
   "cell_type": "code",
   "execution_count": 7,
   "id": "5d61b383",
   "metadata": {},
   "outputs": [
    {
     "name": "stdout",
     "output_type": "stream",
     "text": [
      " i am from parent class..\n",
      " I am from child2 class\n"
     ]
    }
   ],
   "source": [
    "# 3. Hierachical Inheritance:\n",
    "# Here one parent class and more than one child.\n",
    "class Parent:\n",
    "    def pdisplay(self):\n",
    "        print(' i am from parent class..')\n",
    "class Child1(Parent):\n",
    "    def c1display(self):\n",
    "        print(' I am from child1 class..')\n",
    "class Child2(Parent):\n",
    "    def c2display(self):\n",
    "        print(' I am from child2 class')\n",
    "c2 = Child2()\n",
    "c2.pdisplay()\n",
    "c2.c2display()"
   ]
  },
  {
   "cell_type": "code",
   "execution_count": 10,
   "id": "402fcec5",
   "metadata": {},
   "outputs": [
    {
     "name": "stdout",
     "output_type": "stream",
     "text": [
      "I am from Father class..\n",
      " i am from mother class..\n",
      " i am from child class\n"
     ]
    }
   ],
   "source": [
    "# Multiple Inheritance:\n",
    "# Two or more parent class and one child class..\n",
    "class Father:\n",
    "    def fdisplay(self):\n",
    "        print('I am from Father class..')\n",
    "class Mother:\n",
    "    def mdisplay(self):\n",
    "        print(' i am from mother class..')\n",
    "class Child(Father,Mother):\n",
    "    def cdisplay(self):\n",
    "        print(\" i am from child class\")\n",
    "ch = Child()\n",
    "ch.fdisplay()\n",
    "ch.mdisplay()\n",
    "ch.cdisplay()"
   ]
  },
  {
   "cell_type": "code",
   "execution_count": 13,
   "id": "7a1af063",
   "metadata": {},
   "outputs": [
    {
     "name": "stdout",
     "output_type": "stream",
     "text": [
      "I am from school class..\n",
      " i am from student1 class..\n",
      "I am from student2 class..\n"
     ]
    }
   ],
   "source": [
    "# hybrid Inheritance:\n",
    "# It is combination of Mutli-level and Hierarchical Inheritance.\n",
    "\n",
    "class School:\n",
    "    def scdisplay(self):\n",
    "        print('I am from school class..')\n",
    "class stu1(School):\n",
    "    def st1display(self):\n",
    "        print(' i am from student1 class..')\n",
    "class stu2(School):\n",
    "    def st2display(self):\n",
    "        print('I am from student2 class..')\n",
    "class Faculty(stu1,stu2):\n",
    "    def fdisplay(self):\n",
    "        print(\" i am from faculty class..\")\n",
    "\n",
    "f1 = Faculty()\n",
    "f1.scdisplay()\n",
    "f1.st1display()\n",
    "f1.st2display()"
   ]
  },
  {
   "cell_type": "markdown",
   "id": "26fc2097",
   "metadata": {},
   "source": [
    "### Polymorphism:\n",
    "        - Polymarphism means it create the many forms.\n",
    "        - It is implementing same thing in different ways."
   ]
  },
  {
   "cell_type": "code",
   "execution_count": 15,
   "id": "55070180",
   "metadata": {},
   "outputs": [
    {
     "name": "stdout",
     "output_type": "stream",
     "text": [
      "abcxyz\n",
      "30\n"
     ]
    }
   ],
   "source": [
    "# example on polymarphism:\n",
    "#'+'\n",
    "# To join the two strings -> string\n",
    "# Addition of two numbers -> numbers\n",
    "s1 = 'abc'\n",
    "s2 = 'xyz'\n",
    "print(s1+s2)\n",
    "print(10+20)"
   ]
  },
  {
   "cell_type": "code",
   "execution_count": 17,
   "id": "6e867bca",
   "metadata": {},
   "outputs": [
    {
     "name": "stdout",
     "output_type": "stream",
     "text": [
      "6\n",
      "3\n"
     ]
    }
   ],
   "source": [
    "# example2: len()\n",
    "print(len('python'))\n",
    "print(len([10,20,30]))"
   ]
  },
  {
   "cell_type": "code",
   "execution_count": 23,
   "id": "a4783dec",
   "metadata": {},
   "outputs": [
    {
     "name": "stdout",
     "output_type": "stream",
     "text": [
      "100 10\n",
      "None 10\n",
      "200 300\n"
     ]
    }
   ],
   "source": [
    "# example on method overloading concept:\n",
    "class Polymorphism:\n",
    "    def display(self,a=None,b=10):\n",
    "        print(a,b)\n",
    "obj = Polymorphism()\n",
    "obj.display(100)\n",
    "obj.display()\n",
    "obj.display(200,300)"
   ]
  },
  {
   "cell_type": "code",
   "execution_count": 28,
   "id": "a02febdc",
   "metadata": {},
   "outputs": [
    {
     "name": "stdout",
     "output_type": "stream",
     "text": [
      "Bike Driving....\n"
     ]
    }
   ],
   "source": [
    "# Method overriding example:\n",
    "class Father:\n",
    "    def Driving(self):\n",
    "        print('Cycle driving...')\n",
    "class Son(Father):\n",
    "    def Driving(self):\n",
    "        print('Bike Driving....')\n",
    "f1 = Son()\n",
    "f1.Driving()"
   ]
  },
  {
   "cell_type": "markdown",
   "id": "3c541961",
   "metadata": {},
   "source": [
    "### Encapsulation:\n",
    "    - Wrapping of data..\n",
    "    - Combining the variables and methods in a single unit.\n",
    "    - Two Access Specifiers:\n",
    "    - 1. Public -> Default\n",
    "    - 2. private -> using __(double underscore)"
   ]
  },
  {
   "cell_type": "code",
   "execution_count": 30,
   "id": "6550dc2e",
   "metadata": {},
   "outputs": [
    {
     "name": "stdout",
     "output_type": "stream",
     "text": [
      "10\n",
      "I am from Eancapsulation class\n"
     ]
    }
   ],
   "source": [
    "class Eancap:\n",
    "    a = 10\n",
    "    def display(self):\n",
    "        print('I am from Eancapsulation class')\n",
    "obj1 = Eancap()\n",
    "print(obj1.a)\n",
    "obj1.display()"
   ]
  },
  {
   "cell_type": "code",
   "execution_count": 31,
   "id": "64b84e8c",
   "metadata": {},
   "outputs": [
    {
     "name": "stdout",
     "output_type": "stream",
     "text": [
      "100\n",
      "hello\n"
     ]
    }
   ],
   "source": [
    "class Sample:\n",
    "    __a = 100 # Private Variable\n",
    "    def __display(self): # Private method\n",
    "        print('hello')\n",
    "    def show(self):\n",
    "        print(self.__a)\n",
    "        self.__display()\n",
    "obj2 = Sample()\n",
    "obj2.show()"
   ]
  },
  {
   "cell_type": "markdown",
   "id": "dc60a83b",
   "metadata": {},
   "source": [
    "#### Data Ananlysis:\n",
    "- Data:\n",
    "      Data is raw facts and statistics collected together for reference or analysis.\n",
    "\n",
    "- Data Analysis:\n",
    "    - It is a process of obtaining raw data and subsequently converting int into information.\n",
    "    - It is a technique to collect, transform and organize data to make future predection.\n",
    "    - To analyzing the numerical data with numpy, Tabular data with pandas, Visualization by matplotlib and exploratory data analysis.\n",
    "    \n",
    "- Types of data:\n",
    "* Structured data:row/columns-> Tabular format-> excel,.csv..etc\n",
    "* unstructured data: Pictures,videos,files,voices..etc..\n",
    "* semi structured data: xml,json,html(keyname:value)\n",
    "\n",
    "#### Data types in Statistics:\n",
    "- Numerical Data: Data in the form of numbers\n",
    "- Categorical data : data in the form of words.\n",
    "\n",
    "#### Libraries are in Data Analysis:\n",
    "\n",
    "- 1. Numpy \n",
    "- 2. Pandas\n",
    "- 3. matplotlib\n",
    "- 4. seaborn\n",
    "- 5. scikit learn "
   ]
  }
 ],
 "metadata": {
  "kernelspec": {
   "display_name": "Python 3",
   "language": "python",
   "name": "python3"
  },
  "language_info": {
   "codemirror_mode": {
    "name": "ipython",
    "version": 3
   },
   "file_extension": ".py",
   "mimetype": "text/x-python",
   "name": "python",
   "nbconvert_exporter": "python",
   "pygments_lexer": "ipython3",
   "version": "3.8.8"
  }
 },
 "nbformat": 4,
 "nbformat_minor": 5
}
