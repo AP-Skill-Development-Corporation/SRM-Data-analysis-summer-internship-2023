{
 "cells": [
  {
   "cell_type": "code",
   "execution_count": 1,
   "id": "064c26fe",
   "metadata": {},
   "outputs": [],
   "source": [
    "import pandas as pd"
   ]
  },
  {
   "cell_type": "code",
   "execution_count": 2,
   "id": "c691423c",
   "metadata": {},
   "outputs": [
    {
     "name": "stdout",
     "output_type": "stream",
     "text": [
      "0        10\n",
      "1    apssdc\n",
      "2     45.67\n",
      "3        30\n",
      "4        60\n",
      "dtype: object\n"
     ]
    }
   ],
   "source": [
    "sd1 = pd.Series([10,'apssdc',45.67,30,60])\n",
    "print(sd1)"
   ]
  },
  {
   "cell_type": "markdown",
   "id": "e17296ba",
   "metadata": {},
   "source": [
    "### Update the Series value.."
   ]
  },
  {
   "cell_type": "code",
   "execution_count": 3,
   "id": "2bd41fa6",
   "metadata": {},
   "outputs": [
    {
     "data": {
      "text/plain": [
       "0        10\n",
       "1    apssdc\n",
       "2     45.67\n",
       "3       100\n",
       "4        60\n",
       "dtype: object"
      ]
     },
     "execution_count": 3,
     "metadata": {},
     "output_type": "execute_result"
    }
   ],
   "source": [
    "sd1[3]=100\n",
    "sd1"
   ]
  },
  {
   "cell_type": "markdown",
   "id": "fd202d8c",
   "metadata": {},
   "source": [
    "- Replace():\n",
    "        - Using replace() method we can update the series value.\n",
    "        - syntax: sd.replace(to_replace=old_value,value=new_value)"
   ]
  },
  {
   "cell_type": "code",
   "execution_count": 4,
   "id": "3a19c154",
   "metadata": {},
   "outputs": [
    {
     "data": {
      "text/plain": [
       "0        10\n",
       "1    apssdc\n",
       "2     45.67\n",
       "3       100\n",
       "4        60\n",
       "dtype: object"
      ]
     },
     "execution_count": 4,
     "metadata": {},
     "output_type": "execute_result"
    }
   ],
   "source": [
    "sd1"
   ]
  },
  {
   "cell_type": "code",
   "execution_count": 5,
   "id": "4a0b6535",
   "metadata": {},
   "outputs": [
    {
     "data": {
      "text/plain": [
       "0        10\n",
       "1    python\n",
       "2     45.67\n",
       "3       100\n",
       "4        60\n",
       "dtype: object"
      ]
     },
     "execution_count": 5,
     "metadata": {},
     "output_type": "execute_result"
    }
   ],
   "source": [
    "sd1 = sd1.replace(to_replace='apssdc',value='python')\n",
    "sd1"
   ]
  },
  {
   "cell_type": "code",
   "execution_count": 7,
   "id": "e07af15f",
   "metadata": {},
   "outputs": [
    {
     "name": "stdout",
     "output_type": "stream",
     "text": [
      "0        10\n",
      "1    python\n",
      "2       100\n",
      "3       100\n",
      "4        60\n",
      "dtype: object\n"
     ]
    }
   ],
   "source": [
    "sd1=sd1.replace(45.67,100)\n",
    "print(sd1)"
   ]
  },
  {
   "cell_type": "code",
   "execution_count": 8,
   "id": "08bb67d9",
   "metadata": {},
   "outputs": [],
   "source": [
    "sd1 = sd1.replace(100,'data analysis')"
   ]
  },
  {
   "cell_type": "code",
   "execution_count": 9,
   "id": "e901e934",
   "metadata": {},
   "outputs": [
    {
     "data": {
      "text/plain": [
       "0               10\n",
       "1           python\n",
       "2    data analysis\n",
       "3    data analysis\n",
       "4               60\n",
       "dtype: object"
      ]
     },
     "execution_count": 9,
     "metadata": {},
     "output_type": "execute_result"
    }
   ],
   "source": [
    "sd1"
   ]
  },
  {
   "cell_type": "code",
   "execution_count": 10,
   "id": "93e40190",
   "metadata": {},
   "outputs": [
    {
     "data": {
      "text/plain": [
       "0       100\n",
       "1    python\n",
       "2      java\n",
       "3      java\n",
       "4       600\n",
       "dtype: object"
      ]
     },
     "execution_count": 10,
     "metadata": {},
     "output_type": "execute_result"
    }
   ],
   "source": [
    "# To update the multiple data from a series\n",
    "sd1 = sd1.replace(to_replace=[10,'data analysis',60],value=[100,'java',600])\n",
    "sd1"
   ]
  },
  {
   "cell_type": "markdown",
   "id": "fb298655",
   "metadata": {},
   "source": [
    "#### Delete the data in a series:"
   ]
  },
  {
   "cell_type": "code",
   "execution_count": 11,
   "id": "7e647aee",
   "metadata": {},
   "outputs": [
    {
     "data": {
      "text/plain": [
       "0       100\n",
       "1    python\n",
       "2      java\n",
       "3      java\n",
       "4       600\n",
       "dtype: object"
      ]
     },
     "execution_count": 11,
     "metadata": {},
     "output_type": "execute_result"
    }
   ],
   "source": [
    "sd1"
   ]
  },
  {
   "cell_type": "code",
   "execution_count": 12,
   "id": "2b29f1fb",
   "metadata": {},
   "outputs": [
    {
     "data": {
      "text/plain": [
       "0       100\n",
       "1    python\n",
       "3      java\n",
       "4       600\n",
       "dtype: object"
      ]
     },
     "execution_count": 12,
     "metadata": {},
     "output_type": "execute_result"
    }
   ],
   "source": [
    "# TO delete the series data..\n",
    "sd1.drop(labels=2,inplace=True)\n",
    "sd1"
   ]
  },
  {
   "cell_type": "code",
   "execution_count": 13,
   "id": "56a0473a",
   "metadata": {},
   "outputs": [
    {
     "data": {
      "text/plain": [
       "1    python\n",
       "3      java\n",
       "dtype: object"
      ]
     },
     "execution_count": 13,
     "metadata": {},
     "output_type": "execute_result"
    }
   ],
   "source": [
    "sd1.drop(labels=[0,4],inplace=True)\n",
    "sd1"
   ]
  },
  {
   "cell_type": "code",
   "execution_count": 15,
   "id": "017e4a32",
   "metadata": {},
   "outputs": [
    {
     "data": {
      "text/plain": [
       "3    java\n",
       "dtype: object"
      ]
     },
     "execution_count": 15,
     "metadata": {},
     "output_type": "execute_result"
    }
   ],
   "source": [
    "sd1.drop(labels=1,inplace=True)\n",
    "sd1"
   ]
  },
  {
   "cell_type": "markdown",
   "id": "67847eb7",
   "metadata": {},
   "source": [
    "- Task1: To create the series having index values starts from 10 to 20 and values are squares of index values?"
   ]
  },
  {
   "cell_type": "code",
   "execution_count": 17,
   "id": "9197da90",
   "metadata": {},
   "outputs": [
    {
     "name": "stdout",
     "output_type": "stream",
     "text": [
      "10    100\n",
      "11    121\n",
      "12    144\n",
      "13    169\n",
      "14    196\n",
      "15    225\n",
      "16    256\n",
      "17    289\n",
      "18    324\n",
      "19    361\n",
      "dtype: int32\n"
     ]
    }
   ],
   "source": [
    "import numpy as np\n",
    "data=np.array([i**2 for i in range(10,20)])\n",
    "ser=pd.Series(data,index=[i for i in range(10,20)])\n",
    "print(ser)"
   ]
  },
  {
   "cell_type": "code",
   "execution_count": 18,
   "id": "eb7910e3",
   "metadata": {
    "collapsed": true
   },
   "outputs": [
    {
     "name": "stdout",
     "output_type": "stream",
     "text": [
      "10    100\n",
      "11    121\n",
      "12    144\n",
      "13    169\n",
      "14    196\n",
      "15    225\n",
      "16    256\n",
      "17    289\n",
      "18    324\n",
      "19    361\n",
      "20    400\n",
      "dtype: int64\n"
     ]
    }
   ],
   "source": [
    "# Create Series having index values start from 10 to 20 and values are squares of index values \n",
    "index_values = range(10, 21)  \n",
    "values = [i**2 for i in index_values] \n",
    "series = pd.Series(values, index=index_values)\n",
    "print(series)"
   ]
  },
  {
   "cell_type": "code",
   "execution_count": 19,
   "id": "3bc2a55e",
   "metadata": {},
   "outputs": [
    {
     "data": {
      "text/plain": [
       "10    100\n",
       "11    121\n",
       "12    144\n",
       "13    169\n",
       "14    196\n",
       "15    225\n",
       "16    256\n",
       "17    289\n",
       "18    324\n",
       "19    361\n",
       "20    400\n",
       "dtype: int64"
      ]
     },
     "execution_count": 19,
     "metadata": {},
     "output_type": "execute_result"
    }
   ],
   "source": [
    "series"
   ]
  },
  {
   "cell_type": "code",
   "execution_count": 20,
   "id": "df07d5bc",
   "metadata": {},
   "outputs": [
    {
     "data": {
      "text/plain": [
       "13    169\n",
       "18    324\n",
       "15    225\n",
       "dtype: int64"
      ]
     },
     "execution_count": 20,
     "metadata": {},
     "output_type": "execute_result"
    }
   ],
   "source": [
    "#To print the specific index names data\n",
    "# fancy indexing:\n",
    "series[[13,18,15]]"
   ]
  },
  {
   "cell_type": "code",
   "execution_count": 21,
   "id": "748b0687",
   "metadata": {},
   "outputs": [
    {
     "data": {
      "text/plain": [
       "3    java\n",
       "dtype: object"
      ]
     },
     "execution_count": 21,
     "metadata": {},
     "output_type": "execute_result"
    }
   ],
   "source": [
    "sd1"
   ]
  },
  {
   "cell_type": "code",
   "execution_count": 25,
   "id": "6ebb6d5e",
   "metadata": {},
   "outputs": [
    {
     "data": {
      "text/plain": [
       "3    java\n",
       "0      10\n",
       "1      20\n",
       "4      10\n",
       "5      20\n",
       "0      10\n",
       "1      20\n",
       "dtype: object"
      ]
     },
     "execution_count": 25,
     "metadata": {},
     "output_type": "execute_result"
    }
   ],
   "source": [
    "# To add new record to series data structure..\n",
    "sd1=sd1.append(pd.Series([10,20]))\n",
    "sd1"
   ]
  },
  {
   "cell_type": "code",
   "execution_count": 27,
   "id": "bd0b7aca",
   "metadata": {},
   "outputs": [
    {
     "data": {
      "text/plain": [
       "3      java\n",
       "0        10\n",
       "1        20\n",
       "4        10\n",
       "5        20\n",
       "0        10\n",
       "1        20\n",
       "0      nani\n",
       "1    aaryan\n",
       "dtype: object"
      ]
     },
     "execution_count": 27,
     "metadata": {},
     "output_type": "execute_result"
    }
   ],
   "source": [
    "s1 = pd.Series(['nani','aaryan'])\n",
    "sd1=sd1.append(s1)\n",
    "sd1"
   ]
  },
  {
   "cell_type": "code",
   "execution_count": 28,
   "id": "6cc7b18d",
   "metadata": {},
   "outputs": [
    {
     "data": {
      "text/plain": [
       "0      10\n",
       "0      10\n",
       "0    nani\n",
       "dtype: object"
      ]
     },
     "execution_count": 28,
     "metadata": {},
     "output_type": "execute_result"
    }
   ],
   "source": [
    "sd1[0]"
   ]
  },
  {
   "cell_type": "code",
   "execution_count": null,
   "id": "70acd199",
   "metadata": {},
   "outputs": [],
   "source": []
  }
 ],
 "metadata": {
  "kernelspec": {
   "display_name": "Python 3",
   "language": "python",
   "name": "python3"
  },
  "language_info": {
   "codemirror_mode": {
    "name": "ipython",
    "version": 3
   },
   "file_extension": ".py",
   "mimetype": "text/x-python",
   "name": "python",
   "nbconvert_exporter": "python",
   "pygments_lexer": "ipython3",
   "version": "3.8.8"
  }
 },
 "nbformat": 4,
 "nbformat_minor": 5
}
