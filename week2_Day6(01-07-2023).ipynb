{
 "cells": [
  {
   "cell_type": "markdown",
   "id": "73a52db3",
   "metadata": {},
   "source": [
    "#### Iterators and Generators:\n",
    "- Iterators:\n",
    "- 1. Iterator in python is simply an object that can be iterated upton.\n",
    "- 2. It is same as for loop, But difference is we can access the elements as per our requirements.\n",
    "- 3. Iterator have two methods:\n",
    "        - 1.iter() -> It is used to create iterator object.\n",
    "        - 2.next() -> It return one element at a time, Iterate through all the items of iterator."
   ]
  },
  {
   "cell_type": "code",
   "execution_count": 1,
   "id": "80c108cc",
   "metadata": {},
   "outputs": [
    {
     "name": "stdout",
     "output_type": "stream",
     "text": [
      "1 2 3 4 5 6 7 8 9 10 "
     ]
    }
   ],
   "source": [
    "# using for loop to print the 1 to 10 natural numbers..\n",
    "for i in range(1,11):\n",
    "    print(i,end=\" \")"
   ]
  },
  {
   "cell_type": "code",
   "execution_count": 9,
   "id": "f6f1e46d",
   "metadata": {},
   "outputs": [
    {
     "name": "stdout",
     "output_type": "stream",
     "text": [
      "10 20 30 40 50 <list_iterator object at 0x00000232CD22E7C0>\n",
      "10\n",
      "20\n",
      "30\n",
      "40\n",
      "50\n"
     ]
    },
    {
     "ename": "StopIteration",
     "evalue": "",
     "output_type": "error",
     "traceback": [
      "\u001b[1;31m---------------------------------------------------------------------------\u001b[0m",
      "\u001b[1;31mStopIteration\u001b[0m                             Traceback (most recent call last)",
      "\u001b[1;32m<ipython-input-9-2d583c1e7b81>\u001b[0m in \u001b[0;36m<module>\u001b[1;34m\u001b[0m\n\u001b[0;32m     11\u001b[0m \u001b[0mprint\u001b[0m\u001b[1;33m(\u001b[0m\u001b[0mnext\u001b[0m\u001b[1;33m(\u001b[0m\u001b[0mI1\u001b[0m\u001b[1;33m)\u001b[0m\u001b[1;33m)\u001b[0m\u001b[1;33m\u001b[0m\u001b[1;33m\u001b[0m\u001b[0m\n\u001b[0;32m     12\u001b[0m \u001b[0mprint\u001b[0m\u001b[1;33m(\u001b[0m\u001b[0mnext\u001b[0m\u001b[1;33m(\u001b[0m\u001b[0mI1\u001b[0m\u001b[1;33m)\u001b[0m\u001b[1;33m)\u001b[0m\u001b[1;33m\u001b[0m\u001b[1;33m\u001b[0m\u001b[0m\n\u001b[1;32m---> 13\u001b[1;33m \u001b[0mprint\u001b[0m\u001b[1;33m(\u001b[0m\u001b[0mnext\u001b[0m\u001b[1;33m(\u001b[0m\u001b[0mI1\u001b[0m\u001b[1;33m)\u001b[0m\u001b[1;33m)\u001b[0m\u001b[1;33m\u001b[0m\u001b[1;33m\u001b[0m\u001b[0m\n\u001b[0m",
      "\u001b[1;31mStopIteration\u001b[0m: "
     ]
    }
   ],
   "source": [
    "# example iterator...\n",
    "L1 = [10,20,30,40,50]\n",
    "for i in L1:\n",
    "    print(i,end=\" \")\n",
    "# using iterator...\n",
    "I1 = iter(L1) # To create the itertor object\n",
    "print(I1)\n",
    "print(next(I1))\n",
    "print(next(I1))\n",
    "print(next(I1))\n",
    "print(next(I1))\n",
    "print(next(I1))\n",
    "print(next(I1))"
   ]
  },
  {
   "cell_type": "markdown",
   "id": "eb5db782",
   "metadata": {},
   "source": [
    "### generator:\n",
    "- It returns an object, which we can iterate over.\n",
    "- In Generator using 'yeild' keyword we can get the all elements.\n",
    "- In any function which contains atleast 1 yeild keyword is considered as a generator.\n",
    "- generators are always used in combination with an iterator."
   ]
  },
  {
   "cell_type": "code",
   "execution_count": 16,
   "id": "8752cd80",
   "metadata": {},
   "outputs": [
    {
     "name": "stdout",
     "output_type": "stream",
     "text": [
      "<generator object sample at 0x00000232CD2DE0B0>\n"
     ]
    },
    {
     "data": {
      "text/plain": [
       "[1, 2, 3, 4, 5]"
      ]
     },
     "execution_count": 16,
     "metadata": {},
     "output_type": "execute_result"
    }
   ],
   "source": [
    "# example on generator....\n",
    "def sample():\n",
    "    i=1\n",
    "    while(i<=5):\n",
    "        yield i\n",
    "        i = i+1\n",
    "print(sample())\n",
    "list(sample())"
   ]
  },
  {
   "cell_type": "markdown",
   "id": "aab103b9",
   "metadata": {},
   "source": [
    "#### Functional programming:\n",
    "- Functional programming is programming paradigm in which we try to bind everything in pre mathematical functional style.\n",
    "\n",
    "- Python support functional programming."
   ]
  },
  {
   "cell_type": "markdown",
   "id": "adc83222",
   "metadata": {},
   "source": [
    "### lambda:\n",
    "- It is anonymous function.\n",
    "- syntax: lambda arg1,agr2:expression"
   ]
  },
  {
   "cell_type": "code",
   "execution_count": 17,
   "id": "83ad3b8a",
   "metadata": {},
   "outputs": [
    {
     "data": {
      "text/plain": [
       "300"
      ]
     },
     "execution_count": 17,
     "metadata": {},
     "output_type": "execute_result"
    }
   ],
   "source": [
    "# program to write the using normal functons.\n",
    "def add(a,b):\n",
    "    return a+b\n",
    "add(100,200)"
   ]
  },
  {
   "cell_type": "code",
   "execution_count": 18,
   "id": "560e501f",
   "metadata": {},
   "outputs": [
    {
     "data": {
      "text/plain": [
       "300"
      ]
     },
     "execution_count": 18,
     "metadata": {},
     "output_type": "execute_result"
    }
   ],
   "source": [
    "# program to write using lambda...\n",
    "ad = lambda n1,n2:n1+n2\n",
    "ad(100,200)"
   ]
  },
  {
   "cell_type": "code",
   "execution_count": 19,
   "id": "60c33f38",
   "metadata": {},
   "outputs": [
    {
     "data": {
      "text/plain": [
       "function"
      ]
     },
     "execution_count": 19,
     "metadata": {},
     "output_type": "execute_result"
    }
   ],
   "source": [
    "type(ad)"
   ]
  },
  {
   "cell_type": "code",
   "execution_count": 21,
   "id": "071138d6",
   "metadata": {},
   "outputs": [
    {
     "data": {
      "text/plain": [
       "625"
      ]
     },
     "execution_count": 21,
     "metadata": {},
     "output_type": "execute_result"
    }
   ],
   "source": [
    "# write a program to print the square of number?\n",
    "sq = lambda a:a**2\n",
    "sq(25)"
   ]
  },
  {
   "cell_type": "code",
   "execution_count": 23,
   "id": "5485e145",
   "metadata": {},
   "outputs": [
    {
     "data": {
      "text/plain": [
       "False"
      ]
     },
     "execution_count": 23,
     "metadata": {},
     "output_type": "execute_result"
    }
   ],
   "source": [
    "# using if else statements in lambda..\n",
    "# write the program to check the whether the person age is eligible for vote or not?\n",
    "vote = lambda a:True if(a>=18) else False\n",
    "vote(10)"
   ]
  },
  {
   "cell_type": "code",
   "execution_count": 24,
   "id": "893a01c3",
   "metadata": {},
   "outputs": [
    {
     "data": {
      "text/plain": [
       "True"
      ]
     },
     "execution_count": 24,
     "metadata": {},
     "output_type": "execute_result"
    }
   ],
   "source": [
    "# with out using if-else:\n",
    "# To check whether the number positive number or not?\n",
    "a1 = lambda n:(n>0)\n",
    "a1(100)"
   ]
  },
  {
   "cell_type": "code",
   "execution_count": 25,
   "id": "2ed91d2e",
   "metadata": {},
   "outputs": [
    {
     "data": {
      "text/plain": [
       "False"
      ]
     },
     "execution_count": 25,
     "metadata": {},
     "output_type": "execute_result"
    }
   ],
   "source": [
    "a1(-20)"
   ]
  },
  {
   "cell_type": "code",
   "execution_count": 26,
   "id": "dfbf310d",
   "metadata": {},
   "outputs": [
    {
     "data": {
      "text/plain": [
       "50"
      ]
     },
     "execution_count": 26,
     "metadata": {},
     "output_type": "execute_result"
    }
   ],
   "source": [
    "def my_func(f, arg):\n",
    "      return f(arg)\n",
    "my_func(lambda x: 2*x*x, 5)\n",
    "# f(arg) -> lambda x:2*x*x (5) -> x=5 -> 2*5*5 => 50"
   ]
  },
  {
   "cell_type": "markdown",
   "id": "817cf9b1",
   "metadata": {},
   "source": [
    "### Map():\n",
    "- map() function takes functon and iterable as a perameters and applies functionality to each item in the iterable.\n",
    "- syntax: map(function,ietrable)"
   ]
  },
  {
   "cell_type": "code",
   "execution_count": 28,
   "id": "146a523f",
   "metadata": {},
   "outputs": [
    {
     "name": "stdout",
     "output_type": "stream",
     "text": [
      "<map object at 0x00000232CD22E910>\n",
      "[100, 400, 900, 1600]\n"
     ]
    }
   ],
   "source": [
    "# to print the squre of number..\n",
    "def sq(n):\n",
    "    return n*n\n",
    "f = map(sq,[10,20,30,40])\n",
    "print(f)\n",
    "print(list(f))"
   ]
  },
  {
   "cell_type": "code",
   "execution_count": 29,
   "id": "5ee46178",
   "metadata": {},
   "outputs": [
    {
     "data": {
      "text/plain": [
       "[100, 121, 144, 169, 196, 225]"
      ]
     },
     "execution_count": 29,
     "metadata": {},
     "output_type": "execute_result"
    }
   ],
   "source": [
    "list(map(sq,[i for i in range(10,16)]))"
   ]
  },
  {
   "cell_type": "code",
   "execution_count": 50,
   "id": "fcccfa16",
   "metadata": {
    "scrolled": true
   },
   "outputs": [
    {
     "name": "stdout",
     "output_type": "stream",
     "text": [
      "1\n",
      "2\n",
      "3\n",
      "[None, None, None, None, None, None, None, None, None, None, None, None, None, None, None]\n"
     ]
    }
   ],
   "source": [
    "def digit(n):\n",
    "    if n.isdigit():\n",
    "        print(n)\n",
    "#dig = lambda n:print(n) if n.isdigit()\n",
    "print(list(map(digit,'apssdc123python')))"
   ]
  },
  {
   "cell_type": "markdown",
   "id": "539a609e",
   "metadata": {},
   "source": [
    "### Filter:\n",
    "- Filter takes a function and a sequence and return an iterable.\n",
    "- filter ther given iterable with the of function that tests each element in the iterable whether it is true or false.\n",
    "- syntax: filter(function,iterable)"
   ]
  },
  {
   "cell_type": "code",
   "execution_count": 52,
   "id": "eee2a0f8",
   "metadata": {},
   "outputs": [
    {
     "name": "stdout",
     "output_type": "stream",
     "text": [
      "[10, 20, 80]\n"
     ]
    }
   ],
   "source": [
    "def is_even(n):\n",
    "    if(n%2==0):\n",
    "        return True\n",
    "    else:\n",
    "        return False\n",
    "is_even(34)\n",
    "f = list(filter(is_even,[10,13,20,49,17,37,80]))\n",
    "print(f)"
   ]
  },
  {
   "cell_type": "code",
   "execution_count": 55,
   "id": "1835b06a",
   "metadata": {},
   "outputs": [
    {
     "name": "stdout",
     "output_type": "stream",
     "text": [
      "['1', '2', '3']\n"
     ]
    }
   ],
   "source": [
    "def digit(n):\n",
    "    if n.isdigit():\n",
    "        return True\n",
    "    else:\n",
    "        return False\n",
    "print(list(filter(digit,'apssdc123python')))"
   ]
  },
  {
   "cell_type": "code",
   "execution_count": 61,
   "id": "017419ed",
   "metadata": {},
   "outputs": [
    {
     "name": "stdout",
     "output_type": "stream",
     "text": [
      "['1', '2', '3', '4']\n"
     ]
    }
   ],
   "source": [
    "def digit(k):\n",
    "    if k.isdigit():\n",
    "        return k\n",
    "\n",
    "k = filter(lambda x:x!=None,map(digit,\"asish1234\"))\n",
    "print(list(k))"
   ]
  },
  {
   "cell_type": "markdown",
   "id": "dded0cc9",
   "metadata": {},
   "source": [
    "### reduce:\n",
    "- reduce(function,seq) is used to apply a particular functiona passed in its arguments to all of the list elements in the sequence.\n",
    "- first we need import functools module\n",
    "\n",
    "\n",
    "#### working procedure:\n",
    "\n",
    "The reduce(fun,seq) function is used to apply a particular function passed in its argument to all of the list elements mentioned in the sequence passed along.This function is defined in “functools” module.\n",
    "\n",
    "Working :  \n",
    "\n",
    "At first step, first two elements of sequence are picked and the result is obtained.\n",
    "Next step is to apply the same function to the previously attained result and the number just succeeding the second element and the result is again stored.\n",
    "This process continues till no more elements are left in the container.\n",
    "The final returned result is returned and printed on console."
   ]
  },
  {
   "cell_type": "code",
   "execution_count": 62,
   "id": "97b88930",
   "metadata": {},
   "outputs": [],
   "source": [
    "import functools"
   ]
  },
  {
   "cell_type": "code",
   "execution_count": 65,
   "id": "02629923",
   "metadata": {},
   "outputs": [
    {
     "name": "stdout",
     "output_type": "stream",
     "text": [
      "10\n"
     ]
    },
    {
     "data": {
      "text/plain": [
       "'term1 = 1\\nterm2 = 2\\nterm3 = term1+term2 => 1+2 => 3\\nterm1 = term3\\nterm2 = term3+term1 => 3+3 => 6'"
      ]
     },
     "execution_count": 65,
     "metadata": {},
     "output_type": "execute_result"
    }
   ],
   "source": [
    "# To print the sum of all elements..\n",
    "L1 = [1,2,3,4]\n",
    "print(functools.reduce(lambda a,b:a+b,L1))\n",
    "\n",
    "'''term1 = 1\n",
    "term2 = 2\n",
    "term3 = term1+term2 => 1+2 => 3\n",
    "term1 = term3\n",
    "term2 = term3+term1 => 3+3 => 6'''\n"
   ]
  },
  {
   "cell_type": "code",
   "execution_count": 66,
   "id": "57a14cb5",
   "metadata": {},
   "outputs": [
    {
     "data": {
      "text/plain": [
       "362880"
      ]
     },
     "execution_count": 66,
     "metadata": {},
     "output_type": "execute_result"
    }
   ],
   "source": [
    "functools.reduce(lambda a,b:a*b,range(1,10))"
   ]
  },
  {
   "cell_type": "code",
   "execution_count": null,
   "id": "7afc8f85",
   "metadata": {},
   "outputs": [],
   "source": []
  }
 ],
 "metadata": {
  "kernelspec": {
   "display_name": "Python 3",
   "language": "python",
   "name": "python3"
  },
  "language_info": {
   "codemirror_mode": {
    "name": "ipython",
    "version": 3
   },
   "file_extension": ".py",
   "mimetype": "text/x-python",
   "name": "python",
   "nbconvert_exporter": "python",
   "pygments_lexer": "ipython3",
   "version": "3.8.8"
  }
 },
 "nbformat": 4,
 "nbformat_minor": 5
}
