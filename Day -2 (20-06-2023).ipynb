{
 "cells": [
  {
   "cell_type": "markdown",
   "id": "fae81a69",
   "metadata": {},
   "source": [
    "### create link to an image\n",
    "\n",
    "* download image and save with extension in same folder where we are woking with folder\n",
    "* syntax: [image title](imagename.extension)\n",
    "\n",
    "\n",
    "[Python](python.jpg)"
   ]
  },
  {
   "cell_type": "markdown",
   "id": "3821073f",
   "metadata": {},
   "source": [
    "###  Adding images in markdown\n",
    "\n",
    "<img src=\"python.jpg\"  style=\"height:100px;width:100px;\">"
   ]
  },
  {
   "cell_type": "code",
   "execution_count": 1,
   "id": "05324138",
   "metadata": {},
   "outputs": [
    {
     "data": {
      "text/plain": [
       "'MULTI\\n            LINE\\n                    COMMENTS'"
      ]
     },
     "execution_count": 1,
     "metadata": {},
     "output_type": "execute_result"
    }
   ],
   "source": [
    "### comments\n",
    "\n",
    "# single line comment\n",
    "\"\"\"MULTI\n",
    "            LINE\n",
    "                    COMMENTS\"\"\""
   ]
  },
  {
   "cell_type": "markdown",
   "id": "420569a1",
   "metadata": {},
   "source": [
    "### data types"
   ]
  },
  {
   "cell_type": "code",
   "execution_count": 2,
   "id": "bb8e7895",
   "metadata": {},
   "outputs": [
    {
     "data": {
      "text/plain": [
       "int"
      ]
     },
     "execution_count": 2,
     "metadata": {},
     "output_type": "execute_result"
    }
   ],
   "source": [
    "a=90\n",
    "type(a)"
   ]
  },
  {
   "cell_type": "code",
   "execution_count": 3,
   "id": "2cdfd4b2",
   "metadata": {},
   "outputs": [
    {
     "data": {
      "text/plain": [
       "float"
      ]
     },
     "execution_count": 3,
     "metadata": {},
     "output_type": "execute_result"
    }
   ],
   "source": [
    "b=90.8  #float\n",
    "type(b)"
   ]
  },
  {
   "cell_type": "code",
   "execution_count": 6,
   "id": "3f20903f",
   "metadata": {},
   "outputs": [
    {
     "data": {
      "text/plain": [
       "bool"
      ]
     },
     "execution_count": 6,
     "metadata": {},
     "output_type": "execute_result"
    }
   ],
   "source": [
    "c=True\n",
    "type(c)"
   ]
  },
  {
   "cell_type": "code",
   "execution_count": 4,
   "id": "1650f67e",
   "metadata": {},
   "outputs": [
    {
     "data": {
      "text/plain": [
       "str"
      ]
     },
     "execution_count": 4,
     "metadata": {},
     "output_type": "execute_result"
    }
   ],
   "source": [
    "name=\"raju\"\n",
    "type(name)"
   ]
  },
  {
   "cell_type": "code",
   "execution_count": 5,
   "id": "a95b5529",
   "metadata": {},
   "outputs": [
    {
     "data": {
      "text/plain": [
       "complex"
      ]
     },
     "execution_count": 5,
     "metadata": {},
     "output_type": "execute_result"
    }
   ],
   "source": [
    "x=7+8j\n",
    "type(x)"
   ]
  },
  {
   "cell_type": "markdown",
   "id": "2adf532d",
   "metadata": {},
   "source": [
    "### variable\n",
    "* variable can store data of different types"
   ]
  },
  {
   "cell_type": "code",
   "execution_count": null,
   "id": "29ff8459",
   "metadata": {},
   "outputs": [],
   "source": [
    "val =900"
   ]
  },
  {
   "cell_type": "markdown",
   "id": "78fa7332",
   "metadata": {},
   "source": [
    "### Type casting\n",
    "\n",
    "* converting one data type into other type"
   ]
  },
  {
   "cell_type": "code",
   "execution_count": 7,
   "id": "8a9334eb",
   "metadata": {},
   "outputs": [
    {
     "name": "stdout",
     "output_type": "stream",
     "text": [
      "enter a value78\n"
     ]
    },
    {
     "data": {
      "text/plain": [
       "'78'"
      ]
     },
     "execution_count": 7,
     "metadata": {},
     "output_type": "execute_result"
    }
   ],
   "source": [
    "x=input(\"enter a value\")\n",
    "x"
   ]
  },
  {
   "cell_type": "code",
   "execution_count": 8,
   "id": "6d32894b",
   "metadata": {},
   "outputs": [
    {
     "data": {
      "text/plain": [
       "str"
      ]
     },
     "execution_count": 8,
     "metadata": {},
     "output_type": "execute_result"
    }
   ],
   "source": [
    "type(x)"
   ]
  },
  {
   "cell_type": "code",
   "execution_count": 9,
   "id": "bd6a5e38",
   "metadata": {},
   "outputs": [
    {
     "name": "stdout",
     "output_type": "stream",
     "text": [
      "enter a value89\n",
      "89\n",
      "<class 'int'>\n"
     ]
    }
   ],
   "source": [
    "x=input(\"enter a value\")\n",
    "y=int(x)   # converting x from string data type to int\n",
    "print(y)\n",
    "print(type(y))\n"
   ]
  },
  {
   "cell_type": "code",
   "execution_count": 10,
   "id": "c16b36a8",
   "metadata": {},
   "outputs": [
    {
     "name": "stdout",
     "output_type": "stream",
     "text": [
      "908\n",
      "<class 'int'>\n"
     ]
    }
   ],
   "source": [
    "# float to int\n",
    "\n",
    "a=908.7\n",
    "b=int(a)\n",
    "print(b)\n",
    "print(type(b))"
   ]
  },
  {
   "cell_type": "code",
   "execution_count": 11,
   "id": "d7ab84be",
   "metadata": {},
   "outputs": [
    {
     "data": {
      "text/plain": [
       "'908890'"
      ]
     },
     "execution_count": 11,
     "metadata": {},
     "output_type": "execute_result"
    }
   ],
   "source": [
    "\"908\"+\"890\"  # concate"
   ]
  },
  {
   "cell_type": "code",
   "execution_count": 12,
   "id": "5b1e168b",
   "metadata": {},
   "outputs": [
    {
     "data": {
      "text/plain": [
       "1798"
      ]
     },
     "execution_count": 12,
     "metadata": {},
     "output_type": "execute_result"
    }
   ],
   "source": [
    "908+890"
   ]
  },
  {
   "cell_type": "code",
   "execution_count": 13,
   "id": "502f2f8a",
   "metadata": {},
   "outputs": [
    {
     "data": {
      "text/plain": [
       "'super30'"
      ]
     },
     "execution_count": 13,
     "metadata": {},
     "output_type": "execute_result"
    }
   ],
   "source": [
    "\"super\"+\"30\""
   ]
  },
  {
   "cell_type": "code",
   "execution_count": 14,
   "id": "6fc0bee5",
   "metadata": {},
   "outputs": [
    {
     "ename": "TypeError",
     "evalue": "can only concatenate str (not \"int\") to str",
     "output_type": "error",
     "traceback": [
      "\u001b[1;31m---------------------------------------------------------------------------\u001b[0m",
      "\u001b[1;31mTypeError\u001b[0m                                 Traceback (most recent call last)",
      "\u001b[1;32m~\\AppData\\Local\\Temp\\ipykernel_13684\\2964075561.py\u001b[0m in \u001b[0;36m<module>\u001b[1;34m\u001b[0m\n\u001b[1;32m----> 1\u001b[1;33m \u001b[1;34m\"super\"\u001b[0m\u001b[1;33m+\u001b[0m\u001b[1;36m30\u001b[0m\u001b[1;33m\u001b[0m\u001b[1;33m\u001b[0m\u001b[0m\n\u001b[0m",
      "\u001b[1;31mTypeError\u001b[0m: can only concatenate str (not \"int\") to str"
     ]
    }
   ],
   "source": [
    "\"super\"+30"
   ]
  },
  {
   "cell_type": "markdown",
   "id": "b70598db",
   "metadata": {},
   "source": [
    "### Operators\n",
    "\n",
    "* Arithmetic operators ( +,-,*,/,//,%)\n",
    "* Assignment operators (=,+=,-=,*=,%=,/=,//=)\n",
    "* Comparison operators (==,<=,>=,<,>,!=)\n",
    "* Logical operators ( and , or ,not)\n",
    "* Bit wise operators\n",
    "* Identity operator\n",
    "* Membership operator "
   ]
  },
  {
   "cell_type": "code",
   "execution_count": null,
   "id": "26a0622c",
   "metadata": {},
   "outputs": [],
   "source": [
    "# addition of two number using arithemtic operator"
   ]
  },
  {
   "cell_type": "markdown",
   "id": "cfae1b32",
   "metadata": {},
   "source": [
    "### Arithmetic operators ( +,-,*,/,//,%,**)"
   ]
  },
  {
   "cell_type": "code",
   "execution_count": 15,
   "id": "11fba852",
   "metadata": {},
   "outputs": [
    {
     "name": "stdout",
     "output_type": "stream",
     "text": [
      "170\n"
     ]
    }
   ],
   "source": [
    "# addition (+)\n",
    "\n",
    "a=90\n",
    "b=80\n",
    "print(a+b)\n"
   ]
  },
  {
   "cell_type": "code",
   "execution_count": 16,
   "id": "5da38b31",
   "metadata": {},
   "outputs": [
    {
     "data": {
      "text/plain": [
       "12"
      ]
     },
     "execution_count": 16,
     "metadata": {},
     "output_type": "execute_result"
    }
   ],
   "source": [
    "a=90\n",
    "b=78\n",
    "a-b"
   ]
  },
  {
   "cell_type": "code",
   "execution_count": 17,
   "id": "6f56b848",
   "metadata": {},
   "outputs": [
    {
     "data": {
      "text/plain": [
       "7020"
      ]
     },
     "execution_count": 17,
     "metadata": {},
     "output_type": "execute_result"
    }
   ],
   "source": [
    "a*b"
   ]
  },
  {
   "cell_type": "code",
   "execution_count": 18,
   "id": "860aa249",
   "metadata": {},
   "outputs": [
    {
     "data": {
      "text/plain": [
       "1.1538461538461537"
      ]
     },
     "execution_count": 18,
     "metadata": {},
     "output_type": "execute_result"
    }
   ],
   "source": [
    "a/b"
   ]
  },
  {
   "cell_type": "code",
   "execution_count": 20,
   "id": "7d0aff65",
   "metadata": {},
   "outputs": [
    {
     "data": {
      "text/plain": [
       "1"
      ]
     },
     "execution_count": 20,
     "metadata": {},
     "output_type": "execute_result"
    }
   ],
   "source": [
    "x=3\n",
    "y=2\n",
    "x%y"
   ]
  },
  {
   "cell_type": "code",
   "execution_count": 23,
   "id": "7bb9114e",
   "metadata": {},
   "outputs": [
    {
     "data": {
      "text/plain": [
       "1.5"
      ]
     },
     "execution_count": 23,
     "metadata": {},
     "output_type": "execute_result"
    }
   ],
   "source": [
    "x/y"
   ]
  },
  {
   "cell_type": "code",
   "execution_count": 22,
   "id": "ba2eaf44",
   "metadata": {},
   "outputs": [
    {
     "data": {
      "text/plain": [
       "1"
      ]
     },
     "execution_count": 22,
     "metadata": {},
     "output_type": "execute_result"
    }
   ],
   "source": [
    "x//y"
   ]
  },
  {
   "cell_type": "code",
   "execution_count": 24,
   "id": "3732daae",
   "metadata": {},
   "outputs": [
    {
     "data": {
      "text/plain": [
       "9"
      ]
     },
     "execution_count": 24,
     "metadata": {},
     "output_type": "execute_result"
    }
   ],
   "source": [
    "x**y   "
   ]
  },
  {
   "cell_type": "markdown",
   "id": "57904d64",
   "metadata": {},
   "source": [
    "### logical operators -> and,or,not\n",
    "\n",
    "* and returns True if both statements are true otherwise false  ex: x<5 and x<10\n",
    "* or returns True if one of the statement is true   ex : x<5 or x<10\n",
    "* not "
   ]
  },
  {
   "cell_type": "code",
   "execution_count": 25,
   "id": "797fec7d",
   "metadata": {},
   "outputs": [
    {
     "data": {
      "text/plain": [
       "True"
      ]
     },
     "execution_count": 25,
     "metadata": {},
     "output_type": "execute_result"
    }
   ],
   "source": [
    "# and \n",
    "\n",
    "a=8\n",
    "a<90 and a>6"
   ]
  },
  {
   "cell_type": "code",
   "execution_count": 26,
   "id": "192d15f8",
   "metadata": {},
   "outputs": [
    {
     "data": {
      "text/plain": [
       "False"
      ]
     },
     "execution_count": 26,
     "metadata": {},
     "output_type": "execute_result"
    }
   ],
   "source": [
    "a<90 and a>10  # true and false\n"
   ]
  },
  {
   "cell_type": "code",
   "execution_count": 27,
   "id": "6ac73a26",
   "metadata": {},
   "outputs": [
    {
     "data": {
      "text/plain": [
       "True"
      ]
     },
     "execution_count": 27,
     "metadata": {},
     "output_type": "execute_result"
    }
   ],
   "source": [
    "# or \n",
    "\n",
    "a<78 or a>90"
   ]
  },
  {
   "cell_type": "code",
   "execution_count": 28,
   "id": "b502a182",
   "metadata": {},
   "outputs": [
    {
     "data": {
      "text/plain": [
       "False"
      ]
     },
     "execution_count": 28,
     "metadata": {},
     "output_type": "execute_result"
    }
   ],
   "source": [
    "a>80 and a<5"
   ]
  },
  {
   "cell_type": "code",
   "execution_count": 29,
   "id": "3d4e523b",
   "metadata": {},
   "outputs": [
    {
     "data": {
      "text/plain": [
       "True"
      ]
     },
     "execution_count": 29,
     "metadata": {},
     "output_type": "execute_result"
    }
   ],
   "source": [
    "# not\n",
    "\n",
    "b=90\n",
    "b>80"
   ]
  },
  {
   "cell_type": "code",
   "execution_count": 30,
   "id": "8143900b",
   "metadata": {},
   "outputs": [
    {
     "data": {
      "text/plain": [
       "False"
      ]
     },
     "execution_count": 30,
     "metadata": {},
     "output_type": "execute_result"
    }
   ],
   "source": [
    "not(b>80)"
   ]
  },
  {
   "cell_type": "markdown",
   "id": "1e3018f1",
   "metadata": {},
   "source": [
    "### comparison operators (>,<,>=,<=,==,!=)\n"
   ]
  },
  {
   "cell_type": "code",
   "execution_count": 31,
   "id": "89e78448",
   "metadata": {},
   "outputs": [
    {
     "data": {
      "text/plain": [
       "True"
      ]
     },
     "execution_count": 31,
     "metadata": {},
     "output_type": "execute_result"
    }
   ],
   "source": [
    "x=90\n",
    "y=89\n",
    "x>y"
   ]
  },
  {
   "cell_type": "code",
   "execution_count": 32,
   "id": "aebadaa7",
   "metadata": {},
   "outputs": [
    {
     "data": {
      "text/plain": [
       "False"
      ]
     },
     "execution_count": 32,
     "metadata": {},
     "output_type": "execute_result"
    }
   ],
   "source": [
    "x<y"
   ]
  },
  {
   "cell_type": "code",
   "execution_count": 34,
   "id": "d3a36ab5",
   "metadata": {},
   "outputs": [
    {
     "data": {
      "text/plain": [
       "True"
      ]
     },
     "execution_count": 34,
     "metadata": {},
     "output_type": "execute_result"
    }
   ],
   "source": [
    "x=90\n",
    "y=90\n",
    "\n",
    "x>=y"
   ]
  },
  {
   "cell_type": "code",
   "execution_count": 35,
   "id": "5b4950bd",
   "metadata": {},
   "outputs": [
    {
     "data": {
      "text/plain": [
       "True"
      ]
     },
     "execution_count": 35,
     "metadata": {},
     "output_type": "execute_result"
    }
   ],
   "source": [
    "x<=y"
   ]
  },
  {
   "cell_type": "code",
   "execution_count": 36,
   "id": "866b3b93",
   "metadata": {},
   "outputs": [
    {
     "data": {
      "text/plain": [
       "True"
      ]
     },
     "execution_count": 36,
     "metadata": {},
     "output_type": "execute_result"
    }
   ],
   "source": [
    "x==y"
   ]
  },
  {
   "cell_type": "code",
   "execution_count": 37,
   "id": "7edc297a",
   "metadata": {},
   "outputs": [
    {
     "data": {
      "text/plain": [
       "False"
      ]
     },
     "execution_count": 37,
     "metadata": {},
     "output_type": "execute_result"
    }
   ],
   "source": [
    "x!=y "
   ]
  },
  {
   "cell_type": "code",
   "execution_count": 38,
   "id": "f7c4e8cb",
   "metadata": {},
   "outputs": [
    {
     "data": {
      "text/plain": [
       "True"
      ]
     },
     "execution_count": 38,
     "metadata": {},
     "output_type": "execute_result"
    }
   ],
   "source": [
    "x=9\n",
    "y=5\n",
    "x!=y"
   ]
  },
  {
   "cell_type": "markdown",
   "id": "42344d85",
   "metadata": {},
   "source": [
    "### Assignment operators +,+=,-,-=,*=,/=,%=,//=\n",
    "* Used to assign values to variables"
   ]
  },
  {
   "cell_type": "code",
   "execution_count": 43,
   "id": "45145796",
   "metadata": {},
   "outputs": [
    {
     "name": "stdout",
     "output_type": "stream",
     "text": [
      "89\n"
     ]
    }
   ],
   "source": [
    "x=89\n",
    "print(x)"
   ]
  },
  {
   "cell_type": "code",
   "execution_count": 44,
   "id": "2014334c",
   "metadata": {},
   "outputs": [
    {
     "name": "stdout",
     "output_type": "stream",
     "text": [
      "98\n"
     ]
    }
   ],
   "source": [
    "x=90\n",
    "x+=8  # x=x+8\n",
    "print(x)"
   ]
  },
  {
   "cell_type": "code",
   "execution_count": 45,
   "id": "4080c8e7",
   "metadata": {},
   "outputs": [
    {
     "name": "stdout",
     "output_type": "stream",
     "text": [
      "96\n"
     ]
    }
   ],
   "source": [
    "x-=2   # x=x-2\n",
    "print(x)"
   ]
  },
  {
   "cell_type": "code",
   "execution_count": 46,
   "id": "962f9953",
   "metadata": {},
   "outputs": [
    {
     "data": {
      "text/plain": [
       "27"
      ]
     },
     "execution_count": 46,
     "metadata": {},
     "output_type": "execute_result"
    }
   ],
   "source": [
    "x=3 \n",
    "x*=9 # x=x*9\n",
    "x"
   ]
  },
  {
   "cell_type": "code",
   "execution_count": 47,
   "id": "706f6916",
   "metadata": {},
   "outputs": [
    {
     "name": "stdout",
     "output_type": "stream",
     "text": [
      "6.75\n"
     ]
    }
   ],
   "source": [
    "x/=4\n",
    "print(x)"
   ]
  },
  {
   "cell_type": "code",
   "execution_count": 48,
   "id": "de284eac",
   "metadata": {},
   "outputs": [
    {
     "name": "stdout",
     "output_type": "stream",
     "text": [
      "0.75\n"
     ]
    }
   ],
   "source": [
    "x%=2\n",
    "print(x)"
   ]
  },
  {
   "cell_type": "code",
   "execution_count": 49,
   "id": "aa40b81b",
   "metadata": {},
   "outputs": [
    {
     "name": "stdout",
     "output_type": "stream",
     "text": [
      "2\n"
     ]
    }
   ],
   "source": [
    "x=8\n",
    "x//=3 \n",
    "print(x)"
   ]
  },
  {
   "cell_type": "markdown",
   "id": "e56ec890",
   "metadata": {},
   "source": [
    "### Bitwise operators &,|,<<,>>,~\n",
    "\n",
    "* Bitwise AND\n",
    "* Bitwise or\n",
    "* Bitwise leftshift\n",
    "* Bitwise rightshift\n",
    "* Bitwise not"
   ]
  },
  {
   "cell_type": "code",
   "execution_count": 51,
   "id": "e6ff7490",
   "metadata": {},
   "outputs": [
    {
     "data": {
      "text/plain": [
       "2"
      ]
     },
     "execution_count": 51,
     "metadata": {},
     "output_type": "execute_result"
    }
   ],
   "source": [
    "a=2   # 2 ->  0010 \n",
    "b=3   # 3 ->  0011\n",
    "\n",
    "a&b  #        0010  -> 2"
   ]
  },
  {
   "cell_type": "code",
   "execution_count": 52,
   "id": "cd54ad4b",
   "metadata": {},
   "outputs": [
    {
     "data": {
      "text/plain": [
       "5"
      ]
     },
     "execution_count": 52,
     "metadata": {},
     "output_type": "execute_result"
    }
   ],
   "source": [
    "c=4  # 4 -> 0100\n",
    "d=5 #  5 -> 0101\n",
    "\n",
    "c|d  #      0101  -> 5"
   ]
  },
  {
   "cell_type": "code",
   "execution_count": 53,
   "id": "b3e98858",
   "metadata": {},
   "outputs": [
    {
     "data": {
      "text/plain": [
       "'0b10'"
      ]
     },
     "execution_count": 53,
     "metadata": {},
     "output_type": "execute_result"
    }
   ],
   "source": [
    "bin(2)"
   ]
  },
  {
   "cell_type": "code",
   "execution_count": 54,
   "id": "e4e86f51",
   "metadata": {},
   "outputs": [
    {
     "data": {
      "text/plain": [
       "40"
      ]
     },
     "execution_count": 54,
     "metadata": {},
     "output_type": "execute_result"
    }
   ],
   "source": [
    "## left shift\n",
    "\n",
    "# 10 -> 1010\n",
    "\n",
    "10<<2   # 101000   -> 40"
   ]
  },
  {
   "cell_type": "code",
   "execution_count": 55,
   "id": "40e20d39",
   "metadata": {},
   "outputs": [
    {
     "data": {
      "text/plain": [
       "2"
      ]
     },
     "execution_count": 55,
     "metadata": {},
     "output_type": "execute_result"
    }
   ],
   "source": [
    "# right shift\n",
    "\n",
    "# 10 -> 1010\n",
    "\n",
    "10>>2  # 10 ->2"
   ]
  },
  {
   "cell_type": "code",
   "execution_count": 56,
   "id": "7ce7bf1a",
   "metadata": {},
   "outputs": [
    {
     "data": {
      "text/plain": [
       "-10"
      ]
     },
     "execution_count": 56,
     "metadata": {},
     "output_type": "execute_result"
    }
   ],
   "source": [
    "##tild (~)  -(n+1)\n",
    "\n",
    "c=9\n",
    "~c  # -(9+1)"
   ]
  },
  {
   "cell_type": "code",
   "execution_count": null,
   "id": "3bfe13ef",
   "metadata": {},
   "outputs": [],
   "source": []
  }
 ],
 "metadata": {
  "kernelspec": {
   "display_name": "Python 3 (ipykernel)",
   "language": "python",
   "name": "python3"
  },
  "language_info": {
   "codemirror_mode": {
    "name": "ipython",
    "version": 3
   },
   "file_extension": ".py",
   "mimetype": "text/x-python",
   "name": "python",
   "nbconvert_exporter": "python",
   "pygments_lexer": "ipython3",
   "version": "3.9.13"
  }
 },
 "nbformat": 4,
 "nbformat_minor": 5
}
