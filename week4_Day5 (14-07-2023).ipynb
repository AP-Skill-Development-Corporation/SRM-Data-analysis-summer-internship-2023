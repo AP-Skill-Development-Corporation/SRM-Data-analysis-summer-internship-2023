{
 "cells": [
  {
   "cell_type": "markdown",
   "id": "4fd93292",
   "metadata": {},
   "source": [
    "### Data Preprocessing with Scikit learn"
   ]
  },
  {
   "cell_type": "markdown",
   "id": "1b003a9c",
   "metadata": {},
   "source": [
    "#### Preprocessing Techniques\n",
    "\n",
    "* Data Preprocessing is a technique that is used to convert raw data into a clean dataset"
   ]
  },
  {
   "cell_type": "markdown",
   "id": "aba1de9f",
   "metadata": {},
   "source": [
    "### Data preprocessing steps\n",
    "\n",
    "* Loading data (reading files)\n",
    "* Exploring data (Summarizing,statistics etc..)\n",
    "* Cleaning data (handling missing data)\n",
    "* Transforming data (Scaling ,feature engineering etc..)\n",
    "        * will learn data preprocessing technique with scikit-learn,one of the most popular frameworks used for DataScience\n",
    "        * The scikit-learn library include tools for data preprocessing and data mining. \n",
    "        * It is imported in python via statement import sklearn\n",
    "        * provides machine learning algorithms: classification,regression,clustering,model validation etc\n",
    "        * scikitlearn built on Numpy,Scipy and Matplotlib\n",
    "    \n"
   ]
  },
  {
   "cell_type": "markdown",
   "id": "535bb14e",
   "metadata": {},
   "source": [
    "### Data Imputation( used to deal with mising values)\n",
    "\n",
    "* Data imputation is a method for retaining the majority of dataset's set and information by substituting missing data with a different value.\n",
    "* if the dataset is missing too many values,we just don't use it\n",
    "* if only a few of the values are missing, we can perform data imputation to substitute the missing data with some other values\n",
    "* There are many different methods for data imputation\n",
    "    * Using the mean value\n",
    "    * Using the median value\n",
    "    * Using the most frequent value(mode)\n",
    "    * Filling missing values with a constant\n"
   ]
  },
  {
   "cell_type": "markdown",
   "id": "3533315c",
   "metadata": {},
   "source": [
    "### Data  imputation"
   ]
  },
  {
   "cell_type": "code",
   "execution_count": 1,
   "id": "ea8b0b3e",
   "metadata": {},
   "outputs": [],
   "source": [
    "from sklearn.impute import SimpleImputer"
   ]
  },
  {
   "cell_type": "code",
   "execution_count": 5,
   "id": "11e82f3e",
   "metadata": {},
   "outputs": [
    {
     "data": {
      "text/html": [
       "<div>\n",
       "<style scoped>\n",
       "    .dataframe tbody tr th:only-of-type {\n",
       "        vertical-align: middle;\n",
       "    }\n",
       "\n",
       "    .dataframe tbody tr th {\n",
       "        vertical-align: top;\n",
       "    }\n",
       "\n",
       "    .dataframe thead th {\n",
       "        text-align: right;\n",
       "    }\n",
       "</style>\n",
       "<table border=\"1\" class=\"dataframe\">\n",
       "  <thead>\n",
       "    <tr style=\"text-align: right;\">\n",
       "      <th></th>\n",
       "      <th>a</th>\n",
       "      <th>b</th>\n",
       "      <th>c</th>\n",
       "    </tr>\n",
       "  </thead>\n",
       "  <tbody>\n",
       "    <tr>\n",
       "      <th>1</th>\n",
       "      <td>10.0</td>\n",
       "      <td>454.0</td>\n",
       "      <td>13.0</td>\n",
       "    </tr>\n",
       "    <tr>\n",
       "      <th>2</th>\n",
       "      <td>89.0</td>\n",
       "      <td>NaN</td>\n",
       "      <td>45.0</td>\n",
       "    </tr>\n",
       "    <tr>\n",
       "      <th>3</th>\n",
       "      <td>76.0</td>\n",
       "      <td>34.0</td>\n",
       "      <td>35.0</td>\n",
       "    </tr>\n",
       "    <tr>\n",
       "      <th>4</th>\n",
       "      <td>NaN</td>\n",
       "      <td>23.0</td>\n",
       "      <td>35.0</td>\n",
       "    </tr>\n",
       "    <tr>\n",
       "      <th>5</th>\n",
       "      <td>56.0</td>\n",
       "      <td>34.0</td>\n",
       "      <td>NaN</td>\n",
       "    </tr>\n",
       "  </tbody>\n",
       "</table>\n",
       "</div>"
      ],
      "text/plain": [
       "      a      b     c\n",
       "1  10.0  454.0  13.0\n",
       "2  89.0    NaN  45.0\n",
       "3  76.0   34.0  35.0\n",
       "4   NaN   23.0  35.0\n",
       "5  56.0   34.0   NaN"
      ]
     },
     "execution_count": 5,
     "metadata": {},
     "output_type": "execute_result"
    }
   ],
   "source": [
    "import pandas as pd\n",
    "import numpy as np\n",
    "di={\n",
    "    \"a\":pd.Series([10,89,76,np.nan,56],index=[1,2,3,4,5]),\n",
    "    \"b\":pd.Series([454,34,23,34],index=[1,3,4,5]),\n",
    "    \"c\":pd.Series([13,45,35,35],index=[1,2,3,4])\n",
    "}\n",
    "df=pd.DataFrame(di)\n",
    "df"
   ]
  },
  {
   "cell_type": "markdown",
   "id": "153a99cf",
   "metadata": {},
   "source": [
    "* fit_transform() from sklearn,preprocessing class is  used to preprocessing data for \n",
    "model training\n",
    "* fit() method calculates various required parameters and\n",
    "* transform() method applies the calculated parameters to standardize the data\n",
    "* The fit_transform() is used to fit the data into a model and transform it into a form that is more suitable for model in a single step. This saves our time and effort for calling both fit() and transform() seperately"
   ]
  },
  {
   "cell_type": "code",
   "execution_count": 6,
   "id": "e3a29722",
   "metadata": {},
   "outputs": [
    {
     "data": {
      "text/plain": [
       "array([[ 10., 454.,  13.],\n",
       "       [ 89.,  34.,  45.],\n",
       "       [ 76.,  34.,  35.],\n",
       "       [ 66.,  23.,  35.],\n",
       "       [ 56.,  34.,  35.]])"
      ]
     },
     "execution_count": 6,
     "metadata": {},
     "output_type": "execute_result"
    }
   ],
   "source": [
    "si=SimpleImputer(strategy=\"median\")\n",
    "si.fit_transform(df)"
   ]
  },
  {
   "cell_type": "code",
   "execution_count": 7,
   "id": "a8ac671b",
   "metadata": {
    "collapsed": true
   },
   "outputs": [
    {
     "data": {
      "text/plain": [
       "a    66.0\n",
       "b    34.0\n",
       "c    35.0\n",
       "dtype: float64"
      ]
     },
     "execution_count": 7,
     "metadata": {},
     "output_type": "execute_result"
    }
   ],
   "source": [
    "df.median()"
   ]
  },
  {
   "cell_type": "code",
   "execution_count": 8,
   "id": "4230f389",
   "metadata": {
    "collapsed": true
   },
   "outputs": [
    {
     "data": {
      "text/plain": [
       "array([[ 10.  , 454.  ,  13.  ],\n",
       "       [ 89.  , 136.25,  45.  ],\n",
       "       [ 76.  ,  34.  ,  35.  ],\n",
       "       [ 57.75,  23.  ,  35.  ],\n",
       "       [ 56.  ,  34.  ,  32.  ]])"
      ]
     },
     "execution_count": 8,
     "metadata": {},
     "output_type": "execute_result"
    }
   ],
   "source": [
    "si=SimpleImputer(strategy=\"mean\")\n",
    "si.fit_transform(df)"
   ]
  },
  {
   "cell_type": "code",
   "execution_count": 9,
   "id": "fe8a9879",
   "metadata": {
    "collapsed": true
   },
   "outputs": [
    {
     "data": {
      "text/plain": [
       "a     57.75\n",
       "b    136.25\n",
       "c     32.00\n",
       "dtype: float64"
      ]
     },
     "execution_count": 9,
     "metadata": {},
     "output_type": "execute_result"
    }
   ],
   "source": [
    "df.mean()"
   ]
  },
  {
   "cell_type": "code",
   "execution_count": 11,
   "id": "1549419f",
   "metadata": {
    "collapsed": true
   },
   "outputs": [
    {
     "name": "stderr",
     "output_type": "stream",
     "text": [
      "C:\\Users\\meena\\anaconda3\\lib\\site-packages\\sklearn\\impute\\_base.py:49: FutureWarning: Unlike other reduction functions (e.g. `skew`, `kurtosis`), the default behavior of `mode` typically preserves the axis it acts along. In SciPy 1.11.0, this behavior will change: the default value of `keepdims` will become False, the `axis` over which the statistic is taken will be eliminated, and the value None will no longer be accepted. Set `keepdims` to True or False to avoid this warning.\n",
      "  mode = stats.mode(array)\n"
     ]
    },
    {
     "data": {
      "text/plain": [
       "array([[ 10., 454.,  13.],\n",
       "       [ 89.,  34.,  45.],\n",
       "       [ 76.,  34.,  35.],\n",
       "       [ 10.,  23.,  35.],\n",
       "       [ 56.,  34.,  35.]])"
      ]
     },
     "execution_count": 11,
     "metadata": {},
     "output_type": "execute_result"
    }
   ],
   "source": [
    "si=SimpleImputer(strategy=\"most_frequent\")\n",
    "si.fit_transform(df)"
   ]
  },
  {
   "cell_type": "code",
   "execution_count": 12,
   "id": "59f9cb60",
   "metadata": {
    "collapsed": true
   },
   "outputs": [
    {
     "data": {
      "text/plain": [
       "array([[ 10., 454.,  13.],\n",
       "       [ 89.,  -1.,  45.],\n",
       "       [ 76.,  34.,  35.],\n",
       "       [ -1.,  23.,  35.],\n",
       "       [ 56.,  34.,  -1.]])"
      ]
     },
     "execution_count": 12,
     "metadata": {},
     "output_type": "execute_result"
    }
   ],
   "source": [
    "si=SimpleImputer(strategy=\"constant\",fill_value=-1)\n",
    "si.fit_transform(df)"
   ]
  },
  {
   "cell_type": "markdown",
   "id": "2cab465c",
   "metadata": {},
   "source": [
    "# Task \n",
    "* Load titanic dataset\n",
    "* clean data by using simpleimputer"
   ]
  },
  {
   "cell_type": "code",
   "execution_count": null,
   "id": "1a74bfa3",
   "metadata": {},
   "outputs": [],
   "source": [
    "[10kg ,1000 tones , 70 gms, 800 gms] --- weights\n",
    "\n",
    "10+1000+70+800  -->in correct\n",
    "\n",
    "* Inorder to do sum of weights we have to convert all units into same unit or unique format ,\n",
    "this is nothing but scaling"
   ]
  },
  {
   "cell_type": "markdown",
   "id": "33cffe1e",
   "metadata": {},
   "source": [
    "### Feature scaling\n",
    "\n",
    "* Feature scaling is a data preprocessing technique that involves transforming the values of features\n",
    "or variables in a dataset into a similar scale.\n",
    "* Feature scaling  is the process of normalizing the range of features in a dsataset\n",
    "* Real world data often contain features that are varying in degrees of magnitude,range and units\n",
    "* Therefore inorder for machine learning models to interpret these features on the same scale ,\n",
    "we need to perform feature scaling"
   ]
  },
  {
   "cell_type": "markdown",
   "id": "d78b425d",
   "metadata": {},
   "source": [
    "### Scaling techniques \n",
    "* used to convert raw data into meaningful data\n",
    "1. Standardizing Data\n",
    "2. Data Range\n",
    "3. Normalizing Data\n",
    "4. Robust scaling"
   ]
  },
  {
   "cell_type": "markdown",
   "id": "16cb8933",
   "metadata": {},
   "source": [
    "### 1.Standardizing data(column wise or label wise or feature wise)\n",
    "\n",
    "* Standard format refers to data that has 0 mean and unit variance(i.e standard deviation=1), and the process of converting data into this format is called data standardization\n"
   ]
  },
  {
   "cell_type": "code",
   "execution_count": null,
   "id": "c592689a",
   "metadata": {},
   "outputs": [],
   "source": []
  }
 ],
 "metadata": {
  "kernelspec": {
   "display_name": "Python 3 (ipykernel)",
   "language": "python",
   "name": "python3"
  },
  "language_info": {
   "codemirror_mode": {
    "name": "ipython",
    "version": 3
   },
   "file_extension": ".py",
   "mimetype": "text/x-python",
   "name": "python",
   "nbconvert_exporter": "python",
   "pygments_lexer": "ipython3",
   "version": "3.9.13"
  }
 },
 "nbformat": 4,
 "nbformat_minor": 5
}
