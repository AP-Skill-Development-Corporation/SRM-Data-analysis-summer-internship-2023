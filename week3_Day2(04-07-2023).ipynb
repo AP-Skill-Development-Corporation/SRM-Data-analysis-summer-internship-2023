{
 "cells": [
  {
   "cell_type": "markdown",
   "id": "3bf6c8b2",
   "metadata": {},
   "source": [
    "### Modules and packages:\n",
    "- Module:\n",
    "    - It is a collection of functions,variables and classes.\n",
    "    - Module is nothing but .py file.\n",
    "    - syntax: \n",
    "              import modulename\n",
    "              - To access the module data...\n",
    "                  modulename.function_name\n",
    "                  modulename.varibale_name\n",
    "                  modulename.class_name"
   ]
  },
  {
   "cell_type": "code",
   "execution_count": 2,
   "id": "4db89114",
   "metadata": {},
   "outputs": [
    {
     "name": "stdout",
     "output_type": "stream",
     "text": [
      "Good Morning to Everyone!..\n"
     ]
    }
   ],
   "source": [
    "# first we need to import module...\n",
    "import demo\n",
    "# To access the functions,varibales,classes...\n",
    "demo.greeting()"
   ]
  },
  {
   "cell_type": "code",
   "execution_count": 3,
   "id": "99f67d8f",
   "metadata": {},
   "outputs": [
    {
     "data": {
      "text/plain": [
       "30"
      ]
     },
     "execution_count": 3,
     "metadata": {},
     "output_type": "execute_result"
    }
   ],
   "source": [
    "demo.addition(10,20)"
   ]
  },
  {
   "cell_type": "code",
   "execution_count": 4,
   "id": "b47198f2",
   "metadata": {},
   "outputs": [
    {
     "data": {
      "text/plain": [
       "100"
      ]
     },
     "execution_count": 4,
     "metadata": {},
     "output_type": "execute_result"
    }
   ],
   "source": [
    "demo.n"
   ]
  },
  {
   "cell_type": "code",
   "execution_count": 6,
   "id": "b37a46f5",
   "metadata": {},
   "outputs": [
    {
     "name": "stdout",
     "output_type": "stream",
     "text": [
      "It is a class\n"
     ]
    }
   ],
   "source": [
    "demo.Hello.display()"
   ]
  },
  {
   "cell_type": "code",
   "execution_count": 8,
   "id": "3ac06616",
   "metadata": {},
   "outputs": [
    {
     "name": "stdout",
     "output_type": "stream",
     "text": [
      "Good Morning to Everyone!..\n"
     ]
    }
   ],
   "source": [
    "# using alias names..\n",
    "import demo as d\n",
    "d.greeting()"
   ]
  },
  {
   "cell_type": "code",
   "execution_count": 10,
   "id": "965aa71c",
   "metadata": {},
   "outputs": [
    {
     "name": "stdout",
     "output_type": "stream",
     "text": [
      "Good Morning to Everyone!..\n"
     ]
    },
    {
     "data": {
      "text/plain": [
       "100"
      ]
     },
     "execution_count": 10,
     "metadata": {},
     "output_type": "execute_result"
    }
   ],
   "source": [
    "# using from keyword...\n",
    "from demo import greeting,addition,n,Hello\n",
    "greeting()\n",
    "n"
   ]
  },
  {
   "cell_type": "code",
   "execution_count": 11,
   "id": "19703b9a",
   "metadata": {},
   "outputs": [
    {
     "name": "stdout",
     "output_type": "stream",
     "text": [
      "Good Morning to Everyone!..\n"
     ]
    }
   ],
   "source": [
    "from demo import *\n",
    "greeting()"
   ]
  },
  {
   "cell_type": "code",
   "execution_count": 12,
   "id": "99fb1620",
   "metadata": {
    "collapsed": true
   },
   "outputs": [
    {
     "name": "stdout",
     "output_type": "stream",
     "text": [
      "Help on module demo:\n",
      "\n",
      "NAME\n",
      "    demo\n",
      "\n",
      "CLASSES\n",
      "    builtins.object\n",
      "        Hello\n",
      "    \n",
      "    class Hello(builtins.object)\n",
      "     |  Methods defined here:\n",
      "     |  \n",
      "     |  display()\n",
      "     |  \n",
      "     |  ----------------------------------------------------------------------\n",
      "     |  Data descriptors defined here:\n",
      "     |  \n",
      "     |  __dict__\n",
      "     |      dictionary for instance variables (if defined)\n",
      "     |  \n",
      "     |  __weakref__\n",
      "     |      list of weak references to the object (if defined)\n",
      "\n",
      "FUNCTIONS\n",
      "    addition(a, b)\n",
      "    \n",
      "    greeting()\n",
      "\n",
      "DATA\n",
      "    n = 100\n",
      "\n",
      "FILE\n",
      "    c:\\users\\bhavya\\srm-internship-da\\week3\\demo.py\n",
      "\n",
      "\n"
     ]
    }
   ],
   "source": [
    "help(demo)"
   ]
  },
  {
   "cell_type": "markdown",
   "id": "426632e1",
   "metadata": {},
   "source": [
    "### packages:\n",
    "- Package is nothing but a folder or directory.\n",
    "- It is a collection of modules..\n",
    "- syntax:\n",
    "         import packagename.modulename\n",
    "         - how to access the data..\n",
    "         packagename.modulename.function_name"
   ]
  },
  {
   "cell_type": "code",
   "execution_count": 14,
   "id": "e36ed3f6",
   "metadata": {},
   "outputs": [
    {
     "data": {
      "text/plain": [
       "30"
      ]
     },
     "execution_count": 14,
     "metadata": {},
     "output_type": "execute_result"
    }
   ],
   "source": [
    "import package.menu\n",
    "package.menu.addition(10,20)"
   ]
  },
  {
   "cell_type": "code",
   "execution_count": 17,
   "id": "f1fec606",
   "metadata": {},
   "outputs": [
    {
     "data": {
      "text/plain": [
       "200"
      ]
     },
     "execution_count": 17,
     "metadata": {},
     "output_type": "execute_result"
    }
   ],
   "source": [
    "# using from\n",
    "from package.menu import addition,reverse,c\n",
    "addition(100,200)\n",
    "reverse(2345)\n",
    "c"
   ]
  },
  {
   "cell_type": "code",
   "execution_count": 19,
   "id": "303f3ab1",
   "metadata": {},
   "outputs": [
    {
     "data": {
      "text/plain": [
       "654"
      ]
     },
     "execution_count": 19,
     "metadata": {},
     "output_type": "execute_result"
    }
   ],
   "source": [
    "# using '*' symbol\n",
    "from package.menu import *\n",
    "reverse(456)"
   ]
  },
  {
   "cell_type": "markdown",
   "id": "dce538c8",
   "metadata": {},
   "source": [
    "#### OOPS:\n",
    "- Python also support the object oriented programming.\n",
    "- OOPS stand for Object Oriented Programming System.\n",
    "- In oops we can write the class and functions, varibles..\n",
    "- To access the class data using object.\n",
    "- syntax:\n",
    "         class class_name:\n",
    "             body of class\n",
    "##### class:\n",
    "          - It is a collection of Variables(Attributes) and methods.\n",
    "##### Method:\n",
    "          - If function is existed inside the class then it will be called as a method.\n",
    "##### Function:\n",
    "          - It is a group of statements.\n",
    "- class syntax:\n",
    "            class class_name:\n",
    "                - List of attributes(variables)\n",
    "                - List of methods"
   ]
  },
  {
   "cell_type": "code",
   "execution_count": 20,
   "id": "4d25d855",
   "metadata": {},
   "outputs": [],
   "source": [
    "# Class declaration...\n",
    "class Hello:\n",
    "    a=10\n",
    "    b=20\n",
    "    def display():\n",
    "        print('I am from Hello classname')"
   ]
  },
  {
   "cell_type": "markdown",
   "id": "d7dcf9e8",
   "metadata": {},
   "source": [
    "##### For accessing class elements:\n",
    "- using dot(.) operator -> basic method\n",
    "- ex: class_name.variable_name\n",
    "      class_name.method_name"
   ]
  },
  {
   "cell_type": "code",
   "execution_count": 24,
   "id": "01d56cd4",
   "metadata": {},
   "outputs": [
    {
     "name": "stdout",
     "output_type": "stream",
     "text": [
      "10\n",
      "20\n",
      "I am from Hello classname\n"
     ]
    }
   ],
   "source": [
    "print(Hello.a)\n",
    "print(Hello.b)\n",
    "Hello.display()"
   ]
  },
  {
   "cell_type": "markdown",
   "id": "c1f75136",
   "metadata": {},
   "source": [
    "### Object:\n",
    "        - It is instance of a class.\n",
    "        - it is a blue print of a class.\n",
    "        - it is real time entity.\n",
    "- syntax:\n",
    "- object_name = class_name"
   ]
  },
  {
   "cell_type": "code",
   "execution_count": 25,
   "id": "080c1426",
   "metadata": {},
   "outputs": [
    {
     "data": {
      "text/plain": [
       "300"
      ]
     },
     "execution_count": 25,
     "metadata": {},
     "output_type": "execute_result"
    }
   ],
   "source": [
    "# To access the class elements using object...\n",
    "class Arithmetic:\n",
    "    def addition(n1,n2):\n",
    "        return n1+n2\n",
    "    def multiplication(n1,n2):\n",
    "        return n1*n2\n",
    "    def division(n1,n2):\n",
    "        return n1/n2\n",
    "obj1 = Arithmetic # obj1 -> it is a object variable name..\n",
    "obj1.addition(100,200)"
   ]
  },
  {
   "cell_type": "markdown",
   "id": "225a2ba6",
   "metadata": {},
   "source": [
    "### constructor:\n",
    "- It defined in the class and can we used to initialize the variables.\n",
    "- It is also a method that is called when an object created.\n",
    "- syntax:\n",
    "        class class_name:\n",
    "            def __init__(self):\n",
    "                # block of code\n",
    "- Two types of constructors:\n",
    "- 1. Default Constructor\n",
    "- 2. Parameterized Constructor"
   ]
  },
  {
   "cell_type": "code",
   "execution_count": 26,
   "id": "a881dbcd",
   "metadata": {},
   "outputs": [
    {
     "name": "stdout",
     "output_type": "stream",
     "text": [
      "python\n"
     ]
    }
   ],
   "source": [
    "# 1. default constructor:\n",
    "class Hai:\n",
    "    def __init__(self):\n",
    "        self.name='python'\n",
    "    def display(self):\n",
    "        print(self.name)\n",
    "h = Hai()\n",
    "h.display()"
   ]
  },
  {
   "cell_type": "code",
   "execution_count": 37,
   "id": "6e1104ce",
   "metadata": {},
   "outputs": [
    {
     "name": "stdout",
     "output_type": "stream",
     "text": [
      "10\n",
      "20\n"
     ]
    }
   ],
   "source": [
    "# parameterinzed Constructor:\n",
    "class Sample:\n",
    "    def __init__(self,a,b):\n",
    "        self.n1 = a\n",
    "        self.n2 = b\n",
    "    def show(self):\n",
    "        print(self.n1)\n",
    "        print(self.n2)\n",
    "obj2 = Sample(10,20)\n",
    "obj2.show()"
   ]
  },
  {
   "cell_type": "markdown",
   "id": "55336e8b",
   "metadata": {},
   "source": [
    "#### Inheritance:\n",
    "        - To acquring the properties of parent class to child class.\n",
    "        - Two types of class:\n",
    "        - 1. Base class\n",
    "        - 2. Derived class\n",
    "        - Types of inheritance:\n",
    "        - 1. Single-Level Inheritance\n",
    "        - 2. Multi-level Inheritance\n",
    "        - 3. Multiple Inheritance\n",
    "        - 4. Hirarichel Inheritance\n",
    "        - 5. Hybrid Inheritance"
   ]
  },
  {
   "cell_type": "code",
   "execution_count": 40,
   "id": "5930ad02",
   "metadata": {},
   "outputs": [
    {
     "name": "stdout",
     "output_type": "stream",
     "text": [
      "I am from Parent class\n",
      "I am from child class\n"
     ]
    }
   ],
   "source": [
    "# 1. Single-level Inheritance:\n",
    "# Only one parent and one child..\n",
    "class Parent:\n",
    "    def pdisplay():\n",
    "        print('I am from Parent class')\n",
    "class Child(Parent):\n",
    "    def cdisplay():\n",
    "        print('I am from child class')\n",
    "ch = Child\n",
    "ch.pdisplay()\n",
    "ch.cdisplay()"
   ]
  },
  {
   "cell_type": "code",
   "execution_count": 42,
   "id": "5011a5b0",
   "metadata": {},
   "outputs": [
    {
     "name": "stdout",
     "output_type": "stream",
     "text": [
      "I am from Parent class\n"
     ]
    }
   ],
   "source": [
    "Parent.pdisplay()"
   ]
  },
  {
   "cell_type": "code",
   "execution_count": 46,
   "id": "bb4780ec",
   "metadata": {},
   "outputs": [
    {
     "name": "stdout",
     "output_type": "stream",
     "text": [
      "10\n",
      "i am from parent class.\n",
      "i am child class.\n"
     ]
    }
   ],
   "source": [
    "class Parent:\n",
    "    def __init__(self,n):\n",
    "        self.n=n\n",
    "    def pdisplay(self):\n",
    "        print(self.n)\n",
    "        print(\"i am from parent class.\")\n",
    "class child(Parent):\n",
    "    def cdisplay(self):\n",
    "        print(\"i am child class.\")\n",
    "ch=child(10)\n",
    "ch.pdisplay()\n",
    "ch.cdisplay()"
   ]
  },
  {
   "cell_type": "code",
   "execution_count": null,
   "id": "ca100c23",
   "metadata": {},
   "outputs": [],
   "source": []
  }
 ],
 "metadata": {
  "kernelspec": {
   "display_name": "Python 3",
   "language": "python",
   "name": "python3"
  },
  "language_info": {
   "codemirror_mode": {
    "name": "ipython",
    "version": 3
   },
   "file_extension": ".py",
   "mimetype": "text/x-python",
   "name": "python",
   "nbconvert_exporter": "python",
   "pygments_lexer": "ipython3",
   "version": "3.8.8"
  }
 },
 "nbformat": 4,
 "nbformat_minor": 5
}
