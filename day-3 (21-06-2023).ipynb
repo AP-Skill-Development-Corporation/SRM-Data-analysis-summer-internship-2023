{
 "cells": [
  {
   "cell_type": "markdown",
   "id": "6ffc80d2",
   "metadata": {},
   "source": [
    "### Identity operator  (is, is not)\n",
    "* To test two operands shares an identity\n"
   ]
  },
  {
   "cell_type": "code",
   "execution_count": 1,
   "id": "ada30a22",
   "metadata": {},
   "outputs": [
    {
     "name": "stderr",
     "output_type": "stream",
     "text": [
      "<>:2: SyntaxWarning: \"is\" with a literal. Did you mean \"==\"?\n",
      "<>:2: SyntaxWarning: \"is\" with a literal. Did you mean \"==\"?\n",
      "C:\\Users\\meena\\AppData\\Local\\Temp\\ipykernel_22368\\1855993152.py:2: SyntaxWarning: \"is\" with a literal. Did you mean \"==\"?\n",
      "  x is 90\n"
     ]
    },
    {
     "data": {
      "text/plain": [
       "True"
      ]
     },
     "execution_count": 1,
     "metadata": {},
     "output_type": "execute_result"
    }
   ],
   "source": [
    "x=90\n",
    "x is 90"
   ]
  },
  {
   "cell_type": "code",
   "execution_count": 2,
   "id": "8fd7c630",
   "metadata": {},
   "outputs": [
    {
     "name": "stderr",
     "output_type": "stream",
     "text": [
      "<>:1: SyntaxWarning: \"is not\" with a literal. Did you mean \"!=\"?\n",
      "<>:1: SyntaxWarning: \"is not\" with a literal. Did you mean \"!=\"?\n",
      "C:\\Users\\meena\\AppData\\Local\\Temp\\ipykernel_22368\\773863451.py:1: SyntaxWarning: \"is not\" with a literal. Did you mean \"!=\"?\n",
      "  x is not 90\n"
     ]
    },
    {
     "data": {
      "text/plain": [
       "False"
      ]
     },
     "execution_count": 2,
     "metadata": {},
     "output_type": "execute_result"
    }
   ],
   "source": [
    "x is not 90"
   ]
  },
  {
   "cell_type": "markdown",
   "id": "11e21237",
   "metadata": {},
   "source": [
    "### Membership operator  (in ,not in)\n",
    "\n",
    "* To test whether a value is in the given sequence or not"
   ]
  },
  {
   "cell_type": "code",
   "execution_count": 3,
   "id": "e4325e94",
   "metadata": {},
   "outputs": [
    {
     "name": "stdout",
     "output_type": "stream",
     "text": [
      "True\n"
     ]
    }
   ],
   "source": [
    "name=\"ramya\"\n",
    "print('y' in name)"
   ]
  },
  {
   "cell_type": "code",
   "execution_count": 4,
   "id": "f82f0e0c",
   "metadata": {},
   "outputs": [
    {
     "name": "stdout",
     "output_type": "stream",
     "text": [
      "False\n"
     ]
    }
   ],
   "source": [
    "print('g' in name)"
   ]
  },
  {
   "cell_type": "code",
   "execution_count": 5,
   "id": "f9836a3d",
   "metadata": {},
   "outputs": [
    {
     "name": "stdout",
     "output_type": "stream",
     "text": [
      "True\n"
     ]
    }
   ],
   "source": [
    "print('d' not in name)"
   ]
  },
  {
   "cell_type": "markdown",
   "id": "56a7f7e6",
   "metadata": {},
   "source": [
    "### Conditional statements\n",
    "\n",
    "* helps to decide what the program shouldd do next based upon the given condition\n",
    "* flow of execution\n",
    "* if statement\n",
    "* if else statament\n",
    "* elif statement\n",
    "* Nested if statement\n"
   ]
  },
  {
   "cell_type": "code",
   "execution_count": null,
   "id": "d5421f52",
   "metadata": {},
   "outputs": [],
   "source": [
    "# if\n",
    "if test_expression:\n",
    "    statements"
   ]
  },
  {
   "cell_type": "code",
   "execution_count": 8,
   "id": "da10ee54",
   "metadata": {},
   "outputs": [
    {
     "name": "stdout",
     "output_type": "stream",
     "text": [
      "enter a number: 89\n",
      "positive number\n"
     ]
    }
   ],
   "source": [
    "# Write a program to check whether the given  number is positive or not\n",
    "\n",
    "n=int(input(\"enter a number: \"))\n",
    "if n>0:\n",
    "    print(\"positive number\")\n",
    "    "
   ]
  },
  {
   "cell_type": "code",
   "execution_count": null,
   "id": "203d0b3b",
   "metadata": {},
   "outputs": [],
   "source": [
    "# if - else\n",
    "\n",
    "if condition:\n",
    "    statements\n",
    "else:\n",
    "    statements"
   ]
  },
  {
   "cell_type": "code",
   "execution_count": 9,
   "id": "ffa1de27",
   "metadata": {},
   "outputs": [
    {
     "name": "stdout",
     "output_type": "stream",
     "text": [
      "enter x value: 78.9\n",
      "enter y value: 89.7\n",
      "89.7 is largest number among these\n"
     ]
    }
   ],
   "source": [
    "# write a program to print the largest of given 2 numbers\n",
    "\n",
    "x=float(input(\"enter x value: \"))\n",
    "y=float(input(\"enter y value: \"))\n",
    "if x>y:\n",
    "    print(x,\"is largest number among these\")\n",
    "else:\n",
    "    print(y, \"is largest number among these\")\n",
    "    "
   ]
  },
  {
   "cell_type": "code",
   "execution_count": null,
   "id": "4d4f6f7a",
   "metadata": {},
   "outputs": [],
   "source": [
    "# elif\n",
    "\n",
    "if condition:\n",
    "    statements\n",
    "elif condition:\n",
    "    statements\n",
    "else:\n",
    "    statements"
   ]
  },
  {
   "cell_type": "code",
   "execution_count": 12,
   "id": "7c789060",
   "metadata": {},
   "outputs": [
    {
     "name": "stdout",
     "output_type": "stream",
     "text": [
      "enter a value: -90\n",
      "enter b value: 89\n",
      "enter c value: 78\n",
      "89  is big\n"
     ]
    }
   ],
   "source": [
    "# write a program to check largest number among 3 numbers\n",
    "\n",
    "a=int(input(\"enter a value: \"))\n",
    "b=int(input(\"enter b value: \"))\n",
    "c=int(input(\"enter c value: \"))\n",
    "\n",
    "if a>b and a>c:\n",
    "    print(a,\"is big\")\n",
    "elif b>c:\n",
    "    print(b,\" is big\")\n",
    "else:\n",
    "    print(c, \"is big\")"
   ]
  },
  {
   "cell_type": "markdown",
   "id": "af8d2fd1",
   "metadata": {},
   "source": [
    "### Nested if :\n",
    "* If we write if elif inside another if elif else then it is considered as nested if"
   ]
  },
  {
   "cell_type": "code",
   "execution_count": null,
   "id": "77efd377",
   "metadata": {},
   "outputs": [],
   "source": [
    "if condition:\n",
    "    if condition:\n",
    "        statements\n",
    "    else:\n",
    "        statements\n",
    "else:\n",
    "    statements"
   ]
  },
  {
   "cell_type": "code",
   "execution_count": 16,
   "id": "c770b64c",
   "metadata": {},
   "outputs": [
    {
     "name": "stdout",
     "output_type": "stream",
     "text": [
      "enter a number: -8\n",
      "-8 is negative number\n"
     ]
    }
   ],
   "source": [
    "# write a program to check whether the given number is positive or negative or equals to zero\n",
    "\n",
    "n=int(input(\"enter a number: \"))\n",
    "if n>=0:\n",
    "    if n==0:\n",
    "        print(n,\"equals to zero\")\n",
    "    else:\n",
    "        print(n,\"is positive number\")\n",
    "else:\n",
    "    print(n,\"is negative number\")\n",
    "    \n",
    "    "
   ]
  },
  {
   "cell_type": "markdown",
   "id": "2bc4e410",
   "metadata": {},
   "source": [
    "### LOOPS\n",
    "\n",
    "* while\n",
    "* while with else\n",
    "* Nested while\n",
    "* fotr\n",
    "\n",
    "### loop control stmts\n",
    "* break\n",
    "* continue\n",
    "* pass"
   ]
  },
  {
   "cell_type": "markdown",
   "id": "dca6867b",
   "metadata": {},
   "source": [
    "### while\n",
    "\n",
    "* It executes block or set of instructions until the condition is false\n",
    "* we can use this loop when we dont know number of iterations inadvance"
   ]
  },
  {
   "cell_type": "markdown",
   "id": "06f75466",
   "metadata": {},
   "source": [
    "### while syntax:\n",
    "\n",
    "* initialization\n",
    "* while condition:\n",
    "    * statements\n",
    "    * increment/decrement"
   ]
  },
  {
   "cell_type": "code",
   "execution_count": 22,
   "id": "2c10d9ca",
   "metadata": {},
   "outputs": [
    {
     "name": "stdout",
     "output_type": "stream",
     "text": [
      "1 2 3 4 5 6 7 8 9 10 "
     ]
    }
   ],
   "source": [
    "# write a program to print 1 to 10 natural numbers\n",
    "\n",
    "i=1\n",
    "while i<=10:\n",
    "    print(i,end=\" \")\n",
    "    i+=1   "
   ]
  },
  {
   "cell_type": "code",
   "execution_count": 23,
   "id": "d38d9b3d",
   "metadata": {},
   "outputs": [
    {
     "name": "stdout",
     "output_type": "stream",
     "text": [
      "10 9 8 7 6 5 4 3 2 1 "
     ]
    }
   ],
   "source": [
    "# 10 9 8 7...........1\n",
    "\n",
    "i=10\n",
    "while i>=1:\n",
    "    print(i,end=\" \")\n",
    "    i=i-1"
   ]
  },
  {
   "cell_type": "code",
   "execution_count": 26,
   "id": "432d03a3",
   "metadata": {},
   "outputs": [
    {
     "name": "stdout",
     "output_type": "stream",
     "text": [
      "enter a number: 6\n",
      "sum  is:  21\n"
     ]
    }
   ],
   "source": [
    "# write a program to find sum of n natural numbers\n",
    "\n",
    "# i/p: n=4  \n",
    "# o/p: 10   # 4+3+2+1\n",
    "\n",
    "n=int(input(\"enter a number: \"))\n",
    "sum=0\n",
    "i=1\n",
    "while i<=n:\n",
    "    sum=sum+i  #0+1 sum=1  # sum=1+2 \n",
    "    i=i+1\n",
    "    \n",
    "print(\"sum  is: \",sum)"
   ]
  },
  {
   "cell_type": "code",
   "execution_count": null,
   "id": "d08551bb",
   "metadata": {},
   "outputs": [],
   "source": [
    "# 11 21 31 41 51 61 71 81...101"
   ]
  }
 ],
 "metadata": {
  "kernelspec": {
   "display_name": "Python 3 (ipykernel)",
   "language": "python",
   "name": "python3"
  },
  "language_info": {
   "codemirror_mode": {
    "name": "ipython",
    "version": 3
   },
   "file_extension": ".py",
   "mimetype": "text/x-python",
   "name": "python",
   "nbconvert_exporter": "python",
   "pygments_lexer": "ipython3",
   "version": "3.9.13"
  }
 },
 "nbformat": 4,
 "nbformat_minor": 5
}
